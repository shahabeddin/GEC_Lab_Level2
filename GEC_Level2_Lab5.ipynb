{
 "cells": [
  {
   "cell_type": "markdown",
   "metadata": {},
   "source": [
    "# GEC Data Science Program\n",
    "## Level 2: Lab 5"
   ]
  },
  {
   "cell_type": "markdown",
   "metadata": {},
   "source": [
    "<div id=\"toc\"><ul class=\"toc\"><li><a href=\"#Working-with-Time-Series-Data\">I. Working with Time Series Data</a><a class=\"anchor-link\" href=\"#Working-with-Time-Series-Data\">¶</a></li><ul class=\"toc\"><li><a href=\"#Data%3A-Airline-Monthly-Traffic-Data\">I. Data: Airline Monthly Traffic Data</a><a class=\"anchor-link\" href=\"#Data:-Airline-Monthly-Traffic-Data\">¶</a></li></ul><li><a href=\"#Q%3A-If-we-have-a-time-series-data%2C-how-can-we-predict-the-future-values%3F\">II. Q: If we have a time series data, how can we predict the future values?</a><a class=\"anchor-link\" href=\"#Q:-If-we-have-a-time-series-data,-how-can-we-predict-the-future-values?\">¶</a></li><ul class=\"toc\"><li><a href=\"#Q%3A-How-should-we-split-time-series-data-into-train-and-test-sets%3F\">I. Q: How should we split time-series data into train and test sets?</a><a class=\"anchor-link\" href=\"#Q:-How-should-we-split-time-series-data-into-train-and-test-sets?\">¶</a></li></ul><li><a href=\"#Let's-train-a-simple-model-on-this-transformed-data%3A\">III. Let's train a simple model on this transformed data:</a><a class=\"anchor-link\" href=\"#Let's-train-a-simple-model-on-this-transformed-data:\">¶</a></li></ul><li><a href=\"#Recurrent-Neural-Networks\">II. Recurrent Neural Networks</a><a class=\"anchor-link\" href=\"#Recurrent-Neural-Networks\">¶</a></li><ul class=\"toc\"><li><a href=\"#Long-Term-Short-Term-Memory-(LSTM)\">I. Long-Term Short-Term Memory (LSTM)</a><a class=\"anchor-link\" href=\"#Long-Term-Short-Term-Memory-(LSTM)\">¶</a></li><ul class=\"toc\"><li><a href=\"#LSTM-for-flight-data\">I. LSTM for flight data</a><a class=\"anchor-link\" href=\"#LSTM-for-flight-data\">¶</a></li></ul><li><a href=\"#Q%3A-Is-it-over-fitted-or-under-fitted%3F-How-do-we-find-out%3F\">II. Q: Is it over-fitted or under-fitted? How do we find out?</a><a class=\"anchor-link\" href=\"#Q:-Is-it-over-fitted-or-under-fitted?-How-do-we-find-out?\">¶</a></li><li><a href=\"#Let's-predict%3A\">III. Let's predict:</a><a class=\"anchor-link\" href=\"#Let's-predict:\">¶</a></li><li><a href=\"#Stacking-multiple-LSTM-Layers\">IV. Stacking multiple LSTM Layers</a><a class=\"anchor-link\" href=\"#Stacking-multiple-LSTM-Layers\">¶</a></li><li><a href=\"#Statefull-LSTM\">V. Statefull LSTM</a><a class=\"anchor-link\" href=\"#Statefull-LSTM\">¶</a></li><ul class=\"toc\"><li><a href=\"#Q%3A-Fix-the-error%3A\">I. Q: Fix the error:</a><a class=\"anchor-link\" href=\"#Q:-Fix-the-error:\">¶</a></li><li><a href=\"#Q%3A-Fix-the-error%3A\">II. Q: Fix the error:</a><a class=\"anchor-link\" href=\"#Q:-Fix-the-error:\">¶</a></li></ul><li><a href=\"#Transform-Time-Series-to-Stationary\">VI. Transform Time Series to Stationary</a><a class=\"anchor-link\" href=\"#Transform-Time-Series-to-Stationary\">¶</a></li></ul><li><a href=\"#Video-classification-methods\">III. Video classification methods</a><a class=\"anchor-link\" href=\"#Video-classification-methods\">¶</a></li></ul></ul></div>"
   ]
  },
  {
   "cell_type": "markdown",
   "metadata": {},
   "source": [
    "### Working with Time Series Data"
   ]
  },
  {
   "cell_type": "markdown",
   "metadata": {},
   "source": [
    "#### Data: Airline Monthly Traffic Data"
   ]
  },
  {
   "cell_type": "markdown",
   "metadata": {},
   "source": [
    "https://datamarket.com/data/set/22u3/international-airline-passengers-monthly-totals-in-thousands-jan-49-dec-60"
   ]
  },
  {
   "cell_type": "code",
   "execution_count": 62,
   "metadata": {},
   "outputs": [],
   "source": [
    "from __future__ import division\n",
    "import numpy as np\n",
    "import matplotlib.pyplot as plt\n",
    "import pandas as pd\n",
    "import math\n",
    "from keras.models import Sequential\n",
    "from keras.layers import Dense\n",
    "from keras.layers import LSTM\n",
    "from sklearn.preprocessing import MinMaxScaler\n",
    "from sklearn import metrics "
   ]
  },
  {
   "cell_type": "code",
   "execution_count": 63,
   "metadata": {},
   "outputs": [],
   "source": [
    "import keras"
   ]
  },
  {
   "cell_type": "code",
   "execution_count": 64,
   "metadata": {
    "collapsed": true
   },
   "outputs": [],
   "source": [
    "from sklearn.linear_model import LinearRegression\n",
    "from sklearn.ensemble import RandomForestRegressor"
   ]
  },
  {
   "cell_type": "code",
   "execution_count": 65,
   "metadata": {
    "collapsed": true
   },
   "outputs": [],
   "source": [
    "from sklearn.model_selection import train_test_split"
   ]
  },
  {
   "cell_type": "code",
   "execution_count": 66,
   "metadata": {
    "collapsed": true
   },
   "outputs": [],
   "source": [
    "%matplotlib inline\n",
    "#import pandas\n",
    "import matplotlib.pyplot as plt"
   ]
  },
  {
   "cell_type": "code",
   "execution_count": 67,
   "metadata": {
    "collapsed": true
   },
   "outputs": [],
   "source": [
    "def split_fit_predict(model, data, predictors, target, split_test_size=0.3):\n",
    "    \"\"\"\n",
    "    1. Split 'data[predictors]','data[target] into train and test using 'split_test_size' ratio\n",
    "    2. Fit 'model' using training data\n",
    "    3. Predict against test data\n",
    "    \"\"\"\n",
    "    if split_test_size == 0:\n",
    "        df_train = data\n",
    "        df_test = None\n",
    "    else:\n",
    "        df_train, df_test = train_test_split(data, test_size=split_test_size)\n",
    "    X_train=df_train[predictors]\n",
    "    X_test=df_test[predictors] if df_test else None\n",
    "    y_train=df_train[target]\n",
    "    y_test=df_test[target] if df_test else None\n",
    "    model.fit(X_train,y_train)\n",
    "    y_pred=model.predict(X_test) if df_test else None\n",
    "    y_fit=model.predict(X_train)\n",
    "    return y_pred, y_test, y_fit"
   ]
  },
  {
   "cell_type": "code",
   "execution_count": 68,
   "metadata": {},
   "outputs": [
    {
     "name": "stderr",
     "output_type": "stream",
     "text": [
      "/Users/shahab/anaconda/lib/python2.7/site-packages/ipykernel_launcher.py:2: ParserWarning: Falling back to the 'python' engine because the 'c' engine does not support skipfooter; you can avoid this warning by specifying engine='python'.\n",
      "  \n"
     ]
    }
   ],
   "source": [
    "dataset = pd.read_csv('/Users/shahab/Downloads/international-airline-passengers.csv', \n",
    "                          index_col=0, skipfooter=3)"
   ]
  },
  {
   "cell_type": "code",
   "execution_count": 70,
   "metadata": {
    "collapsed": true
   },
   "outputs": [],
   "source": [
    "dataset.columns=[\"passengers\"]"
   ]
  },
  {
   "cell_type": "code",
   "execution_count": 71,
   "metadata": {},
   "outputs": [
    {
     "data": {
      "text/html": [
       "<div>\n",
       "<style>\n",
       "    .dataframe thead tr:only-child th {\n",
       "        text-align: right;\n",
       "    }\n",
       "\n",
       "    .dataframe thead th {\n",
       "        text-align: left;\n",
       "    }\n",
       "\n",
       "    .dataframe tbody tr th {\n",
       "        vertical-align: top;\n",
       "    }\n",
       "</style>\n",
       "<table border=\"1\" class=\"dataframe\">\n",
       "  <thead>\n",
       "    <tr style=\"text-align: right;\">\n",
       "      <th></th>\n",
       "      <th>passengers</th>\n",
       "    </tr>\n",
       "    <tr>\n",
       "      <th>Month</th>\n",
       "      <th></th>\n",
       "    </tr>\n",
       "  </thead>\n",
       "  <tbody>\n",
       "    <tr>\n",
       "      <th>1949-01</th>\n",
       "      <td>112</td>\n",
       "    </tr>\n",
       "    <tr>\n",
       "      <th>1949-02</th>\n",
       "      <td>118</td>\n",
       "    </tr>\n",
       "    <tr>\n",
       "      <th>1949-03</th>\n",
       "      <td>132</td>\n",
       "    </tr>\n",
       "    <tr>\n",
       "      <th>1949-04</th>\n",
       "      <td>129</td>\n",
       "    </tr>\n",
       "    <tr>\n",
       "      <th>1949-05</th>\n",
       "      <td>121</td>\n",
       "    </tr>\n",
       "  </tbody>\n",
       "</table>\n",
       "</div>"
      ],
      "text/plain": [
       "         passengers\n",
       "Month              \n",
       "1949-01         112\n",
       "1949-02         118\n",
       "1949-03         132\n",
       "1949-04         129\n",
       "1949-05         121"
      ]
     },
     "execution_count": 71,
     "metadata": {},
     "output_type": "execute_result"
    }
   ],
   "source": [
    "dataset.head()"
   ]
  },
  {
   "cell_type": "code",
   "execution_count": 72,
   "metadata": {},
   "outputs": [
    {
     "name": "stderr",
     "output_type": "stream",
     "text": [
      "/Users/shahab/anaconda/lib/python2.7/site-packages/ipykernel_launcher.py:1: FutureWarning: to_datetime is deprecated. Use pd.to_datetime(...)\n",
      "  \"\"\"Entry point for launching an IPython kernel.\n"
     ]
    }
   ],
   "source": [
    "dataset.index=dataset.index.to_datetime()"
   ]
  },
  {
   "cell_type": "code",
   "execution_count": 73,
   "metadata": {},
   "outputs": [
    {
     "data": {
      "image/png": "[encoded data removed]",
      "text/plain": [
       "<matplotlib.figure.Figure at 0x126f01c50>"
      ]
     },
     "metadata": {},
     "output_type": "display_data"
    }
   ],
   "source": [
    "plt.plot(dataset);"
   ]
  },
  {
   "cell_type": "code",
   "execution_count": 74,
   "metadata": {
    "collapsed": true
   },
   "outputs": [],
   "source": [
    "# normalize the dataset\n",
    "scaler = MinMaxScaler(feature_range=(0, 1))\n",
    "dataset_n = scaler.fit_transform(dataset)"
   ]
  },
  {
   "cell_type": "markdown",
   "metadata": {},
   "source": [
    "### Q: If we have a time series data, how can we predict the future values?"
   ]
  },
  {
   "cell_type": "markdown",
   "metadata": {},
   "source": [
    "Let's say we have:\n",
    "$t=[1, 2, 3, 4, 5, 6, 7, 8, 9]$"
   ]
  },
  {
   "cell_type": "markdown",
   "metadata": {},
   "source": [
    "We can transform $t$ like this: \n",
    "\n",
    "For each value of $t$ we look at $n$ previous values (look-back), and create a feature matrix.\n",
    "\n",
    "With look-back = 3:"
   ]
  },
  {
   "cell_type": "markdown",
   "metadata": {},
   "source": [
    "$[1,2,3]->4$\n",
    "\n",
    "$[2,3,4]->5$\n",
    "\n",
    "$[3,4,5]->6$\n",
    "\n",
    "$[4,5,6]->7$\n",
    "\n",
    "$[5,6,7]->8$\n",
    "\n",
    "$[6,7,8]->9$\n",
    "\n",
    "$X=\n",
    "\\left(\\begin{array}{cc} \n",
    "1 & 2 & 3\\\\\n",
    "2 & 3 & 4\\\\\n",
    "3 & 4 & 5\\\\\n",
    "4 & 5 & 6\\\\\n",
    "5 & 6 & 7\\\\\n",
    "6 & 7 & 8\\\\\n",
    "\\end{array}\\right)\n",
    "$\n",
    "$\n",
    "y=\\left(\\begin{array}{cc}\n",
    "4\\\\\n",
    "5\\\\\n",
    "6\\\\\n",
    "7\\\\\n",
    "8\\\\\n",
    "9\\\\\n",
    "\\end{array}\\right)\n",
    "$\n",
    "\n",
    "Now we can train a model using feature matrix $X$ and labels $y$. Then to predict the next value we use input vector $x=[7,8,9]$."
   ]
  },
  {
   "cell_type": "code",
   "execution_count": 75,
   "metadata": {
    "collapsed": true
   },
   "outputs": [],
   "source": [
    "# convert an array of values into a look-back dataset matrix\n",
    "def timeseries_to_matrix(timeseries, look_back=1):\n",
    "    dataX, dataY = [], []\n",
    "    for i in range(len(timeseries)-look_back):\n",
    "        a = timeseries[i:(i+look_back)]\n",
    "        dataX.append(a)\n",
    "        dataY.append(timeseries[i + look_back])\n",
    "    return np.array(dataX), np.array(dataY)"
   ]
  },
  {
   "cell_type": "code",
   "execution_count": 78,
   "metadata": {},
   "outputs": [
    {
     "data": {
      "text/plain": [
       "(array([[1, 2, 3],\n",
       "        [2, 3, 4],\n",
       "        [3, 4, 5],\n",
       "        [4, 5, 6],\n",
       "        [5, 6, 7],\n",
       "        [6, 7, 8]]), array([4, 5, 6, 7, 8, 9]))"
      ]
     },
     "execution_count": 78,
     "metadata": {},
     "output_type": "execute_result"
    }
   ],
   "source": [
    "t=range(1,10)\n",
    "timeseries_to_matrix(t,look_back=3)"
   ]
  },
  {
   "cell_type": "code",
   "execution_count": 79,
   "metadata": {
    "collapsed": true
   },
   "outputs": [],
   "source": [
    "look_back=5\n",
    "X, y = timeseries_to_matrix(dataset_n[:,0], look_back)\n",
    "#testX_r, testY_r = timeseries_to_matrix(test, look_back=5)"
   ]
  },
  {
   "cell_type": "code",
   "execution_count": 80,
   "metadata": {},
   "outputs": [
    {
     "data": {
      "text/plain": [
       "array([[ 0.01544402,  0.02702703,  0.05405405,  0.04826255,  0.03281853],\n",
       "       [ 0.02702703,  0.05405405,  0.04826255,  0.03281853,  0.05984556],\n",
       "       [ 0.05405405,  0.04826255,  0.03281853,  0.05984556,  0.08494208],\n",
       "       [ 0.04826255,  0.03281853,  0.05984556,  0.08494208,  0.08494208],\n",
       "       [ 0.03281853,  0.05984556,  0.08494208,  0.08494208,  0.06177606],\n",
       "       [ 0.05984556,  0.08494208,  0.08494208,  0.06177606,  0.02895753],\n",
       "       [ 0.08494208,  0.08494208,  0.06177606,  0.02895753,  0.        ],\n",
       "       [ 0.08494208,  0.06177606,  0.02895753,  0.        ,  0.02702703],\n",
       "       [ 0.06177606,  0.02895753,  0.        ,  0.02702703,  0.02123552],\n",
       "       [ 0.02895753,  0.        ,  0.02702703,  0.02123552,  0.04247104],\n",
       "       [ 0.        ,  0.02702703,  0.02123552,  0.04247104,  0.07142857],\n",
       "       [ 0.02702703,  0.02123552,  0.04247104,  0.07142857,  0.05984556],\n",
       "       [ 0.02123552,  0.04247104,  0.07142857,  0.05984556,  0.04054054],\n",
       "       [ 0.04247104,  0.07142857,  0.05984556,  0.04054054,  0.08687259],\n",
       "       [ 0.07142857,  0.05984556,  0.04054054,  0.08687259,  0.12741313],\n",
       "       [ 0.05984556,  0.04054054,  0.08687259,  0.12741313,  0.12741313],\n",
       "       [ 0.04054054,  0.08687259,  0.12741313,  0.12741313,  0.1042471 ],\n",
       "       [ 0.08687259,  0.12741313,  0.12741313,  0.1042471 ,  0.05598456],\n",
       "       [ 0.12741313,  0.12741313,  0.1042471 ,  0.05598456,  0.01930502],\n",
       "       [ 0.12741313,  0.1042471 ,  0.05598456,  0.01930502,  0.06949807],\n",
       "       [ 0.1042471 ,  0.05598456,  0.01930502,  0.06949807,  0.07915058],\n",
       "       [ 0.05598456,  0.01930502,  0.06949807,  0.07915058,  0.08880309],\n",
       "       [ 0.01930502,  0.06949807,  0.07915058,  0.08880309,  0.14285714],\n",
       "       [ 0.06949807,  0.07915058,  0.08880309,  0.14285714,  0.11389961],\n",
       "       [ 0.07915058,  0.08880309,  0.14285714,  0.11389961,  0.13127413],\n",
       "       [ 0.08880309,  0.14285714,  0.11389961,  0.13127413,  0.14285714],\n",
       "       [ 0.14285714,  0.11389961,  0.13127413,  0.14285714,  0.18339768],\n",
       "       [ 0.11389961,  0.13127413,  0.14285714,  0.18339768,  0.18339768],\n",
       "       [ 0.13127413,  0.14285714,  0.18339768,  0.18339768,  0.15444015],\n",
       "       [ 0.14285714,  0.18339768,  0.18339768,  0.15444015,  0.11196911],\n",
       "       [ 0.18339768,  0.18339768,  0.15444015,  0.11196911,  0.08108108],\n",
       "       [ 0.18339768,  0.15444015,  0.11196911,  0.08108108,  0.11969112],\n",
       "       [ 0.15444015,  0.11196911,  0.08108108,  0.11969112,  0.12934363],\n",
       "       [ 0.11196911,  0.08108108,  0.11969112,  0.12934363,  0.14671815],\n",
       "       [ 0.08108108,  0.11969112,  0.12934363,  0.14671815,  0.17181467],\n",
       "       [ 0.11969112,  0.12934363,  0.14671815,  0.17181467,  0.14864865],\n",
       "       [ 0.12934363,  0.14671815,  0.17181467,  0.14864865,  0.15250965],\n",
       "       [ 0.14671815,  0.17181467,  0.14864865,  0.15250965,  0.22007722],\n",
       "       [ 0.17181467,  0.14864865,  0.15250965,  0.22007722,  0.24324324],\n",
       "       [ 0.14864865,  0.15250965,  0.22007722,  0.24324324,  0.26640927],\n",
       "       [ 0.15250965,  0.22007722,  0.24324324,  0.26640927,  0.2027027 ],\n",
       "       [ 0.22007722,  0.24324324,  0.26640927,  0.2027027 ,  0.16795367],\n",
       "       [ 0.24324324,  0.26640927,  0.2027027 ,  0.16795367,  0.13127413],\n",
       "       [ 0.26640927,  0.2027027 ,  0.16795367,  0.13127413,  0.17374517],\n",
       "       [ 0.2027027 ,  0.16795367,  0.13127413,  0.17374517,  0.17760618],\n",
       "       [ 0.16795367,  0.13127413,  0.17374517,  0.17760618,  0.17760618],\n",
       "       [ 0.13127413,  0.17374517,  0.17760618,  0.17760618,  0.25482625],\n",
       "       [ 0.17374517,  0.17760618,  0.17760618,  0.25482625,  0.25289575],\n",
       "       [ 0.17760618,  0.17760618,  0.25482625,  0.25289575,  0.24131274],\n",
       "       [ 0.17760618,  0.25482625,  0.25289575,  0.24131274,  0.26833977],\n",
       "       [ 0.25482625,  0.25289575,  0.24131274,  0.26833977,  0.30888031],\n",
       "       [ 0.25289575,  0.24131274,  0.26833977,  0.30888031,  0.32432432],\n",
       "       [ 0.24131274,  0.26833977,  0.30888031,  0.32432432,  0.25675676],\n",
       "       [ 0.26833977,  0.30888031,  0.32432432,  0.25675676,  0.20656371],\n",
       "       [ 0.30888031,  0.32432432,  0.25675676,  0.20656371,  0.14671815],\n",
       "       [ 0.32432432,  0.25675676,  0.20656371,  0.14671815,  0.18725869],\n",
       "       [ 0.25675676,  0.20656371,  0.14671815,  0.18725869,  0.19305019],\n",
       "       [ 0.20656371,  0.14671815,  0.18725869,  0.19305019,  0.16216216],\n",
       "       [ 0.14671815,  0.18725869,  0.19305019,  0.16216216,  0.25289575],\n",
       "       [ 0.18725869,  0.19305019,  0.16216216,  0.25289575,  0.23745174],\n",
       "       [ 0.19305019,  0.16216216,  0.25289575,  0.23745174,  0.25096525],\n",
       "       [ 0.16216216,  0.25289575,  0.23745174,  0.25096525,  0.30888031],\n",
       "       [ 0.25289575,  0.23745174,  0.25096525,  0.30888031,  0.38223938],\n",
       "       [ 0.23745174,  0.25096525,  0.30888031,  0.38223938,  0.36486486],\n",
       "       [ 0.25096525,  0.30888031,  0.38223938,  0.36486486,  0.2992278 ],\n",
       "       [ 0.30888031,  0.38223938,  0.36486486,  0.2992278 ,  0.24131274],\n",
       "       [ 0.38223938,  0.36486486,  0.2992278 ,  0.24131274,  0.19111969],\n",
       "       [ 0.36486486,  0.2992278 ,  0.24131274,  0.19111969,  0.24131274],\n",
       "       [ 0.2992278 ,  0.24131274,  0.19111969,  0.24131274,  0.26640927],\n",
       "       [ 0.24131274,  0.19111969,  0.24131274,  0.26640927,  0.24903475],\n",
       "       [ 0.19111969,  0.24131274,  0.26640927,  0.24903475,  0.31467181],\n",
       "       [ 0.24131274,  0.26640927,  0.24903475,  0.31467181,  0.31853282],\n",
       "       [ 0.26640927,  0.24903475,  0.31467181,  0.31853282,  0.32046332],\n",
       "       [ 0.24903475,  0.31467181,  0.31853282,  0.32046332,  0.40733591],\n",
       "       [ 0.31467181,  0.31853282,  0.32046332,  0.40733591,  0.5019305 ],\n",
       "       [ 0.31853282,  0.32046332,  0.40733591,  0.5019305 ,  0.46911197],\n",
       "       [ 0.32046332,  0.40733591,  0.5019305 ,  0.46911197,  0.4015444 ],\n",
       "       [ 0.40733591,  0.5019305 ,  0.46911197,  0.4015444 ,  0.32818533],\n",
       "       [ 0.5019305 ,  0.46911197,  0.4015444 ,  0.32818533,  0.25675676],\n",
       "       [ 0.46911197,  0.4015444 ,  0.32818533,  0.25675676,  0.33590734],\n",
       "       [ 0.4015444 ,  0.32818533,  0.25675676,  0.33590734,  0.34749035],\n",
       "       [ 0.32818533,  0.25675676,  0.33590734,  0.34749035,  0.33397683],\n",
       "       [ 0.25675676,  0.33590734,  0.34749035,  0.33397683,  0.41119691],\n",
       "       [ 0.33590734,  0.34749035,  0.33397683,  0.41119691,  0.4034749 ],\n",
       "       [ 0.34749035,  0.33397683,  0.41119691,  0.4034749 ,  0.41312741],\n",
       "       [ 0.33397683,  0.41119691,  0.4034749 ,  0.41312741,  0.52123552],\n",
       "       [ 0.41119691,  0.4034749 ,  0.41312741,  0.52123552,  0.5965251 ],\n",
       "       [ 0.4034749 ,  0.41312741,  0.52123552,  0.5965251 ,  0.58108108],\n",
       "       [ 0.41312741,  0.52123552,  0.5965251 ,  0.58108108,  0.48455598],\n",
       "       [ 0.52123552,  0.5965251 ,  0.58108108,  0.48455598,  0.38996139],\n",
       "       [ 0.5965251 ,  0.58108108,  0.48455598,  0.38996139,  0.32239382],\n",
       "       [ 0.58108108,  0.48455598,  0.38996139,  0.32239382,  0.38996139],\n",
       "       [ 0.48455598,  0.38996139,  0.32239382,  0.38996139,  0.40733591],\n",
       "       [ 0.38996139,  0.32239382,  0.38996139,  0.40733591,  0.38030888],\n",
       "       [ 0.32239382,  0.38996139,  0.40733591,  0.38030888,  0.48648649],\n",
       "       [ 0.38996139,  0.40733591,  0.38030888,  0.48648649,  0.47104247],\n",
       "       [ 0.40733591,  0.38030888,  0.48648649,  0.47104247,  0.48455598],\n",
       "       [ 0.38030888,  0.48648649,  0.47104247,  0.48455598,  0.61389961],\n",
       "       [ 0.48648649,  0.47104247,  0.48455598,  0.61389961,  0.6969112 ],\n",
       "       [ 0.47104247,  0.48455598,  0.61389961,  0.6969112 ,  0.7007722 ],\n",
       "       [ 0.48455598,  0.61389961,  0.6969112 ,  0.7007722 ,  0.57915058],\n",
       "       [ 0.61389961,  0.6969112 ,  0.7007722 ,  0.57915058,  0.46911197],\n",
       "       [ 0.6969112 ,  0.7007722 ,  0.57915058,  0.46911197,  0.38803089],\n",
       "       [ 0.7007722 ,  0.57915058,  0.46911197,  0.38803089,  0.44787645],\n",
       "       [ 0.57915058,  0.46911197,  0.38803089,  0.44787645,  0.45559846],\n",
       "       [ 0.46911197,  0.38803089,  0.44787645,  0.45559846,  0.41312741],\n",
       "       [ 0.38803089,  0.44787645,  0.45559846,  0.41312741,  0.4980695 ],\n",
       "       [ 0.44787645,  0.45559846,  0.41312741,  0.4980695 ,  0.47104247],\n",
       "       [ 0.45559846,  0.41312741,  0.4980695 ,  0.47104247,  0.5       ],\n",
       "       [ 0.41312741,  0.4980695 ,  0.47104247,  0.5       ,  0.63899614],\n",
       "       [ 0.4980695 ,  0.47104247,  0.5       ,  0.63899614,  0.74710425],\n",
       "       [ 0.47104247,  0.5       ,  0.63899614,  0.74710425,  0.77413127],\n",
       "       [ 0.5       ,  0.63899614,  0.74710425,  0.77413127,  0.57915058],\n",
       "       [ 0.63899614,  0.74710425,  0.77413127,  0.57915058,  0.49227799],\n",
       "       [ 0.74710425,  0.77413127,  0.57915058,  0.49227799,  0.3976834 ],\n",
       "       [ 0.77413127,  0.57915058,  0.49227799,  0.3976834 ,  0.44980695],\n",
       "       [ 0.57915058,  0.49227799,  0.3976834 ,  0.44980695,  0.49420849],\n",
       "       [ 0.49227799,  0.3976834 ,  0.44980695,  0.49420849,  0.45945946],\n",
       "       [ 0.3976834 ,  0.44980695,  0.49420849,  0.45945946,  0.58301158],\n",
       "       [ 0.44980695,  0.49420849,  0.45945946,  0.58301158,  0.56370656],\n",
       "       [ 0.49420849,  0.45945946,  0.58301158,  0.56370656,  0.61003861],\n",
       "       [ 0.45945946,  0.58301158,  0.56370656,  0.61003861,  0.71042471],\n",
       "       [ 0.58301158,  0.56370656,  0.61003861,  0.71042471,  0.85714286],\n",
       "       [ 0.56370656,  0.61003861,  0.71042471,  0.85714286,  0.87837838],\n",
       "       [ 0.61003861,  0.71042471,  0.85714286,  0.87837838,  0.69305019],\n",
       "       [ 0.71042471,  0.85714286,  0.87837838,  0.69305019,  0.58494208],\n",
       "       [ 0.85714286,  0.87837838,  0.69305019,  0.58494208,  0.4980695 ],\n",
       "       [ 0.87837838,  0.69305019,  0.58494208,  0.4980695 ,  0.58108108],\n",
       "       [ 0.69305019,  0.58494208,  0.4980695 ,  0.58108108,  0.6042471 ],\n",
       "       [ 0.58494208,  0.4980695 ,  0.58108108,  0.6042471 ,  0.55405405],\n",
       "       [ 0.4980695 ,  0.58108108,  0.6042471 ,  0.55405405,  0.60810811],\n",
       "       [ 0.58108108,  0.6042471 ,  0.55405405,  0.60810811,  0.68918919],\n",
       "       [ 0.6042471 ,  0.55405405,  0.60810811,  0.68918919,  0.71042471],\n",
       "       [ 0.55405405,  0.60810811,  0.68918919,  0.71042471,  0.83204633],\n",
       "       [ 0.60810811,  0.68918919,  0.71042471,  0.83204633,  1.        ],\n",
       "       [ 0.68918919,  0.71042471,  0.83204633,  1.        ,  0.96911197],\n",
       "       [ 0.71042471,  0.83204633,  1.        ,  0.96911197,  0.77992278],\n",
       "       [ 0.83204633,  1.        ,  0.96911197,  0.77992278,  0.68918919],\n",
       "       [ 1.        ,  0.96911197,  0.77992278,  0.68918919,  0.55212355]])"
      ]
     },
     "execution_count": 80,
     "metadata": {},
     "output_type": "execute_result"
    }
   ],
   "source": [
    "X"
   ]
  },
  {
   "cell_type": "markdown",
   "metadata": {},
   "source": [
    "#### Q: How should we split time-series data into train and test sets?"
   ]
  },
  {
   "cell_type": "code",
   "execution_count": 81,
   "metadata": {
    "collapsed": true
   },
   "outputs": [],
   "source": [
    "train_size = int(len(dataset) * 0.9)\n",
    "test_size = len(dataset) - train_size"
   ]
  },
  {
   "cell_type": "code",
   "execution_count": 83,
   "metadata": {},
   "outputs": [
    {
     "data": {
      "text/plain": [
       "(129, 15)"
      ]
     },
     "execution_count": 83,
     "metadata": {},
     "output_type": "execute_result"
    }
   ],
   "source": [
    "train_size, test_size"
   ]
  },
  {
   "cell_type": "code",
   "execution_count": 84,
   "metadata": {
    "collapsed": true
   },
   "outputs": [],
   "source": [
    "X_train = X[:train_size]\n",
    "X_test = X[train_size:]\n",
    "\n",
    "y_train = y[:train_size]\n",
    "y_test = y[train_size:]"
   ]
  },
  {
   "cell_type": "code",
   "execution_count": 85,
   "metadata": {},
   "outputs": [
    {
     "data": {
      "text/plain": [
       "((129, 5), (129,))"
      ]
     },
     "execution_count": 85,
     "metadata": {},
     "output_type": "execute_result"
    }
   ],
   "source": [
    "X_train.shape, y_train.shape"
   ]
  },
  {
   "cell_type": "code",
   "execution_count": 86,
   "metadata": {},
   "outputs": [
    {
     "data": {
      "text/plain": [
       "((10, 5), (10,))"
      ]
     },
     "execution_count": 86,
     "metadata": {},
     "output_type": "execute_result"
    }
   ],
   "source": [
    "X_test.shape, y_test.shape"
   ]
  },
  {
   "cell_type": "markdown",
   "metadata": {},
   "source": [
    "Also create arrays for date-time values"
   ]
  },
  {
   "cell_type": "code",
   "execution_count": 89,
   "metadata": {},
   "outputs": [
    {
     "data": {
      "text/plain": [
       "(144, 1)"
      ]
     },
     "execution_count": 89,
     "metadata": {},
     "output_type": "execute_result"
    }
   ],
   "source": [
    "dataset.shape"
   ]
  },
  {
   "cell_type": "code",
   "execution_count": 87,
   "metadata": {},
   "outputs": [],
   "source": [
    "T_train = dataset.index[look_back:train_size+look_back]\n",
    "T_test = dataset.index[train_size+look_back:]"
   ]
  },
  {
   "cell_type": "code",
   "execution_count": 90,
   "metadata": {},
   "outputs": [
    {
     "data": {
      "text/plain": [
       "((129,), (10,))"
      ]
     },
     "execution_count": 90,
     "metadata": {},
     "output_type": "execute_result"
    }
   ],
   "source": [
    "T_train.shape, T_test.shape"
   ]
  },
  {
   "cell_type": "markdown",
   "metadata": {
    "scrolled": true
   },
   "source": [
    "### Let's train a simple model on this transformed data:"
   ]
  },
  {
   "cell_type": "code",
   "execution_count": 91,
   "metadata": {
    "collapsed": true
   },
   "outputs": [],
   "source": [
    "rf = RandomForestRegressor()\n",
    "lr = LinearRegression()"
   ]
  },
  {
   "cell_type": "code",
   "execution_count": 92,
   "metadata": {
    "collapsed": true
   },
   "outputs": [],
   "source": [
    "rf.fit(X_train,y_train)\n",
    "y_pred_rf=rf.predict(X_test)\n",
    "y_fit_rf=rf.predict(X_train)"
   ]
  },
  {
   "cell_type": "code",
   "execution_count": 93,
   "metadata": {},
   "outputs": [],
   "source": [
    "lr.fit(X_train,y_train)\n",
    "y_pred_lr = lr.predict(X_test)\n",
    "y_fit_lr = lr.predict(X_train)"
   ]
  },
  {
   "cell_type": "code",
   "execution_count": 94,
   "metadata": {},
   "outputs": [
    {
     "data": {
      "text/plain": [
       "0.00089727575675317467"
      ]
     },
     "execution_count": 94,
     "metadata": {},
     "output_type": "execute_result"
    }
   ],
   "source": [
    "metrics.mean_squared_error(y_train, y_fit_rf)"
   ]
  },
  {
   "cell_type": "code",
   "execution_count": 95,
   "metadata": {},
   "outputs": [
    {
     "data": {
      "text/plain": [
       "0.012457297893591329"
      ]
     },
     "execution_count": 95,
     "metadata": {},
     "output_type": "execute_result"
    }
   ],
   "source": [
    "metrics.mean_squared_error(y_test, y_pred_rf)"
   ]
  },
  {
   "cell_type": "code",
   "execution_count": 96,
   "metadata": {},
   "outputs": [
    {
     "data": {
      "text/plain": [
       "0.0029483213065468134"
      ]
     },
     "execution_count": 96,
     "metadata": {},
     "output_type": "execute_result"
    }
   ],
   "source": [
    "metrics.mean_squared_error(y_train, y_fit_lr)"
   ]
  },
  {
   "cell_type": "code",
   "execution_count": 97,
   "metadata": {},
   "outputs": [
    {
     "data": {
      "text/plain": [
       "0.0089503308167576505"
      ]
     },
     "execution_count": 97,
     "metadata": {},
     "output_type": "execute_result"
    }
   ],
   "source": [
    "metrics.mean_squared_error(y_test, y_pred_lr)"
   ]
  },
  {
   "cell_type": "code",
   "execution_count": 98,
   "metadata": {},
   "outputs": [
    {
     "name": "stderr",
     "output_type": "stream",
     "text": [
      "/Users/shahab/anaconda/lib/python2.7/site-packages/sklearn/preprocessing/data.py:374: DeprecationWarning: Passing 1d arrays as data is deprecated in 0.17 and will raise ValueError in 0.19. Reshape your data either using X.reshape(-1, 1) if your data has a single feature or X.reshape(1, -1) if it contains a single sample.\n",
      "  warnings.warn(DEPRECATION_MSG_1D, DeprecationWarning)\n",
      "/Users/shahab/anaconda/lib/python2.7/site-packages/sklearn/preprocessing/data.py:374: DeprecationWarning: Passing 1d arrays as data is deprecated in 0.17 and will raise ValueError in 0.19. Reshape your data either using X.reshape(-1, 1) if your data has a single feature or X.reshape(1, -1) if it contains a single sample.\n",
      "  warnings.warn(DEPRECATION_MSG_1D, DeprecationWarning)\n"
     ]
    }
   ],
   "source": [
    "# invert predictions\n",
    "trainPredict = scaler.inverse_transform(y_fit_rf)\n",
    "#trainY = scaler.inverse_transform([y_train])\n",
    "testPredict = scaler.inverse_transform(y_pred_rf)\n",
    "#testY = scaler.inverse_transform([y_test])"
   ]
  },
  {
   "cell_type": "code",
   "execution_count": 102,
   "metadata": {},
   "outputs": [
    {
     "data": {
      "text/plain": [
       "<matplotlib.text.Text at 0x1278b23d0>"
      ]
     },
     "execution_count": 102,
     "metadata": {},
     "output_type": "execute_result"
    },
    {
     "data": {
      "image/png": "[encoded data removed]",
      "text/plain": [
       "<matplotlib.figure.Figure at 0x1274ec490>"
      ]
     },
     "metadata": {},
     "output_type": "display_data"
    }
   ],
   "source": [
    "plt.plot(dataset,':')\n",
    "plt.plot(T_train,trainPredict)\n",
    "plt.plot(T_test, testPredict)\n",
    "plt.legend((\"original\",\"fitted\",\"predicted\"))\n",
    "plt.title(\"Random Forest\")"
   ]
  },
  {
   "cell_type": "code",
   "execution_count": 103,
   "metadata": {},
   "outputs": [
    {
     "name": "stderr",
     "output_type": "stream",
     "text": [
      "/Users/shahab/anaconda/lib/python2.7/site-packages/sklearn/preprocessing/data.py:374: DeprecationWarning: Passing 1d arrays as data is deprecated in 0.17 and will raise ValueError in 0.19. Reshape your data either using X.reshape(-1, 1) if your data has a single feature or X.reshape(1, -1) if it contains a single sample.\n",
      "  warnings.warn(DEPRECATION_MSG_1D, DeprecationWarning)\n",
      "/Users/shahab/anaconda/lib/python2.7/site-packages/sklearn/preprocessing/data.py:374: DeprecationWarning: Passing 1d arrays as data is deprecated in 0.17 and will raise ValueError in 0.19. Reshape your data either using X.reshape(-1, 1) if your data has a single feature or X.reshape(1, -1) if it contains a single sample.\n",
      "  warnings.warn(DEPRECATION_MSG_1D, DeprecationWarning)\n"
     ]
    }
   ],
   "source": [
    "# invert predictions\n",
    "trainPredict_lr = scaler.inverse_transform(y_fit_lr)\n",
    "testPredict_lr = scaler.inverse_transform(y_pred_lr)"
   ]
  },
  {
   "cell_type": "code",
   "execution_count": 104,
   "metadata": {},
   "outputs": [
    {
     "data": {
      "text/plain": [
       "[<matplotlib.lines.Line2D at 0x127a18c90>]"
      ]
     },
     "execution_count": 104,
     "metadata": {},
     "output_type": "execute_result"
    },
    {
     "data": {
      "image/png": "[encoded data removed]",
      "text/plain": [
       "<matplotlib.figure.Figure at 0x127668e90>"
      ]
     },
     "metadata": {},
     "output_type": "display_data"
    }
   ],
   "source": [
    "plt.plot(dataset,':')\n",
    "plt.plot(T_train,trainPredict_lr)\n",
    "plt.plot(T_test, testPredict_lr)"
   ]
  },
  {
   "cell_type": "markdown",
   "metadata": {},
   "source": [
    "## Recurrent Neural Networks \n",
    "### Long-Term Short-Term Memory (LSTM)"
   ]
  },
  {
   "cell_type": "markdown",
   "metadata": {},
   "source": [
    "http://colah.github.io/posts/2015-08-Understanding-LSTMs/\n",
    "\n",
    "https://keras.io/layers/recurrent/\n",
    "\n",
    "http://cs231n.stanford.edu/slides/2017/cs231n_2017_lecture10.pdf"
   ]
  },
  {
   "cell_type": "markdown",
   "metadata": {},
   "source": [
    "The Long Short-Term Memory network (LSTM) is a type of Recurrent Neural Network (RNN).\n",
    "\n",
    "A benefit of this type of network is that it can learn and remember over long sequences and does not rely on a pre-specified window lagged observation as input.\n",
    "\n",
    "The LSTM layer expects input to be in a matrix with the dimensions: [samples, time steps, features].\n",
    "\n",
    "- Samples: These are independent observations from the domain, typically rows of data.\n",
    "\n",
    "- Time steps: These are separate time steps of a given variable for a given observation.\n",
    "\n",
    "- Features: These are separate measures observed at the time of observation.\n"
   ]
  },
  {
   "cell_type": "code",
   "execution_count": 105,
   "metadata": {
    "collapsed": true
   },
   "outputs": [],
   "source": [
    "data_dim = 16\n",
    "timesteps = 8\n",
    "num_classes = 10"
   ]
  },
  {
   "cell_type": "code",
   "execution_count": 106,
   "metadata": {},
   "outputs": [],
   "source": [
    "# Generate dummy training data\n",
    "x_train_toy = np.random.random((1000, timesteps, data_dim))\n",
    "y_train_toy = np.random.random((1000, num_classes))"
   ]
  },
  {
   "cell_type": "code",
   "execution_count": 113,
   "metadata": {
    "collapsed": true
   },
   "outputs": [],
   "source": [
    "model = Sequential()\n",
    "model.add(LSTM(32, input_shape=(timesteps, data_dim))) \n",
    "#timesteps can be passed as None and LSTM will calculate it\n",
    "model.add(Dense(num_classes, activation='softmax'))"
   ]
  },
  {
   "cell_type": "code",
   "execution_count": 111,
   "metadata": {
    "collapsed": true
   },
   "outputs": [],
   "source": [
    "model.compile(loss='categorical_crossentropy',\n",
    "              optimizer='rmsprop',\n",
    "              metrics=['accuracy'])"
   ]
  },
  {
   "cell_type": "code",
   "execution_count": 112,
   "metadata": {},
   "outputs": [
    {
     "name": "stdout",
     "output_type": "stream",
     "text": [
      "Epoch 1/2\n",
      "1000/1000 [==============================] - 2s - loss: 11.5328 - acc: 0.1070     \n",
      "Epoch 2/2\n",
      "1000/1000 [==============================] - 1s - loss: 11.5247 - acc: 0.0930     \n"
     ]
    },
    {
     "data": {
      "text/plain": [
       "<keras.callbacks.History at 0x128fbbc90>"
      ]
     },
     "execution_count": 112,
     "metadata": {},
     "output_type": "execute_result"
    }
   ],
   "source": [
    "model.fit(x_train_toy,y_train_toy, epochs=2)"
   ]
  },
  {
   "cell_type": "markdown",
   "metadata": {},
   "source": [
    "#### LSTM for flight data"
   ]
  },
  {
   "cell_type": "code",
   "execution_count": 114,
   "metadata": {},
   "outputs": [
    {
     "data": {
      "text/plain": [
       "(129, 5)"
      ]
     },
     "execution_count": 114,
     "metadata": {},
     "output_type": "execute_result"
    }
   ],
   "source": [
    "X_train.shape"
   ]
  },
  {
   "cell_type": "code",
   "execution_count": 119,
   "metadata": {},
   "outputs": [],
   "source": [
    "# # reshape input to be [samples, time steps, features]\n",
    "X_train_r = np.reshape(X_train, (X_train.shape[0], 1, X_train.shape[1]))\n",
    "X_test_r = np.reshape(X_test, (X_test.shape[0], 1, X_test.shape[1]))"
   ]
  },
  {
   "cell_type": "code",
   "execution_count": 127,
   "metadata": {},
   "outputs": [],
   "source": [
    "# create and fit the LSTM network\n",
    "model = Sequential()\n",
    "model.add(LSTM(5, input_shape=(None,look_back)))\n",
    "model.add(Dense(1))\n",
    "model.compile(loss='mean_squared_error', optimizer='adam')"
   ]
  },
  {
   "cell_type": "code",
   "execution_count": 128,
   "metadata": {
    "scrolled": true
   },
   "outputs": [
    {
     "name": "stdout",
     "output_type": "stream",
     "text": [
      "Train on 103 samples, validate on 26 samples\n",
      "Epoch 1/100\n",
      "103/103 [==============================] - 1s - loss: 0.1053 - val_loss: 0.3862\n",
      "Epoch 2/100\n",
      "103/103 [==============================] - 0s - loss: 0.0775 - val_loss: 0.3033\n",
      "Epoch 3/100\n",
      "103/103 [==============================] - 0s - loss: 0.0563 - val_loss: 0.2337\n",
      "Epoch 4/100\n",
      "103/103 [==============================] - 0s - loss: 0.0404 - val_loss: 0.1782\n",
      "Epoch 5/100\n",
      "103/103 [==============================] - 0s - loss: 0.0284 - val_loss: 0.1320\n",
      "Epoch 6/100\n",
      "103/103 [==============================] - 0s - loss: 0.0202 - val_loss: 0.0974\n",
      "Epoch 7/100\n",
      "103/103 [==============================] - 0s - loss: 0.0155 - val_loss: 0.0682\n",
      "Epoch 8/100\n",
      "103/103 [==============================] - 0s - loss: 0.0125 - val_loss: 0.0511\n",
      "Epoch 9/100\n",
      "103/103 [==============================] - 0s - loss: 0.0112 - val_loss: 0.0403\n",
      "Epoch 10/100\n",
      "103/103 [==============================] - 0s - loss: 0.0103 - val_loss: 0.0344\n",
      "Epoch 11/100\n",
      "103/103 [==============================] - 0s - loss: 0.0097 - val_loss: 0.0321\n",
      "Epoch 12/100\n",
      "103/103 [==============================] - 0s - loss: 0.0092 - val_loss: 0.0277\n",
      "Epoch 13/100\n",
      "103/103 [==============================] - 0s - loss: 0.0086 - val_loss: 0.0250\n",
      "Epoch 14/100\n",
      "103/103 [==============================] - 0s - loss: 0.0082 - val_loss: 0.0245\n",
      "Epoch 15/100\n",
      "103/103 [==============================] - 0s - loss: 0.0077 - val_loss: 0.0227\n",
      "Epoch 16/100\n",
      "103/103 [==============================] - 0s - loss: 0.0072 - val_loss: 0.0202\n",
      "Epoch 17/100\n",
      "103/103 [==============================] - 0s - loss: 0.0068 - val_loss: 0.0192\n",
      "Epoch 18/100\n",
      "103/103 [==============================] - 0s - loss: 0.0065 - val_loss: 0.0187\n",
      "Epoch 19/100\n",
      "103/103 [==============================] - 0s - loss: 0.0062 - val_loss: 0.0179\n",
      "Epoch 20/100\n",
      "103/103 [==============================] - 0s - loss: 0.0059 - val_loss: 0.0163\n",
      "Epoch 21/100\n",
      "103/103 [==============================] - 0s - loss: 0.0056 - val_loss: 0.0156\n",
      "Epoch 22/100\n",
      "103/103 [==============================] - 0s - loss: 0.0054 - val_loss: 0.0154\n",
      "Epoch 23/100\n",
      "103/103 [==============================] - 0s - loss: 0.0052 - val_loss: 0.0152\n",
      "Epoch 24/100\n",
      "103/103 [==============================] - 0s - loss: 0.0050 - val_loss: 0.0147\n",
      "Epoch 25/100\n",
      "103/103 [==============================] - 0s - loss: 0.0049 - val_loss: 0.0141\n",
      "Epoch 26/100\n",
      "103/103 [==============================] - 0s - loss: 0.0048 - val_loss: 0.0138\n",
      "Epoch 27/100\n",
      "103/103 [==============================] - 0s - loss: 0.0047 - val_loss: 0.0144\n",
      "Epoch 28/100\n",
      "103/103 [==============================] - 0s - loss: 0.0046 - val_loss: 0.0140\n",
      "Epoch 29/100\n",
      "103/103 [==============================] - 0s - loss: 0.0045 - val_loss: 0.0137\n",
      "Epoch 30/100\n",
      "103/103 [==============================] - 0s - loss: 0.0044 - val_loss: 0.0137\n",
      "Epoch 31/100\n",
      "103/103 [==============================] - 0s - loss: 0.0044 - val_loss: 0.0136\n",
      "Epoch 32/100\n",
      "103/103 [==============================] - 0s - loss: 0.0043 - val_loss: 0.0135\n",
      "Epoch 33/100\n",
      "103/103 [==============================] - 0s - loss: 0.0043 - val_loss: 0.0136\n",
      "Epoch 34/100\n",
      "103/103 [==============================] - 0s - loss: 0.0042 - val_loss: 0.0135\n",
      "Epoch 35/100\n",
      "103/103 [==============================] - 0s - loss: 0.0042 - val_loss: 0.0135\n",
      "Epoch 36/100\n",
      "103/103 [==============================] - 0s - loss: 0.0043 - val_loss: 0.0135\n",
      "Epoch 37/100\n",
      "103/103 [==============================] - 0s - loss: 0.0042 - val_loss: 0.0134\n",
      "Epoch 38/100\n",
      "103/103 [==============================] - 0s - loss: 0.0041 - val_loss: 0.0134\n",
      "Epoch 39/100\n",
      "103/103 [==============================] - 0s - loss: 0.0041 - val_loss: 0.0134\n",
      "Epoch 40/100\n",
      "103/103 [==============================] - 0s - loss: 0.0041 - val_loss: 0.0133\n",
      "Epoch 41/100\n",
      "103/103 [==============================] - 0s - loss: 0.0041 - val_loss: 0.0133\n",
      "Epoch 42/100\n",
      "103/103 [==============================] - 0s - loss: 0.0041 - val_loss: 0.0133\n",
      "Epoch 43/100\n",
      "103/103 [==============================] - 0s - loss: 0.0041 - val_loss: 0.0132\n",
      "Epoch 44/100\n",
      "103/103 [==============================] - 0s - loss: 0.0040 - val_loss: 0.0131\n",
      "Epoch 45/100\n",
      "103/103 [==============================] - 0s - loss: 0.0040 - val_loss: 0.0131\n",
      "Epoch 46/100\n",
      "103/103 [==============================] - 0s - loss: 0.0039 - val_loss: 0.0130\n",
      "Epoch 47/100\n",
      "103/103 [==============================] - 0s - loss: 0.0039 - val_loss: 0.0130\n",
      "Epoch 48/100\n",
      "103/103 [==============================] - 0s - loss: 0.0039 - val_loss: 0.0129\n",
      "Epoch 49/100\n",
      "103/103 [==============================] - 0s - loss: 0.0039 - val_loss: 0.0129\n",
      "Epoch 50/100\n",
      "103/103 [==============================] - 0s - loss: 0.0039 - val_loss: 0.0128\n",
      "Epoch 51/100\n",
      "103/103 [==============================] - 0s - loss: 0.0039 - val_loss: 0.0127\n",
      "Epoch 52/100\n",
      "103/103 [==============================] - 0s - loss: 0.0038 - val_loss: 0.0126\n",
      "Epoch 53/100\n",
      "103/103 [==============================] - 0s - loss: 0.0039 - val_loss: 0.0128\n",
      "Epoch 54/100\n",
      "103/103 [==============================] - 0s - loss: 0.0039 - val_loss: 0.0125\n",
      "Epoch 55/100\n",
      "103/103 [==============================] - 0s - loss: 0.0038 - val_loss: 0.0124\n",
      "Epoch 56/100\n",
      "103/103 [==============================] - 0s - loss: 0.0037 - val_loss: 0.0125\n",
      "Epoch 57/100\n",
      "103/103 [==============================] - 0s - loss: 0.0038 - val_loss: 0.0126\n",
      "Epoch 58/100\n",
      "103/103 [==============================] - 0s - loss: 0.0037 - val_loss: 0.0122\n",
      "Epoch 59/100\n",
      "103/103 [==============================] - 0s - loss: 0.0037 - val_loss: 0.0121\n",
      "Epoch 60/100\n",
      "103/103 [==============================] - 0s - loss: 0.0037 - val_loss: 0.0120\n",
      "Epoch 61/100\n",
      "103/103 [==============================] - 0s - loss: 0.0038 - val_loss: 0.0119\n",
      "Epoch 62/100\n",
      "103/103 [==============================] - 0s - loss: 0.0037 - val_loss: 0.0119\n",
      "Epoch 63/100\n",
      "103/103 [==============================] - 0s - loss: 0.0037 - val_loss: 0.0118\n",
      "Epoch 64/100\n",
      "103/103 [==============================] - 0s - loss: 0.0037 - val_loss: 0.0119\n",
      "Epoch 65/100\n",
      "103/103 [==============================] - 0s - loss: 0.0037 - val_loss: 0.0116\n",
      "Epoch 66/100\n",
      "103/103 [==============================] - 0s - loss: 0.0036 - val_loss: 0.0116\n",
      "Epoch 67/100\n",
      "103/103 [==============================] - 0s - loss: 0.0037 - val_loss: 0.0114\n",
      "Epoch 68/100\n",
      "103/103 [==============================] - 0s - loss: 0.0035 - val_loss: 0.0115\n",
      "Epoch 69/100\n",
      "103/103 [==============================] - 0s - loss: 0.0035 - val_loss: 0.0113\n",
      "Epoch 70/100\n",
      "103/103 [==============================] - 0s - loss: 0.0035 - val_loss: 0.0113\n",
      "Epoch 71/100\n",
      "103/103 [==============================] - 0s - loss: 0.0035 - val_loss: 0.0113\n",
      "Epoch 72/100\n",
      "103/103 [==============================] - 0s - loss: 0.0035 - val_loss: 0.0111\n",
      "Epoch 73/100\n",
      "103/103 [==============================] - 0s - loss: 0.0035 - val_loss: 0.0111\n",
      "Epoch 74/100\n",
      "103/103 [==============================] - 0s - loss: 0.0034 - val_loss: 0.0109\n",
      "Epoch 75/100\n",
      "103/103 [==============================] - 0s - loss: 0.0034 - val_loss: 0.0110\n",
      "Epoch 76/100\n",
      "103/103 [==============================] - 0s - loss: 0.0034 - val_loss: 0.0109\n",
      "Epoch 77/100\n",
      "103/103 [==============================] - 0s - loss: 0.0034 - val_loss: 0.0107\n",
      "Epoch 78/100\n",
      "103/103 [==============================] - 0s - loss: 0.0034 - val_loss: 0.0107\n",
      "Epoch 79/100\n",
      "103/103 [==============================] - 0s - loss: 0.0034 - val_loss: 0.0105\n",
      "Epoch 80/100\n",
      "103/103 [==============================] - 0s - loss: 0.0033 - val_loss: 0.0106\n",
      "Epoch 81/100\n",
      "103/103 [==============================] - 0s - loss: 0.0034 - val_loss: 0.0104\n",
      "Epoch 82/100\n",
      "103/103 [==============================] - 0s - loss: 0.0033 - val_loss: 0.0104\n",
      "Epoch 83/100\n",
      "103/103 [==============================] - 0s - loss: 0.0033 - val_loss: 0.0102\n",
      "Epoch 84/100\n",
      "103/103 [==============================] - 0s - loss: 0.0033 - val_loss: 0.0103\n",
      "Epoch 85/100\n",
      "103/103 [==============================] - 0s - loss: 0.0033 - val_loss: 0.0100\n",
      "Epoch 86/100\n",
      "103/103 [==============================] - 0s - loss: 0.0033 - val_loss: 0.0101\n",
      "Epoch 87/100\n",
      "103/103 [==============================] - 0s - loss: 0.0032 - val_loss: 0.0099\n",
      "Epoch 88/100\n"
     ]
    },
    {
     "name": "stdout",
     "output_type": "stream",
     "text": [
      "103/103 [==============================] - 0s - loss: 0.0032 - val_loss: 0.0099\n",
      "Epoch 89/100\n",
      "103/103 [==============================] - 0s - loss: 0.0032 - val_loss: 0.0100\n",
      "Epoch 90/100\n",
      "103/103 [==============================] - 0s - loss: 0.0031 - val_loss: 0.0096\n",
      "Epoch 91/100\n",
      "103/103 [==============================] - 0s - loss: 0.0031 - val_loss: 0.0095\n",
      "Epoch 92/100\n",
      "103/103 [==============================] - 0s - loss: 0.0031 - val_loss: 0.0096\n",
      "Epoch 93/100\n",
      "103/103 [==============================] - 0s - loss: 0.0031 - val_loss: 0.0093\n",
      "Epoch 94/100\n",
      "103/103 [==============================] - 0s - loss: 0.0030 - val_loss: 0.0093\n",
      "Epoch 95/100\n",
      "103/103 [==============================] - 0s - loss: 0.0030 - val_loss: 0.0093\n",
      "Epoch 96/100\n",
      "103/103 [==============================] - 0s - loss: 0.0030 - val_loss: 0.0092\n",
      "Epoch 97/100\n",
      "103/103 [==============================] - 0s - loss: 0.0030 - val_loss: 0.0092\n",
      "Epoch 98/100\n",
      "103/103 [==============================] - 0s - loss: 0.0031 - val_loss: 0.0089\n",
      "Epoch 99/100\n",
      "103/103 [==============================] - 0s - loss: 0.0030 - val_loss: 0.0090\n",
      "Epoch 100/100\n",
      "103/103 [==============================] - 0s - loss: 0.0029 - val_loss: 0.0088\n"
     ]
    }
   ],
   "source": [
    "fitting=model.fit(X_train_r, y_train, nb_epoch=100, batch_size=5, verbose=1, \n",
    "                  validation_split=0.2)"
   ]
  },
  {
   "cell_type": "markdown",
   "metadata": {},
   "source": [
    "### Q: Is it over-fitted or under-fitted? How do we find out?"
   ]
  },
  {
   "cell_type": "code",
   "execution_count": 130,
   "metadata": {},
   "outputs": [
    {
     "data": {
      "text/plain": [
       "<matplotlib.legend.Legend at 0x12eb34a90>"
      ]
     },
     "execution_count": 130,
     "metadata": {},
     "output_type": "execute_result"
    },
    {
     "data": {
      "image/png": "[encoded data removed]",
      "text/plain": [
       "<matplotlib.figure.Figure at 0x12f2ebf90>"
      ]
     },
     "metadata": {},
     "output_type": "display_data"
    }
   ],
   "source": [
    "plt.plot(fitting.history['loss'],'b')\n",
    "plt.plot(fitting.history['val_loss'],'g')\n",
    "plt.legend(('training_loss', 'validation_loss'))"
   ]
  },
  {
   "cell_type": "markdown",
   "metadata": {},
   "source": [
    "### Let's predict:"
   ]
  },
  {
   "cell_type": "code",
   "execution_count": 131,
   "metadata": {
    "collapsed": true
   },
   "outputs": [],
   "source": [
    "y_fit_lstm=model.predict(X_train_r)\n",
    "y_pred_lstm=model.predict(X_test_r)\n",
    "\n",
    "trainPredict_lstm = scaler.inverse_transform(y_fit_lstm)\n",
    "testPredict_lstm = scaler.inverse_transform(y_pred_lstm)"
   ]
  },
  {
   "cell_type": "code",
   "execution_count": 132,
   "metadata": {},
   "outputs": [
    {
     "data": {
      "text/plain": [
       "((129, 1), (10, 1))"
      ]
     },
     "execution_count": 132,
     "metadata": {},
     "output_type": "execute_result"
    }
   ],
   "source": [
    "trainPredict_lstm.shape, testPredict_lstm.shape"
   ]
  },
  {
   "cell_type": "code",
   "execution_count": 133,
   "metadata": {},
   "outputs": [
    {
     "data": {
      "text/plain": [
       "[<matplotlib.lines.Line2D at 0x12f449c50>]"
      ]
     },
     "execution_count": 133,
     "metadata": {},
     "output_type": "execute_result"
    },
    {
     "data": {
      "image/png": "[encoded data removed]",
      "text/plain": [
       "<matplotlib.figure.Figure at 0x12ea34ed0>"
      ]
     },
     "metadata": {},
     "output_type": "display_data"
    }
   ],
   "source": [
    "plt.plot(dataset,':')\n",
    "plt.plot(T_train,trainPredict_lstm)\n",
    "plt.plot(T_test, testPredict_lstm,'.-')"
   ]
  },
  {
   "cell_type": "code",
   "execution_count": 134,
   "metadata": {},
   "outputs": [
    {
     "data": {
      "text/plain": [
       "0.0040600830945994792"
      ]
     },
     "execution_count": 134,
     "metadata": {},
     "output_type": "execute_result"
    }
   ],
   "source": [
    "metrics.mean_squared_error(y_train,y_fit_lstm)"
   ]
  },
  {
   "cell_type": "code",
   "execution_count": 135,
   "metadata": {},
   "outputs": [
    {
     "data": {
      "text/plain": [
       "0.013760623977365946"
      ]
     },
     "execution_count": 135,
     "metadata": {},
     "output_type": "execute_result"
    }
   ],
   "source": [
    "metrics.mean_squared_error(y_test,y_pred_lstm)"
   ]
  },
  {
   "cell_type": "markdown",
   "metadata": {},
   "source": [
    "### Stacking multiple LSTM Layers"
   ]
  },
  {
   "cell_type": "markdown",
   "metadata": {},
   "source": [
    "You should use return_sequences=True"
   ]
  },
  {
   "cell_type": "code",
   "execution_count": 136,
   "metadata": {},
   "outputs": [],
   "source": [
    "model = Sequential()\n",
    "model.add(LSTM(32, return_sequences=True, \n",
    "               input_shape=(None, look_back)))  # returns a sequence of vectors of dimension 32\n",
    "model.add(LSTM(32, return_sequences=True))  # returns a sequence of vectors of dimension 32\n",
    "model.add(LSTM(32))  # return a single vector of dimension 32\n",
    "model.add(Dense(1))\n",
    "\n",
    "model.compile(loss='mean_squared_error', optimizer='adam',\n",
    "             metrics=['mean_squared_error'])"
   ]
  },
  {
   "cell_type": "code",
   "execution_count": 144,
   "metadata": {
    "scrolled": true
   },
   "outputs": [
    {
     "name": "stdout",
     "output_type": "stream",
     "text": [
      "Train on 116 samples, validate on 13 samples\n",
      "Epoch 1/150\n",
      "116/116 [==============================] - 0s - loss: 0.0031 - mean_squared_error: 0.0031 - val_loss: 0.0098 - val_mean_squared_error: 0.0098\n",
      "Epoch 2/150\n",
      "116/116 [==============================] - 0s - loss: 0.0043 - mean_squared_error: 0.0043 - val_loss: 0.0090 - val_mean_squared_error: 0.0090\n",
      "Epoch 3/150\n",
      "116/116 [==============================] - 0s - loss: 0.0035 - mean_squared_error: 0.0035 - val_loss: 0.0079 - val_mean_squared_error: 0.0079\n",
      "Epoch 4/150\n",
      "116/116 [==============================] - 0s - loss: 0.0032 - mean_squared_error: 0.0032 - val_loss: 0.0082 - val_mean_squared_error: 0.0082\n",
      "Epoch 5/150\n",
      "116/116 [==============================] - 0s - loss: 0.0033 - mean_squared_error: 0.0033 - val_loss: 0.0088 - val_mean_squared_error: 0.0088\n",
      "Epoch 6/150\n",
      "116/116 [==============================] - 0s - loss: 0.0036 - mean_squared_error: 0.0036 - val_loss: 0.0076 - val_mean_squared_error: 0.0076\n",
      "Epoch 7/150\n",
      "116/116 [==============================] - 0s - loss: 0.0031 - mean_squared_error: 0.0031 - val_loss: 0.0081 - val_mean_squared_error: 0.0081\n",
      "Epoch 8/150\n",
      "116/116 [==============================] - 0s - loss: 0.0036 - mean_squared_error: 0.0036 - val_loss: 0.0076 - val_mean_squared_error: 0.0076\n",
      "Epoch 9/150\n",
      "116/116 [==============================] - 0s - loss: 0.0027 - mean_squared_error: 0.0027 - val_loss: 0.0134 - val_mean_squared_error: 0.0134\n",
      "Epoch 10/150\n",
      "116/116 [==============================] - 0s - loss: 0.0041 - mean_squared_error: 0.0041 - val_loss: 0.0115 - val_mean_squared_error: 0.0115\n",
      "Epoch 11/150\n",
      "116/116 [==============================] - 0s - loss: 0.0034 - mean_squared_error: 0.0034 - val_loss: 0.0077 - val_mean_squared_error: 0.0077\n",
      "Epoch 12/150\n",
      "116/116 [==============================] - 0s - loss: 0.0032 - mean_squared_error: 0.0032 - val_loss: 0.0084 - val_mean_squared_error: 0.0084\n",
      "Epoch 13/150\n",
      "116/116 [==============================] - 0s - loss: 0.0027 - mean_squared_error: 0.0027 - val_loss: 0.0093 - val_mean_squared_error: 0.0093\n",
      "Epoch 14/150\n",
      "116/116 [==============================] - 0s - loss: 0.0028 - mean_squared_error: 0.0028 - val_loss: 0.0078 - val_mean_squared_error: 0.0078\n",
      "Epoch 15/150\n",
      "116/116 [==============================] - 0s - loss: 0.0027 - mean_squared_error: 0.0027 - val_loss: 0.0093 - val_mean_squared_error: 0.0093\n",
      "Epoch 16/150\n",
      "116/116 [==============================] - 0s - loss: 0.0031 - mean_squared_error: 0.0031 - val_loss: 0.0105 - val_mean_squared_error: 0.0105\n",
      "Epoch 17/150\n",
      "116/116 [==============================] - 0s - loss: 0.0029 - mean_squared_error: 0.0029 - val_loss: 0.0094 - val_mean_squared_error: 0.0094\n",
      "Epoch 18/150\n",
      "116/116 [==============================] - 0s - loss: 0.0028 - mean_squared_error: 0.0028 - val_loss: 0.0078 - val_mean_squared_error: 0.0078\n",
      "Epoch 19/150\n",
      "116/116 [==============================] - 0s - loss: 0.0030 - mean_squared_error: 0.0030 - val_loss: 0.0105 - val_mean_squared_error: 0.0105\n",
      "Epoch 20/150\n",
      "116/116 [==============================] - 0s - loss: 0.0027 - mean_squared_error: 0.0027 - val_loss: 0.0085 - val_mean_squared_error: 0.0085\n",
      "Epoch 21/150\n",
      "116/116 [==============================] - 0s - loss: 0.0029 - mean_squared_error: 0.0029 - val_loss: 0.0101 - val_mean_squared_error: 0.0101\n",
      "Epoch 22/150\n",
      "116/116 [==============================] - 0s - loss: 0.0028 - mean_squared_error: 0.0028 - val_loss: 0.0076 - val_mean_squared_error: 0.0076\n",
      "Epoch 23/150\n",
      "116/116 [==============================] - 0s - loss: 0.0028 - mean_squared_error: 0.0028 - val_loss: 0.0074 - val_mean_squared_error: 0.0074\n",
      "Epoch 24/150\n",
      "116/116 [==============================] - 0s - loss: 0.0029 - mean_squared_error: 0.0029 - val_loss: 0.0080 - val_mean_squared_error: 0.0080\n",
      "Epoch 25/150\n",
      "116/116 [==============================] - 0s - loss: 0.0027 - mean_squared_error: 0.0027 - val_loss: 0.0074 - val_mean_squared_error: 0.0074\n",
      "Epoch 26/150\n",
      "116/116 [==============================] - 0s - loss: 0.0028 - mean_squared_error: 0.0028 - val_loss: 0.0073 - val_mean_squared_error: 0.0073\n",
      "Epoch 27/150\n",
      "116/116 [==============================] - 0s - loss: 0.0026 - mean_squared_error: 0.0026 - val_loss: 0.0117 - val_mean_squared_error: 0.0117\n",
      "Epoch 28/150\n",
      "116/116 [==============================] - 0s - loss: 0.0027 - mean_squared_error: 0.0027 - val_loss: 0.0105 - val_mean_squared_error: 0.0105\n",
      "Epoch 29/150\n",
      "116/116 [==============================] - 0s - loss: 0.0040 - mean_squared_error: 0.0040 - val_loss: 0.0071 - val_mean_squared_error: 0.0071\n",
      "Epoch 30/150\n",
      "116/116 [==============================] - 0s - loss: 0.0029 - mean_squared_error: 0.0029 - val_loss: 0.0073 - val_mean_squared_error: 0.0073\n",
      "Epoch 31/150\n",
      "116/116 [==============================] - 0s - loss: 0.0028 - mean_squared_error: 0.0028 - val_loss: 0.0084 - val_mean_squared_error: 0.0084\n",
      "Epoch 32/150\n",
      "116/116 [==============================] - 0s - loss: 0.0027 - mean_squared_error: 0.0027 - val_loss: 0.0072 - val_mean_squared_error: 0.0072\n",
      "Epoch 33/150\n",
      "116/116 [==============================] - 0s - loss: 0.0028 - mean_squared_error: 0.0028 - val_loss: 0.0079 - val_mean_squared_error: 0.0079\n",
      "Epoch 34/150\n",
      "116/116 [==============================] - 0s - loss: 0.0027 - mean_squared_error: 0.0027 - val_loss: 0.0118 - val_mean_squared_error: 0.0118\n",
      "Epoch 35/150\n",
      "116/116 [==============================] - 0s - loss: 0.0033 - mean_squared_error: 0.0033 - val_loss: 0.0075 - val_mean_squared_error: 0.0075\n",
      "Epoch 36/150\n",
      "116/116 [==============================] - 0s - loss: 0.0027 - mean_squared_error: 0.0027 - val_loss: 0.0078 - val_mean_squared_error: 0.0078\n",
      "Epoch 37/150\n",
      "116/116 [==============================] - 0s - loss: 0.0027 - mean_squared_error: 0.0027 - val_loss: 0.0101 - val_mean_squared_error: 0.0101\n",
      "Epoch 38/150\n",
      "116/116 [==============================] - 0s - loss: 0.0027 - mean_squared_error: 0.0027 - val_loss: 0.0089 - val_mean_squared_error: 0.0089\n",
      "Epoch 39/150\n",
      "116/116 [==============================] - 0s - loss: 0.0026 - mean_squared_error: 0.0026 - val_loss: 0.0093 - val_mean_squared_error: 0.0093\n",
      "Epoch 40/150\n",
      "116/116 [==============================] - 0s - loss: 0.0027 - mean_squared_error: 0.0027 - val_loss: 0.0088 - val_mean_squared_error: 0.0088\n",
      "Epoch 41/150\n",
      "116/116 [==============================] - 0s - loss: 0.0027 - mean_squared_error: 0.0027 - val_loss: 0.0079 - val_mean_squared_error: 0.0079\n",
      "Epoch 42/150\n",
      "116/116 [==============================] - 0s - loss: 0.0028 - mean_squared_error: 0.0028 - val_loss: 0.0106 - val_mean_squared_error: 0.0106\n",
      "Epoch 43/150\n",
      "116/116 [==============================] - 0s - loss: 0.0029 - mean_squared_error: 0.0029 - val_loss: 0.0083 - val_mean_squared_error: 0.0083\n",
      "Epoch 44/150\n",
      "116/116 [==============================] - 0s - loss: 0.0026 - mean_squared_error: 0.0026 - val_loss: 0.0077 - val_mean_squared_error: 0.0077\n",
      "Epoch 45/150\n",
      "116/116 [==============================] - 0s - loss: 0.0033 - mean_squared_error: 0.0033 - val_loss: 0.0073 - val_mean_squared_error: 0.0073\n",
      "Epoch 46/150\n",
      "116/116 [==============================] - 0s - loss: 0.0030 - mean_squared_error: 0.0030 - val_loss: 0.0069 - val_mean_squared_error: 0.0069\n",
      "Epoch 47/150\n",
      "116/116 [==============================] - 0s - loss: 0.0028 - mean_squared_error: 0.0028 - val_loss: 0.0089 - val_mean_squared_error: 0.0089\n",
      "Epoch 48/150\n",
      "116/116 [==============================] - 0s - loss: 0.0036 - mean_squared_error: 0.0036 - val_loss: 0.0072 - val_mean_squared_error: 0.0072\n",
      "Epoch 49/150\n",
      "116/116 [==============================] - 0s - loss: 0.0028 - mean_squared_error: 0.0028 - val_loss: 0.0095 - val_mean_squared_error: 0.0095\n",
      "Epoch 50/150\n",
      "116/116 [==============================] - 0s - loss: 0.0029 - mean_squared_error: 0.0029 - val_loss: 0.0071 - val_mean_squared_error: 0.0071\n",
      "Epoch 51/150\n",
      "116/116 [==============================] - 0s - loss: 0.0026 - mean_squared_error: 0.0026 - val_loss: 0.0111 - val_mean_squared_error: 0.0111\n",
      "Epoch 52/150\n",
      "116/116 [==============================] - 0s - loss: 0.0026 - mean_squared_error: 0.0026 - val_loss: 0.0097 - val_mean_squared_error: 0.0097\n",
      "Epoch 53/150\n"
     ]
    },
    {
     "name": "stdout",
     "output_type": "stream",
     "text": [
      "116/116 [==============================] - 0s - loss: 0.0026 - mean_squared_error: 0.0026 - val_loss: 0.0077 - val_mean_squared_error: 0.0077\n",
      "Epoch 54/150\n",
      "116/116 [==============================] - 0s - loss: 0.0029 - mean_squared_error: 0.0029 - val_loss: 0.0079 - val_mean_squared_error: 0.0079\n",
      "Epoch 55/150\n",
      "116/116 [==============================] - 0s - loss: 0.0026 - mean_squared_error: 0.0026 - val_loss: 0.0072 - val_mean_squared_error: 0.0072\n",
      "Epoch 56/150\n",
      "116/116 [==============================] - 0s - loss: 0.0026 - mean_squared_error: 0.0026 - val_loss: 0.0086 - val_mean_squared_error: 0.0086\n",
      "Epoch 57/150\n",
      "116/116 [==============================] - 0s - loss: 0.0029 - mean_squared_error: 0.0029 - val_loss: 0.0069 - val_mean_squared_error: 0.0069\n",
      "Epoch 58/150\n",
      "116/116 [==============================] - 0s - loss: 0.0027 - mean_squared_error: 0.0027 - val_loss: 0.0072 - val_mean_squared_error: 0.0072\n",
      "Epoch 59/150\n",
      "116/116 [==============================] - 0s - loss: 0.0027 - mean_squared_error: 0.0027 - val_loss: 0.0092 - val_mean_squared_error: 0.0092\n",
      "Epoch 60/150\n",
      "116/116 [==============================] - 0s - loss: 0.0027 - mean_squared_error: 0.0027 - val_loss: 0.0132 - val_mean_squared_error: 0.0132\n",
      "Epoch 61/150\n",
      "116/116 [==============================] - 0s - loss: 0.0026 - mean_squared_error: 0.0026 - val_loss: 0.0096 - val_mean_squared_error: 0.0096\n",
      "Epoch 62/150\n",
      "116/116 [==============================] - 0s - loss: 0.0026 - mean_squared_error: 0.0026 - val_loss: 0.0070 - val_mean_squared_error: 0.0070\n",
      "Epoch 63/150\n",
      "116/116 [==============================] - 0s - loss: 0.0026 - mean_squared_error: 0.0026 - val_loss: 0.0075 - val_mean_squared_error: 0.0075\n",
      "Epoch 64/150\n",
      "116/116 [==============================] - 0s - loss: 0.0026 - mean_squared_error: 0.0026 - val_loss: 0.0071 - val_mean_squared_error: 0.0071\n",
      "Epoch 65/150\n",
      "116/116 [==============================] - 0s - loss: 0.0026 - mean_squared_error: 0.0026 - val_loss: 0.0081 - val_mean_squared_error: 0.0081\n",
      "Epoch 66/150\n",
      "116/116 [==============================] - 0s - loss: 0.0032 - mean_squared_error: 0.0032 - val_loss: 0.0085 - val_mean_squared_error: 0.0085\n",
      "Epoch 67/150\n",
      "116/116 [==============================] - 0s - loss: 0.0025 - mean_squared_error: 0.0025 - val_loss: 0.0086 - val_mean_squared_error: 0.0086\n",
      "Epoch 68/150\n",
      "116/116 [==============================] - 0s - loss: 0.0025 - mean_squared_error: 0.0025 - val_loss: 0.0128 - val_mean_squared_error: 0.0128\n",
      "Epoch 69/150\n",
      "116/116 [==============================] - 0s - loss: 0.0028 - mean_squared_error: 0.0028 - val_loss: 0.0077 - val_mean_squared_error: 0.0077\n",
      "Epoch 70/150\n",
      "116/116 [==============================] - 0s - loss: 0.0025 - mean_squared_error: 0.0025 - val_loss: 0.0085 - val_mean_squared_error: 0.0085\n",
      "Epoch 71/150\n",
      "116/116 [==============================] - 0s - loss: 0.0025 - mean_squared_error: 0.0025 - val_loss: 0.0075 - val_mean_squared_error: 0.0075\n",
      "Epoch 72/150\n",
      "116/116 [==============================] - 0s - loss: 0.0028 - mean_squared_error: 0.0028 - val_loss: 0.0086 - val_mean_squared_error: 0.0086\n",
      "Epoch 73/150\n",
      "116/116 [==============================] - 0s - loss: 0.0025 - mean_squared_error: 0.0025 - val_loss: 0.0087 - val_mean_squared_error: 0.0087\n",
      "Epoch 74/150\n",
      "116/116 [==============================] - 0s - loss: 0.0026 - mean_squared_error: 0.0026 - val_loss: 0.0080 - val_mean_squared_error: 0.0080\n",
      "Epoch 75/150\n",
      "116/116 [==============================] - 0s - loss: 0.0030 - mean_squared_error: 0.0030 - val_loss: 0.0077 - val_mean_squared_error: 0.0077\n",
      "Epoch 76/150\n",
      "116/116 [==============================] - 0s - loss: 0.0029 - mean_squared_error: 0.0029 - val_loss: 0.0069 - val_mean_squared_error: 0.0069\n",
      "Epoch 77/150\n",
      "116/116 [==============================] - 0s - loss: 0.0027 - mean_squared_error: 0.0027 - val_loss: 0.0071 - val_mean_squared_error: 0.0071\n",
      "Epoch 78/150\n",
      "116/116 [==============================] - 0s - loss: 0.0029 - mean_squared_error: 0.0029 - val_loss: 0.0071 - val_mean_squared_error: 0.0071\n",
      "Epoch 79/150\n",
      "116/116 [==============================] - 0s - loss: 0.0032 - mean_squared_error: 0.0032 - val_loss: 0.0072 - val_mean_squared_error: 0.0072\n",
      "Epoch 80/150\n",
      "116/116 [==============================] - 0s - loss: 0.0026 - mean_squared_error: 0.0026 - val_loss: 0.0080 - val_mean_squared_error: 0.0080\n",
      "Epoch 81/150\n",
      "116/116 [==============================] - 0s - loss: 0.0025 - mean_squared_error: 0.0025 - val_loss: 0.0120 - val_mean_squared_error: 0.0120\n",
      "Epoch 82/150\n",
      "116/116 [==============================] - 0s - loss: 0.0026 - mean_squared_error: 0.0026 - val_loss: 0.0075 - val_mean_squared_error: 0.0075\n",
      "Epoch 83/150\n",
      "116/116 [==============================] - 0s - loss: 0.0028 - mean_squared_error: 0.0028 - val_loss: 0.0086 - val_mean_squared_error: 0.0086\n",
      "Epoch 84/150\n",
      "116/116 [==============================] - 0s - loss: 0.0025 - mean_squared_error: 0.0025 - val_loss: 0.0067 - val_mean_squared_error: 0.0067\n",
      "Epoch 85/150\n",
      "116/116 [==============================] - 0s - loss: 0.0027 - mean_squared_error: 0.0027 - val_loss: 0.0091 - val_mean_squared_error: 0.0091\n",
      "Epoch 86/150\n",
      "116/116 [==============================] - 0s - loss: 0.0025 - mean_squared_error: 0.0025 - val_loss: 0.0081 - val_mean_squared_error: 0.0081\n",
      "Epoch 87/150\n",
      "116/116 [==============================] - 0s - loss: 0.0027 - mean_squared_error: 0.0027 - val_loss: 0.0090 - val_mean_squared_error: 0.0090\n",
      "Epoch 88/150\n",
      "116/116 [==============================] - 0s - loss: 0.0028 - mean_squared_error: 0.0028 - val_loss: 0.0088 - val_mean_squared_error: 0.0088\n",
      "Epoch 89/150\n",
      "116/116 [==============================] - 0s - loss: 0.0026 - mean_squared_error: 0.0026 - val_loss: 0.0096 - val_mean_squared_error: 0.0096\n",
      "Epoch 90/150\n",
      "116/116 [==============================] - 0s - loss: 0.0025 - mean_squared_error: 0.0025 - val_loss: 0.0076 - val_mean_squared_error: 0.0076\n",
      "Epoch 91/150\n",
      "116/116 [==============================] - 0s - loss: 0.0027 - mean_squared_error: 0.0027 - val_loss: 0.0098 - val_mean_squared_error: 0.0098\n",
      "Epoch 92/150\n",
      "116/116 [==============================] - 0s - loss: 0.0027 - mean_squared_error: 0.0027 - val_loss: 0.0074 - val_mean_squared_error: 0.0074\n",
      "Epoch 93/150\n",
      "116/116 [==============================] - 0s - loss: 0.0027 - mean_squared_error: 0.0027 - val_loss: 0.0068 - val_mean_squared_error: 0.0068\n",
      "Epoch 94/150\n",
      "116/116 [==============================] - 0s - loss: 0.0026 - mean_squared_error: 0.0026 - val_loss: 0.0072 - val_mean_squared_error: 0.0072\n",
      "Epoch 95/150\n",
      "116/116 [==============================] - 0s - loss: 0.0025 - mean_squared_error: 0.0025 - val_loss: 0.0082 - val_mean_squared_error: 0.0082\n",
      "Epoch 96/150\n",
      "116/116 [==============================] - 0s - loss: 0.0026 - mean_squared_error: 0.0026 - val_loss: 0.0068 - val_mean_squared_error: 0.0068\n",
      "Epoch 97/150\n",
      "116/116 [==============================] - 0s - loss: 0.0025 - mean_squared_error: 0.0025 - val_loss: 0.0085 - val_mean_squared_error: 0.0085\n",
      "Epoch 98/150\n",
      "116/116 [==============================] - 0s - loss: 0.0028 - mean_squared_error: 0.0028 - val_loss: 0.0075 - val_mean_squared_error: 0.0075\n",
      "Epoch 99/150\n",
      "116/116 [==============================] - 0s - loss: 0.0025 - mean_squared_error: 0.0025 - val_loss: 0.0086 - val_mean_squared_error: 0.0086\n",
      "Epoch 100/150\n",
      "116/116 [==============================] - 0s - loss: 0.0025 - mean_squared_error: 0.0025 - val_loss: 0.0095 - val_mean_squared_error: 0.0095\n",
      "Epoch 101/150\n",
      "116/116 [==============================] - ETA: 0s - loss: 0.0026 - mean_squared_error: 0.00 - 0s - loss: 0.0026 - mean_squared_error: 0.0026 - val_loss: 0.0072 - val_mean_squared_error: 0.0072\n",
      "Epoch 102/150\n",
      "116/116 [==============================] - 0s - loss: 0.0033 - mean_squared_error: 0.0033 - val_loss: 0.0078 - val_mean_squared_error: 0.0078\n",
      "Epoch 103/150\n",
      "116/116 [==============================] - 0s - loss: 0.0028 - mean_squared_error: 0.0028 - val_loss: 0.0079 - val_mean_squared_error: 0.0079\n",
      "Epoch 104/150\n",
      "116/116 [==============================] - 0s - loss: 0.0026 - mean_squared_error: 0.0026 - val_loss: 0.0073 - val_mean_squared_error: 0.0073\n",
      "Epoch 105/150\n"
     ]
    },
    {
     "name": "stdout",
     "output_type": "stream",
     "text": [
      "116/116 [==============================] - 0s - loss: 0.0024 - mean_squared_error: 0.0024 - val_loss: 0.0074 - val_mean_squared_error: 0.0074\n",
      "Epoch 106/150\n",
      "116/116 [==============================] - 0s - loss: 0.0026 - mean_squared_error: 0.0026 - val_loss: 0.0068 - val_mean_squared_error: 0.0068\n",
      "Epoch 107/150\n",
      "116/116 [==============================] - 0s - loss: 0.0028 - mean_squared_error: 0.0028 - val_loss: 0.0069 - val_mean_squared_error: 0.0069\n",
      "Epoch 108/150\n",
      "116/116 [==============================] - 0s - loss: 0.0027 - mean_squared_error: 0.0027 - val_loss: 0.0081 - val_mean_squared_error: 0.0081\n",
      "Epoch 109/150\n",
      "116/116 [==============================] - 0s - loss: 0.0024 - mean_squared_error: 0.0024 - val_loss: 0.0071 - val_mean_squared_error: 0.0071\n",
      "Epoch 110/150\n",
      "116/116 [==============================] - 0s - loss: 0.0026 - mean_squared_error: 0.0026 - val_loss: 0.0070 - val_mean_squared_error: 0.0070\n",
      "Epoch 111/150\n",
      "116/116 [==============================] - 0s - loss: 0.0026 - mean_squared_error: 0.0026 - val_loss: 0.0071 - val_mean_squared_error: 0.0071\n",
      "Epoch 112/150\n",
      "116/116 [==============================] - 0s - loss: 0.0029 - mean_squared_error: 0.0029 - val_loss: 0.0075 - val_mean_squared_error: 0.0075\n",
      "Epoch 113/150\n",
      "116/116 [==============================] - 0s - loss: 0.0027 - mean_squared_error: 0.0027 - val_loss: 0.0077 - val_mean_squared_error: 0.0077\n",
      "Epoch 114/150\n",
      "116/116 [==============================] - 0s - loss: 0.0027 - mean_squared_error: 0.0027 - val_loss: 0.0111 - val_mean_squared_error: 0.0111\n",
      "Epoch 115/150\n",
      "116/116 [==============================] - 0s - loss: 0.0029 - mean_squared_error: 0.0029 - val_loss: 0.0099 - val_mean_squared_error: 0.0099\n",
      "Epoch 116/150\n",
      "116/116 [==============================] - 0s - loss: 0.0028 - mean_squared_error: 0.0028 - val_loss: 0.0082 - val_mean_squared_error: 0.0082\n",
      "Epoch 117/150\n",
      "116/116 [==============================] - 0s - loss: 0.0027 - mean_squared_error: 0.0027 - val_loss: 0.0071 - val_mean_squared_error: 0.0071\n",
      "Epoch 118/150\n",
      "116/116 [==============================] - 0s - loss: 0.0026 - mean_squared_error: 0.0026 - val_loss: 0.0128 - val_mean_squared_error: 0.0128\n",
      "Epoch 119/150\n",
      "116/116 [==============================] - 0s - loss: 0.0030 - mean_squared_error: 0.0030 - val_loss: 0.0126 - val_mean_squared_error: 0.0126\n",
      "Epoch 120/150\n",
      "116/116 [==============================] - 0s - loss: 0.0031 - mean_squared_error: 0.0031 - val_loss: 0.0103 - val_mean_squared_error: 0.0103\n",
      "Epoch 121/150\n",
      "116/116 [==============================] - 0s - loss: 0.0026 - mean_squared_error: 0.0026 - val_loss: 0.0082 - val_mean_squared_error: 0.0082\n",
      "Epoch 122/150\n",
      "116/116 [==============================] - 0s - loss: 0.0025 - mean_squared_error: 0.0025 - val_loss: 0.0170 - val_mean_squared_error: 0.0170\n",
      "Epoch 123/150\n",
      "116/116 [==============================] - 0s - loss: 0.0029 - mean_squared_error: 0.0029 - val_loss: 0.0102 - val_mean_squared_error: 0.0102\n",
      "Epoch 124/150\n",
      "116/116 [==============================] - 0s - loss: 0.0025 - mean_squared_error: 0.0025 - val_loss: 0.0066 - val_mean_squared_error: 0.0066\n",
      "Epoch 125/150\n",
      "116/116 [==============================] - 0s - loss: 0.0028 - mean_squared_error: 0.0028 - val_loss: 0.0068 - val_mean_squared_error: 0.0068\n",
      "Epoch 126/150\n",
      "116/116 [==============================] - 0s - loss: 0.0024 - mean_squared_error: 0.0024 - val_loss: 0.0085 - val_mean_squared_error: 0.0085\n",
      "Epoch 127/150\n",
      "116/116 [==============================] - 0s - loss: 0.0025 - mean_squared_error: 0.0025 - val_loss: 0.0134 - val_mean_squared_error: 0.0134\n",
      "Epoch 128/150\n",
      "116/116 [==============================] - 0s - loss: 0.0028 - mean_squared_error: 0.0028 - val_loss: 0.0095 - val_mean_squared_error: 0.0095\n",
      "Epoch 129/150\n",
      "116/116 [==============================] - 0s - loss: 0.0027 - mean_squared_error: 0.0027 - val_loss: 0.0088 - val_mean_squared_error: 0.0088\n",
      "Epoch 130/150\n",
      "116/116 [==============================] - 0s - loss: 0.0030 - mean_squared_error: 0.0030 - val_loss: 0.0087 - val_mean_squared_error: 0.0087\n",
      "Epoch 131/150\n",
      "116/116 [==============================] - 0s - loss: 0.0027 - mean_squared_error: 0.0027 - val_loss: 0.0071 - val_mean_squared_error: 0.0071\n",
      "Epoch 132/150\n",
      "116/116 [==============================] - 0s - loss: 0.0025 - mean_squared_error: 0.0025 - val_loss: 0.0078 - val_mean_squared_error: 0.0078\n",
      "Epoch 133/150\n",
      "116/116 [==============================] - 0s - loss: 0.0025 - mean_squared_error: 0.0025 - val_loss: 0.0087 - val_mean_squared_error: 0.0087\n",
      "Epoch 134/150\n",
      "116/116 [==============================] - 0s - loss: 0.0025 - mean_squared_error: 0.0025 - val_loss: 0.0070 - val_mean_squared_error: 0.0070\n",
      "Epoch 135/150\n",
      "116/116 [==============================] - 0s - loss: 0.0024 - mean_squared_error: 0.0024 - val_loss: 0.0090 - val_mean_squared_error: 0.0090\n",
      "Epoch 136/150\n",
      "116/116 [==============================] - 0s - loss: 0.0024 - mean_squared_error: 0.0024 - val_loss: 0.0068 - val_mean_squared_error: 0.0068\n",
      "Epoch 137/150\n",
      "116/116 [==============================] - 0s - loss: 0.0025 - mean_squared_error: 0.0025 - val_loss: 0.0070 - val_mean_squared_error: 0.0070\n",
      "Epoch 138/150\n",
      "116/116 [==============================] - 0s - loss: 0.0025 - mean_squared_error: 0.0025 - val_loss: 0.0069 - val_mean_squared_error: 0.0069\n",
      "Epoch 139/150\n",
      "116/116 [==============================] - 0s - loss: 0.0025 - mean_squared_error: 0.0025 - val_loss: 0.0078 - val_mean_squared_error: 0.0078\n",
      "Epoch 140/150\n",
      "116/116 [==============================] - 0s - loss: 0.0026 - mean_squared_error: 0.0026 - val_loss: 0.0086 - val_mean_squared_error: 0.0086\n",
      "Epoch 141/150\n",
      "116/116 [==============================] - 0s - loss: 0.0026 - mean_squared_error: 0.0026 - val_loss: 0.0095 - val_mean_squared_error: 0.0095\n",
      "Epoch 142/150\n",
      "116/116 [==============================] - 0s - loss: 0.0028 - mean_squared_error: 0.0028 - val_loss: 0.0093 - val_mean_squared_error: 0.0093\n",
      "Epoch 143/150\n",
      "116/116 [==============================] - 0s - loss: 0.0026 - mean_squared_error: 0.0026 - val_loss: 0.0083 - val_mean_squared_error: 0.0083\n",
      "Epoch 144/150\n",
      "116/116 [==============================] - 0s - loss: 0.0024 - mean_squared_error: 0.0024 - val_loss: 0.0066 - val_mean_squared_error: 0.0066\n",
      "Epoch 145/150\n",
      "116/116 [==============================] - 0s - loss: 0.0026 - mean_squared_error: 0.0026 - val_loss: 0.0095 - val_mean_squared_error: 0.0095\n",
      "Epoch 146/150\n",
      "116/116 [==============================] - 0s - loss: 0.0023 - mean_squared_error: 0.0023 - val_loss: 0.0067 - val_mean_squared_error: 0.0067\n",
      "Epoch 147/150\n",
      "116/116 [==============================] - 0s - loss: 0.0025 - mean_squared_error: 0.0025 - val_loss: 0.0076 - val_mean_squared_error: 0.0076\n",
      "Epoch 148/150\n",
      "116/116 [==============================] - 0s - loss: 0.0024 - mean_squared_error: 0.0024 - val_loss: 0.0067 - val_mean_squared_error: 0.0067\n",
      "Epoch 149/150\n",
      "116/116 [==============================] - 0s - loss: 0.0024 - mean_squared_error: 0.0024 - val_loss: 0.0112 - val_mean_squared_error: 0.0112\n",
      "Epoch 150/150\n",
      "116/116 [==============================] - 0s - loss: 0.0026 - mean_squared_error: 0.0026 - val_loss: 0.0091 - val_mean_squared_error: 0.0091\n"
     ]
    }
   ],
   "source": [
    "fitting=model.fit(X_train_r, y_train, nb_epoch=150, batch_size=5, verbose=1, \n",
    "                  validation_split=0.1)"
   ]
  },
  {
   "cell_type": "code",
   "execution_count": 145,
   "metadata": {},
   "outputs": [
    {
     "data": {
      "text/plain": [
       "<matplotlib.legend.Legend at 0x12dde17d0>"
      ]
     },
     "execution_count": 145,
     "metadata": {},
     "output_type": "execute_result"
    },
    {
     "data": {
      "image/png": "[encoded data removed]",
      "text/plain": [
       "<matplotlib.figure.Figure at 0x132e47250>"
      ]
     },
     "metadata": {},
     "output_type": "display_data"
    }
   ],
   "source": [
    "plt.plot(fitting.history['loss'],'b')\n",
    "plt.plot(fitting.history['val_loss'],'g')\n",
    "plt.legend(('training_loss', 'validation_loss'))"
   ]
  },
  {
   "cell_type": "code",
   "execution_count": 146,
   "metadata": {
    "collapsed": true
   },
   "outputs": [],
   "source": [
    "y_fit_lstm=model.predict(X_train_r)\n",
    "y_pred_lstm=model.predict(X_test_r)\n",
    "\n",
    "trainPredict_lstm = scaler.inverse_transform(y_fit_lstm)\n",
    "testPredict_lstm = scaler.inverse_transform(y_pred_lstm)"
   ]
  },
  {
   "cell_type": "code",
   "execution_count": 147,
   "metadata": {},
   "outputs": [
    {
     "data": {
      "text/plain": [
       "[<matplotlib.lines.Line2D at 0x12f5d7990>]"
      ]
     },
     "execution_count": 147,
     "metadata": {},
     "output_type": "execute_result"
    },
    {
     "data": {
      "image/png": "[encoded data removed]",
      "text/plain": [
       "<matplotlib.figure.Figure at 0x12c49cb50>"
      ]
     },
     "metadata": {},
     "output_type": "display_data"
    }
   ],
   "source": [
    "plt.plot(dataset,':')\n",
    "plt.plot(T_train,trainPredict_lstm)\n",
    "plt.plot(T_test, testPredict_lstm,'.-')"
   ]
  },
  {
   "cell_type": "code",
   "execution_count": 148,
   "metadata": {},
   "outputs": [
    {
     "data": {
      "text/plain": [
       "0.0030904849731367675"
      ]
     },
     "execution_count": 148,
     "metadata": {},
     "output_type": "execute_result"
    }
   ],
   "source": [
    "metrics.mean_squared_error(y_train,y_fit_lstm)"
   ]
  },
  {
   "cell_type": "code",
   "execution_count": 149,
   "metadata": {},
   "outputs": [
    {
     "data": {
      "text/plain": [
       "0.016752519562584885"
      ]
     },
     "execution_count": 149,
     "metadata": {},
     "output_type": "execute_result"
    }
   ],
   "source": [
    "metrics.mean_squared_error(y_test,y_pred_lstm)"
   ]
  },
  {
   "cell_type": "markdown",
   "metadata": {},
   "source": [
    "### Statefull LSTM"
   ]
  },
  {
   "cell_type": "markdown",
   "metadata": {},
   "source": [
    "A stateful recurrent model is one for which the internal states (memories) obtained after processing a batch of samples are reused as initial states for the samples of the next batch. This allows to process longer sequences while keeping computational complexity manageable."
   ]
  },
  {
   "cell_type": "code",
   "execution_count": 150,
   "metadata": {
    "collapsed": true
   },
   "outputs": [],
   "source": [
    "batch_size=10"
   ]
  },
  {
   "cell_type": "markdown",
   "metadata": {},
   "source": [
    "#### Q: Fix the error:"
   ]
  },
  {
   "cell_type": "code",
   "execution_count": 152,
   "metadata": {},
   "outputs": [],
   "source": [
    "model = Sequential()\n",
    "model.add(LSTM(32, return_sequences=True, stateful=True,\n",
    "               #input_shape=(None, look_back)))  \n",
    "               batch_input_shape=(batch_size, None, look_back)))\n",
    "model.add(LSTM(32, return_sequences=True, stateful=True))  \n",
    "model.add(LSTM(32, stateful=True))  \n",
    "model.add(Dense(1))\n",
    "\n",
    "model.compile(loss='mean_squared_error', optimizer='adam',\n",
    "             metrics=['mean_squared_error'])"
   ]
  },
  {
   "cell_type": "code",
   "execution_count": 156,
   "metadata": {},
   "outputs": [
    {
     "data": {
      "text/plain": [
       "12.9"
      ]
     },
     "execution_count": 156,
     "metadata": {},
     "output_type": "execute_result"
    }
   ],
   "source": [
    "X_train_r.shape[0]/batch_size"
   ]
  },
  {
   "cell_type": "markdown",
   "metadata": {},
   "source": [
    "#### Q: Fix the error:"
   ]
  },
  {
   "cell_type": "code",
   "execution_count": 157,
   "metadata": {
    "scrolled": true
   },
   "outputs": [
    {
     "name": "stdout",
     "output_type": "stream",
     "text": [
      "Train on 90 samples, validate on 30 samples\n",
      "Epoch 1/100\n",
      "90/90 [==============================] - 3s - loss: 0.0709 - mean_squared_error: 0.0709 - val_loss: 0.1357 - val_mean_squared_error: 0.1357\n",
      "Epoch 2/100\n",
      "90/90 [==============================] - 0s - loss: 0.0374 - mean_squared_error: 0.0374 - val_loss: 0.0580 - val_mean_squared_error: 0.0580\n",
      "Epoch 3/100\n",
      "90/90 [==============================] - 0s - loss: 0.0284 - mean_squared_error: 0.0284 - val_loss: 0.1971 - val_mean_squared_error: 0.1971\n",
      "Epoch 4/100\n",
      "90/90 [==============================] - 0s - loss: 0.0379 - mean_squared_error: 0.0379 - val_loss: 0.1460 - val_mean_squared_error: 0.1460\n",
      "Epoch 5/100\n",
      "90/90 [==============================] - 0s - loss: 0.0221 - mean_squared_error: 0.0221 - val_loss: 0.0668 - val_mean_squared_error: 0.0668\n",
      "Epoch 6/100\n",
      "90/90 [==============================] - 0s - loss: 0.0300 - mean_squared_error: 0.0300 - val_loss: 0.1026 - val_mean_squared_error: 0.1026\n",
      "Epoch 7/100\n",
      "90/90 [==============================] - 0s - loss: 0.0256 - mean_squared_error: 0.0256 - val_loss: 0.1498 - val_mean_squared_error: 0.1498\n",
      "Epoch 8/100\n",
      "90/90 [==============================] - 0s - loss: 0.0249 - mean_squared_error: 0.0249 - val_loss: 0.1117 - val_mean_squared_error: 0.1117\n",
      "Epoch 9/100\n",
      "90/90 [==============================] - 0s - loss: 0.0238 - mean_squared_error: 0.0238 - val_loss: 0.0889 - val_mean_squared_error: 0.0889\n",
      "Epoch 10/100\n",
      "90/90 [==============================] - 0s - loss: 0.0248 - mean_squared_error: 0.0248 - val_loss: 0.1068 - val_mean_squared_error: 0.1068\n",
      "Epoch 11/100\n",
      "90/90 [==============================] - 0s - loss: 0.0229 - mean_squared_error: 0.0229 - val_loss: 0.1230 - val_mean_squared_error: 0.1230\n",
      "Epoch 12/100\n",
      "90/90 [==============================] - 0s - loss: 0.0238 - mean_squared_error: 0.0238 - val_loss: 0.1053 - val_mean_squared_error: 0.1053\n",
      "Epoch 13/100\n",
      "90/90 [==============================] - 0s - loss: 0.0230 - mean_squared_error: 0.0230 - val_loss: 0.0931 - val_mean_squared_error: 0.0931\n",
      "Epoch 14/100\n",
      "90/90 [==============================] - 0s - loss: 0.0227 - mean_squared_error: 0.0227 - val_loss: 0.1053 - val_mean_squared_error: 0.1053\n",
      "Epoch 15/100\n",
      "90/90 [==============================] - 0s - loss: 0.0220 - mean_squared_error: 0.0220 - val_loss: 0.1069 - val_mean_squared_error: 0.1069\n",
      "Epoch 16/100\n",
      "90/90 [==============================] - 0s - loss: 0.0204 - mean_squared_error: 0.0204 - val_loss: 0.0844 - val_mean_squared_error: 0.0844\n",
      "Epoch 17/100\n",
      "90/90 [==============================] - 0s - loss: 0.0241 - mean_squared_error: 0.0241 - val_loss: 0.1064 - val_mean_squared_error: 0.1064\n",
      "Epoch 18/100\n",
      "90/90 [==============================] - 0s - loss: 0.0226 - mean_squared_error: 0.0226 - val_loss: 0.0874 - val_mean_squared_error: 0.0874\n",
      "Epoch 19/100\n",
      "90/90 [==============================] - 0s - loss: 0.0206 - mean_squared_error: 0.0206 - val_loss: 0.0672 - val_mean_squared_error: 0.0672\n",
      "Epoch 20/100\n",
      "90/90 [==============================] - ETA: 0s - loss: 0.0266 - mean_squared_error: 0.02 - 0s - loss: 0.0282 - mean_squared_error: 0.0282 - val_loss: 0.0911 - val_mean_squared_error: 0.0911\n",
      "Epoch 21/100\n",
      "90/90 [==============================] - 0s - loss: 0.0199 - mean_squared_error: 0.0199 - val_loss: 0.0344 - val_mean_squared_error: 0.0344\n",
      "Epoch 22/100\n",
      "90/90 [==============================] - 0s - loss: 0.0244 - mean_squared_error: 0.0244 - val_loss: 0.0522 - val_mean_squared_error: 0.0522\n",
      "Epoch 23/100\n",
      "90/90 [==============================] - 0s - loss: 0.0172 - mean_squared_error: 0.0172 - val_loss: 0.0280 - val_mean_squared_error: 0.0280\n",
      "Epoch 24/100\n",
      "90/90 [==============================] - 0s - loss: 0.0178 - mean_squared_error: 0.0178 - val_loss: 0.0243 - val_mean_squared_error: 0.0243\n",
      "Epoch 25/100\n",
      "90/90 [==============================] - 0s - loss: 0.0149 - mean_squared_error: 0.0149 - val_loss: 0.0159 - val_mean_squared_error: 0.0159\n",
      "Epoch 26/100\n",
      "90/90 [==============================] - 0s - loss: 0.0209 - mean_squared_error: 0.0209 - val_loss: 0.0183 - val_mean_squared_error: 0.0183\n",
      "Epoch 27/100\n",
      "90/90 [==============================] - 0s - loss: 0.0131 - mean_squared_error: 0.0131 - val_loss: 0.0223 - val_mean_squared_error: 0.0223\n",
      "Epoch 28/100\n",
      "90/90 [==============================] - 0s - loss: 0.0128 - mean_squared_error: 0.0128 - val_loss: 0.0211 - val_mean_squared_error: 0.0211\n",
      "Epoch 29/100\n",
      "90/90 [==============================] - 0s - loss: 0.0107 - mean_squared_error: 0.0107 - val_loss: 0.0207 - val_mean_squared_error: 0.0207\n",
      "Epoch 30/100\n",
      "90/90 [==============================] - 0s - loss: 0.0113 - mean_squared_error: 0.0113 - val_loss: 0.0161 - val_mean_squared_error: 0.0161\n",
      "Epoch 31/100\n",
      "90/90 [==============================] - 0s - loss: 0.0107 - mean_squared_error: 0.0107 - val_loss: 0.0272 - val_mean_squared_error: 0.0272\n",
      "Epoch 32/100\n",
      "90/90 [==============================] - 0s - loss: 0.0103 - mean_squared_error: 0.0103 - val_loss: 0.0177 - val_mean_squared_error: 0.0177\n",
      "Epoch 33/100\n",
      "90/90 [==============================] - 0s - loss: 0.0090 - mean_squared_error: 0.0090 - val_loss: 0.0157 - val_mean_squared_error: 0.0157\n",
      "Epoch 34/100\n",
      "90/90 [==============================] - 0s - loss: 0.0101 - mean_squared_error: 0.0101 - val_loss: 0.0199 - val_mean_squared_error: 0.0199\n",
      "Epoch 35/100\n",
      "90/90 [==============================] - 0s - loss: 0.0087 - mean_squared_error: 0.0087 - val_loss: 0.0164 - val_mean_squared_error: 0.0164\n",
      "Epoch 36/100\n",
      "90/90 [==============================] - 0s - loss: 0.0098 - mean_squared_error: 0.0098 - val_loss: 0.0232 - val_mean_squared_error: 0.0232\n",
      "Epoch 37/100\n",
      "90/90 [==============================] - 0s - loss: 0.0086 - mean_squared_error: 0.0086 - val_loss: 0.0259 - val_mean_squared_error: 0.0259\n",
      "Epoch 38/100\n",
      "90/90 [==============================] - 0s - loss: 0.0100 - mean_squared_error: 0.0100 - val_loss: 0.0217 - val_mean_squared_error: 0.0217\n",
      "Epoch 39/100\n",
      "90/90 [==============================] - 0s - loss: 0.0076 - mean_squared_error: 0.0076 - val_loss: 0.0207 - val_mean_squared_error: 0.0207\n",
      "Epoch 40/100\n",
      "90/90 [==============================] - 0s - loss: 0.0093 - mean_squared_error: 0.0093 - val_loss: 0.0222 - val_mean_squared_error: 0.0222\n",
      "Epoch 41/100\n",
      "90/90 [==============================] - 0s - loss: 0.0070 - mean_squared_error: 0.0070 - val_loss: 0.0175 - val_mean_squared_error: 0.0175\n",
      "Epoch 42/100\n",
      "90/90 [==============================] - 0s - loss: 0.0081 - mean_squared_error: 0.0081 - val_loss: 0.0165 - val_mean_squared_error: 0.0165\n",
      "Epoch 43/100\n",
      "90/90 [==============================] - 0s - loss: 0.0078 - mean_squared_error: 0.0078 - val_loss: 0.0141 - val_mean_squared_error: 0.0141\n",
      "Epoch 44/100\n",
      "90/90 [==============================] - 0s - loss: 0.0084 - mean_squared_error: 0.0084 - val_loss: 0.0169 - val_mean_squared_error: 0.0169\n",
      "Epoch 45/100\n",
      "90/90 [==============================] - 0s - loss: 0.0068 - mean_squared_error: 0.0068 - val_loss: 0.0187 - val_mean_squared_error: 0.0187\n",
      "Epoch 46/100\n",
      "90/90 [==============================] - 0s - loss: 0.0060 - mean_squared_error: 0.0060 - val_loss: 0.0196 - val_mean_squared_error: 0.0196\n",
      "Epoch 47/100\n",
      "90/90 [==============================] - 0s - loss: 0.0065 - mean_squared_error: 0.0065 - val_loss: 0.0200 - val_mean_squared_error: 0.0200\n",
      "Epoch 48/100\n",
      "90/90 [==============================] - 0s - loss: 0.0066 - mean_squared_error: 0.0066 - val_loss: 0.0190 - val_mean_squared_error: 0.0190\n",
      "Epoch 49/100\n",
      "90/90 [==============================] - 0s - loss: 0.0077 - mean_squared_error: 0.0077 - val_loss: 0.0174 - val_mean_squared_error: 0.0174\n",
      "Epoch 50/100\n",
      "90/90 [==============================] - 0s - loss: 0.0073 - mean_squared_error: 0.0073 - val_loss: 0.0166 - val_mean_squared_error: 0.0166\n",
      "Epoch 51/100\n",
      "90/90 [==============================] - 0s - loss: 0.0056 - mean_squared_error: 0.0056 - val_loss: 0.0196 - val_mean_squared_error: 0.0196\n",
      "Epoch 52/100\n",
      "90/90 [==============================] - 0s - loss: 0.0065 - mean_squared_error: 0.0065 - val_loss: 0.0190 - val_mean_squared_error: 0.0190\n",
      "Epoch 53/100\n"
     ]
    },
    {
     "name": "stdout",
     "output_type": "stream",
     "text": [
      "90/90 [==============================] - 0s - loss: 0.0061 - mean_squared_error: 0.0061 - val_loss: 0.0200 - val_mean_squared_error: 0.0200\n",
      "Epoch 54/100\n",
      "90/90 [==============================] - 0s - loss: 0.0064 - mean_squared_error: 0.0064 - val_loss: 0.0183 - val_mean_squared_error: 0.0183\n",
      "Epoch 55/100\n",
      "90/90 [==============================] - 0s - loss: 0.0062 - mean_squared_error: 0.0062 - val_loss: 0.0184 - val_mean_squared_error: 0.0184\n",
      "Epoch 56/100\n",
      "90/90 [==============================] - 0s - loss: 0.0081 - mean_squared_error: 0.0081 - val_loss: 0.0187 - val_mean_squared_error: 0.0187\n",
      "Epoch 57/100\n",
      "90/90 [==============================] - 0s - loss: 0.0060 - mean_squared_error: 0.0060 - val_loss: 0.0180 - val_mean_squared_error: 0.0180\n",
      "Epoch 58/100\n",
      "90/90 [==============================] - 0s - loss: 0.0050 - mean_squared_error: 0.0050 - val_loss: 0.0182 - val_mean_squared_error: 0.0182\n",
      "Epoch 59/100\n",
      "90/90 [==============================] - 0s - loss: 0.0055 - mean_squared_error: 0.0055 - val_loss: 0.0183 - val_mean_squared_error: 0.0183\n",
      "Epoch 60/100\n",
      "90/90 [==============================] - 0s - loss: 0.0059 - mean_squared_error: 0.0059 - val_loss: 0.0179 - val_mean_squared_error: 0.0179\n",
      "Epoch 61/100\n",
      "90/90 [==============================] - 0s - loss: 0.0055 - mean_squared_error: 0.0055 - val_loss: 0.0172 - val_mean_squared_error: 0.0172\n",
      "Epoch 62/100\n",
      "90/90 [==============================] - 0s - loss: 0.0053 - mean_squared_error: 0.0053 - val_loss: 0.0158 - val_mean_squared_error: 0.0158\n",
      "Epoch 63/100\n",
      "90/90 [==============================] - 0s - loss: 0.0054 - mean_squared_error: 0.0054 - val_loss: 0.0174 - val_mean_squared_error: 0.0174\n",
      "Epoch 64/100\n",
      "90/90 [==============================] - 0s - loss: 0.0059 - mean_squared_error: 0.0059 - val_loss: 0.0166 - val_mean_squared_error: 0.0166\n",
      "Epoch 65/100\n",
      "90/90 [==============================] - 0s - loss: 0.0056 - mean_squared_error: 0.0056 - val_loss: 0.0156 - val_mean_squared_error: 0.0156\n",
      "Epoch 66/100\n",
      "90/90 [==============================] - 0s - loss: 0.0052 - mean_squared_error: 0.0052 - val_loss: 0.0162 - val_mean_squared_error: 0.0162\n",
      "Epoch 67/100\n",
      "90/90 [==============================] - 0s - loss: 0.0058 - mean_squared_error: 0.0058 - val_loss: 0.0159 - val_mean_squared_error: 0.0159\n",
      "Epoch 68/100\n",
      "90/90 [==============================] - 0s - loss: 0.0057 - mean_squared_error: 0.0057 - val_loss: 0.0163 - val_mean_squared_error: 0.0163\n",
      "Epoch 69/100\n",
      "90/90 [==============================] - 0s - loss: 0.0066 - mean_squared_error: 0.0066 - val_loss: 0.0169 - val_mean_squared_error: 0.0169\n",
      "Epoch 70/100\n",
      "90/90 [==============================] - 0s - loss: 0.0060 - mean_squared_error: 0.0060 - val_loss: 0.0167 - val_mean_squared_error: 0.0167\n",
      "Epoch 71/100\n",
      "90/90 [==============================] - 0s - loss: 0.0057 - mean_squared_error: 0.0057 - val_loss: 0.0152 - val_mean_squared_error: 0.0152\n",
      "Epoch 72/100\n",
      "90/90 [==============================] - 0s - loss: 0.0052 - mean_squared_error: 0.0052 - val_loss: 0.0159 - val_mean_squared_error: 0.0159\n",
      "Epoch 73/100\n",
      "90/90 [==============================] - 0s - loss: 0.0056 - mean_squared_error: 0.0056 - val_loss: 0.0158 - val_mean_squared_error: 0.0158\n",
      "Epoch 74/100\n",
      "90/90 [==============================] - 0s - loss: 0.0045 - mean_squared_error: 0.0045 - val_loss: 0.0146 - val_mean_squared_error: 0.0146\n",
      "Epoch 75/100\n",
      "90/90 [==============================] - 0s - loss: 0.0056 - mean_squared_error: 0.0056 - val_loss: 0.0145 - val_mean_squared_error: 0.0145\n",
      "Epoch 76/100\n",
      "90/90 [==============================] - 0s - loss: 0.0059 - mean_squared_error: 0.0059 - val_loss: 0.0166 - val_mean_squared_error: 0.0166\n",
      "Epoch 77/100\n",
      "90/90 [==============================] - 0s - loss: 0.0052 - mean_squared_error: 0.0052 - val_loss: 0.0162 - val_mean_squared_error: 0.0162\n",
      "Epoch 78/100\n",
      "90/90 [==============================] - 0s - loss: 0.0055 - mean_squared_error: 0.0055 - val_loss: 0.0149 - val_mean_squared_error: 0.0149\n",
      "Epoch 79/100\n",
      "90/90 [==============================] - 0s - loss: 0.0063 - mean_squared_error: 0.0063 - val_loss: 0.0167 - val_mean_squared_error: 0.0167\n",
      "Epoch 80/100\n",
      "90/90 [==============================] - ETA: 0s - loss: 0.0060 - mean_squared_error: 0.00 - 0s - loss: 0.0059 - mean_squared_error: 0.0059 - val_loss: 0.0145 - val_mean_squared_error: 0.0145\n",
      "Epoch 81/100\n",
      "90/90 [==============================] - 0s - loss: 0.0059 - mean_squared_error: 0.0059 - val_loss: 0.0158 - val_mean_squared_error: 0.0158\n",
      "Epoch 82/100\n",
      "90/90 [==============================] - 0s - loss: 0.0057 - mean_squared_error: 0.0057 - val_loss: 0.0145 - val_mean_squared_error: 0.0145\n",
      "Epoch 83/100\n",
      "90/90 [==============================] - 0s - loss: 0.0052 - mean_squared_error: 0.0052 - val_loss: 0.0145 - val_mean_squared_error: 0.0145\n",
      "Epoch 84/100\n",
      "90/90 [==============================] - 0s - loss: 0.0052 - mean_squared_error: 0.0052 - val_loss: 0.0145 - val_mean_squared_error: 0.0145\n",
      "Epoch 85/100\n",
      "90/90 [==============================] - 0s - loss: 0.0056 - mean_squared_error: 0.0056 - val_loss: 0.0169 - val_mean_squared_error: 0.0169\n",
      "Epoch 86/100\n",
      "90/90 [==============================] - 0s - loss: 0.0059 - mean_squared_error: 0.0059 - val_loss: 0.0161 - val_mean_squared_error: 0.0161\n",
      "Epoch 87/100\n",
      "90/90 [==============================] - ETA: 0s - loss: 0.0056 - mean_squared_error: 0.00 - 0s - loss: 0.0053 - mean_squared_error: 0.0053 - val_loss: 0.0161 - val_mean_squared_error: 0.0161\n",
      "Epoch 88/100\n",
      "90/90 [==============================] - 0s - loss: 0.0050 - mean_squared_error: 0.0050 - val_loss: 0.0148 - val_mean_squared_error: 0.0148\n",
      "Epoch 89/100\n",
      "90/90 [==============================] - 0s - loss: 0.0058 - mean_squared_error: 0.0058 - val_loss: 0.0154 - val_mean_squared_error: 0.0154\n",
      "Epoch 90/100\n",
      "90/90 [==============================] - 0s - loss: 0.0051 - mean_squared_error: 0.0051 - val_loss: 0.0140 - val_mean_squared_error: 0.0140\n",
      "Epoch 91/100\n",
      "90/90 [==============================] - 0s - loss: 0.0044 - mean_squared_error: 0.0044 - val_loss: 0.0159 - val_mean_squared_error: 0.0159\n",
      "Epoch 92/100\n",
      "90/90 [==============================] - 0s - loss: 0.0047 - mean_squared_error: 0.0047 - val_loss: 0.0155 - val_mean_squared_error: 0.0155\n",
      "Epoch 93/100\n",
      "90/90 [==============================] - 0s - loss: 0.0056 - mean_squared_error: 0.0056 - val_loss: 0.0163 - val_mean_squared_error: 0.0163\n",
      "Epoch 94/100\n",
      "90/90 [==============================] - 0s - loss: 0.0048 - mean_squared_error: 0.0048 - val_loss: 0.0150 - val_mean_squared_error: 0.0150\n",
      "Epoch 95/100\n",
      "90/90 [==============================] - 0s - loss: 0.0046 - mean_squared_error: 0.0046 - val_loss: 0.0148 - val_mean_squared_error: 0.0148\n",
      "Epoch 96/100\n",
      "90/90 [==============================] - 0s - loss: 0.0053 - mean_squared_error: 0.0053 - val_loss: 0.0159 - val_mean_squared_error: 0.0159\n",
      "Epoch 97/100\n",
      "90/90 [==============================] - 0s - loss: 0.0054 - mean_squared_error: 0.0054 - val_loss: 0.0156 - val_mean_squared_error: 0.0156\n",
      "Epoch 98/100\n",
      "90/90 [==============================] - 0s - loss: 0.0049 - mean_squared_error: 0.0049 - val_loss: 0.0174 - val_mean_squared_error: 0.0174\n",
      "Epoch 99/100\n",
      "90/90 [==============================] - 0s - loss: 0.0051 - mean_squared_error: 0.0051 - val_loss: 0.0148 - val_mean_squared_error: 0.0148\n",
      "Epoch 100/100\n",
      "90/90 [==============================] - 0s - loss: 0.0045 - mean_squared_error: 0.0045 - val_loss: 0.0148 - val_mean_squared_error: 0.0148\n"
     ]
    }
   ],
   "source": [
    "fitting=model.fit(X_train_r[-12*batch_size:], y_train[-12*batch_size:], \n",
    "                  nb_epoch=100, batch_size=batch_size, verbose=1, validation_split=0.25)"
   ]
  },
  {
   "cell_type": "code",
   "execution_count": 158,
   "metadata": {},
   "outputs": [
    {
     "data": {
      "text/plain": [
       "<matplotlib.legend.Legend at 0x136b35d50>"
      ]
     },
     "execution_count": 158,
     "metadata": {},
     "output_type": "execute_result"
    },
    {
     "data": {
      "image/png": "[encoded data removed]",
      "text/plain": [
       "<matplotlib.figure.Figure at 0x136794c10>"
      ]
     },
     "metadata": {},
     "output_type": "display_data"
    }
   ],
   "source": [
    "plt.plot(fitting.history['loss'],'b')\n",
    "plt.plot(fitting.history['val_loss'],'g')\n",
    "plt.legend(('training_loss', 'testing_loss'))"
   ]
  },
  {
   "cell_type": "code",
   "execution_count": 159,
   "metadata": {},
   "outputs": [
    {
     "data": {
      "text/plain": [
       "1.0"
      ]
     },
     "execution_count": 159,
     "metadata": {},
     "output_type": "execute_result"
    }
   ],
   "source": [
    "X_test_r.shape[0] / batch_size"
   ]
  },
  {
   "cell_type": "code",
   "execution_count": 160,
   "metadata": {},
   "outputs": [],
   "source": [
    "y_fit_lstm=model.predict(X_train_r[-12*batch_size:], batch_size=batch_size)\n",
    "y_pred_lstm=model.predict(X_test_r)\n",
    "\n",
    "trainPredict_lstm = scaler.inverse_transform(y_fit_lstm)\n",
    "testPredict_lstm = scaler.inverse_transform(y_pred_lstm)"
   ]
  },
  {
   "cell_type": "code",
   "execution_count": 161,
   "metadata": {},
   "outputs": [
    {
     "data": {
      "text/plain": [
       "120"
      ]
     },
     "execution_count": 161,
     "metadata": {},
     "output_type": "execute_result"
    }
   ],
   "source": [
    "len(trainPredict_lstm)"
   ]
  },
  {
   "cell_type": "code",
   "execution_count": 162,
   "metadata": {},
   "outputs": [
    {
     "data": {
      "text/plain": [
       "[<matplotlib.lines.Line2D at 0x136b9fd90>]"
      ]
     },
     "execution_count": 162,
     "metadata": {},
     "output_type": "execute_result"
    },
    {
     "data": {
      "image/png": "[encoded data removed]",
      "text/plain": [
       "<matplotlib.figure.Figure at 0x12ddc5c50>"
      ]
     },
     "metadata": {},
     "output_type": "display_data"
    }
   ],
   "source": [
    "plt.plot(dataset,':')\n",
    "plt.plot(T_train[9:],trainPredict_lstm)\n",
    "plt.plot(T_test, testPredict_lstm,'.-')"
   ]
  },
  {
   "cell_type": "code",
   "execution_count": 164,
   "metadata": {},
   "outputs": [
    {
     "data": {
      "text/plain": [
       "0.0074718977091674486"
      ]
     },
     "execution_count": 164,
     "metadata": {},
     "output_type": "execute_result"
    }
   ],
   "source": [
    "metrics.mean_squared_error(y_train[-12*batch_size:],y_fit_lstm)"
   ]
  },
  {
   "cell_type": "code",
   "execution_count": 165,
   "metadata": {},
   "outputs": [
    {
     "data": {
      "text/plain": [
       "0.032897964451051871"
      ]
     },
     "execution_count": 165,
     "metadata": {},
     "output_type": "execute_result"
    }
   ],
   "source": [
    "metrics.mean_squared_error(y_test,y_pred_lstm)"
   ]
  },
  {
   "cell_type": "markdown",
   "metadata": {},
   "source": [
    "This is unerfitted. Let's add more epochs and early stopping."
   ]
  },
  {
   "cell_type": "code",
   "execution_count": 166,
   "metadata": {
    "collapsed": true
   },
   "outputs": [],
   "source": [
    "from keras import callbacks"
   ]
  },
  {
   "cell_type": "code",
   "execution_count": 167,
   "metadata": {
    "collapsed": true
   },
   "outputs": [],
   "source": [
    "model = Sequential()\n",
    "model.add(LSTM(60, return_sequences=True, stateful=True,\n",
    "               #input_shape=(None, look_back)))  # returns a sequence of vectors of dimension 32\n",
    "                batch_input_shape=(batch_size, None, look_back)))\n",
    "model.add(LSTM(30, return_sequences=True, stateful=True))  # returns a sequence of vectors of dimension 32\n",
    "model.add(LSTM(20, stateful=True))  # return a single vector of dimension 32\n",
    "model.add(Dense(1))\n",
    "\n",
    "model.compile(loss='mean_squared_error', optimizer='adam',\n",
    "             metrics=['mean_squared_error'])"
   ]
  },
  {
   "cell_type": "code",
   "execution_count": 170,
   "metadata": {
    "scrolled": true
   },
   "outputs": [
    {
     "name": "stdout",
     "output_type": "stream",
     "text": [
      "Train on 90 samples, validate on 30 samples\n",
      "Epoch 1/1000\n",
      "90/90 [==============================] - 0s - loss: 0.0060 - mean_squared_error: 0.0060 - val_loss: 0.0152 - val_mean_squared_error: 0.0152\n",
      "Epoch 2/1000\n",
      "90/90 [==============================] - 0s - loss: 0.0061 - mean_squared_error: 0.0061 - val_loss: 0.0150 - val_mean_squared_error: 0.0150\n",
      "Epoch 3/1000\n",
      "90/90 [==============================] - 0s - loss: 0.0051 - mean_squared_error: 0.0051 - val_loss: 0.0182 - val_mean_squared_error: 0.0182\n",
      "Epoch 4/1000\n",
      "90/90 [==============================] - 0s - loss: 0.0070 - mean_squared_error: 0.0070 - val_loss: 0.0168 - val_mean_squared_error: 0.0168\n",
      "Epoch 5/1000\n",
      "90/90 [==============================] - 0s - loss: 0.0060 - mean_squared_error: 0.0060 - val_loss: 0.0167 - val_mean_squared_error: 0.0167\n",
      "Epoch 6/1000\n",
      "90/90 [==============================] - 0s - loss: 0.0064 - mean_squared_error: 0.0064 - val_loss: 0.0152 - val_mean_squared_error: 0.0152\n",
      "Epoch 7/1000\n",
      "90/90 [==============================] - 0s - loss: 0.0071 - mean_squared_error: 0.0071 - val_loss: 0.0144 - val_mean_squared_error: 0.0144\n",
      "Epoch 8/1000\n",
      "90/90 [==============================] - 0s - loss: 0.0057 - mean_squared_error: 0.0057 - val_loss: 0.0154 - val_mean_squared_error: 0.0154\n",
      "Epoch 9/1000\n",
      "90/90 [==============================] - 0s - loss: 0.0059 - mean_squared_error: 0.0059 - val_loss: 0.0153 - val_mean_squared_error: 0.0153\n",
      "Epoch 10/1000\n",
      "90/90 [==============================] - 0s - loss: 0.0046 - mean_squared_error: 0.0046 - val_loss: 0.0145 - val_mean_squared_error: 0.0145\n",
      "Epoch 11/1000\n",
      "90/90 [==============================] - 0s - loss: 0.0056 - mean_squared_error: 0.0056 - val_loss: 0.0153 - val_mean_squared_error: 0.0153\n",
      "Epoch 12/1000\n",
      "90/90 [==============================] - 0s - loss: 0.0054 - mean_squared_error: 0.0054 - val_loss: 0.0162 - val_mean_squared_error: 0.0162\n",
      "Epoch 13/1000\n",
      "90/90 [==============================] - 0s - loss: 0.0052 - mean_squared_error: 0.0052 - val_loss: 0.0147 - val_mean_squared_error: 0.0147\n",
      "Epoch 14/1000\n",
      "90/90 [==============================] - 0s - loss: 0.0049 - mean_squared_error: 0.0049 - val_loss: 0.0150 - val_mean_squared_error: 0.0150\n",
      "Epoch 15/1000\n",
      "90/90 [==============================] - 0s - loss: 0.0060 - mean_squared_error: 0.0060 - val_loss: 0.0162 - val_mean_squared_error: 0.0162\n",
      "Epoch 16/1000\n",
      "90/90 [==============================] - 0s - loss: 0.0054 - mean_squared_error: 0.0054 - val_loss: 0.0165 - val_mean_squared_error: 0.0165\n",
      "Epoch 17/1000\n",
      "90/90 [==============================] - 0s - loss: 0.0057 - mean_squared_error: 0.0057 - val_loss: 0.0183 - val_mean_squared_error: 0.0183\n",
      "Epoch 18/1000\n",
      "90/90 [==============================] - 0s - loss: 0.0056 - mean_squared_error: 0.0056 - val_loss: 0.0163 - val_mean_squared_error: 0.0163\n",
      "Epoch 19/1000\n",
      "90/90 [==============================] - 0s - loss: 0.0054 - mean_squared_error: 0.0054 - val_loss: 0.0176 - val_mean_squared_error: 0.0176\n",
      "Epoch 20/1000\n",
      "90/90 [==============================] - 0s - loss: 0.0064 - mean_squared_error: 0.0064 - val_loss: 0.0186 - val_mean_squared_error: 0.0186\n",
      "Epoch 21/1000\n",
      "90/90 [==============================] - 0s - loss: 0.0059 - mean_squared_error: 0.0059 - val_loss: 0.0168 - val_mean_squared_error: 0.0168\n",
      "Epoch 22/1000\n",
      "90/90 [==============================] - 0s - loss: 0.0057 - mean_squared_error: 0.0057 - val_loss: 0.0159 - val_mean_squared_error: 0.0159\n",
      "Epoch 23/1000\n",
      "90/90 [==============================] - 0s - loss: 0.0053 - mean_squared_error: 0.0053 - val_loss: 0.0157 - val_mean_squared_error: 0.0157\n",
      "Epoch 24/1000\n",
      "90/90 [==============================] - 0s - loss: 0.0045 - mean_squared_error: 0.0045 - val_loss: 0.0186 - val_mean_squared_error: 0.0186\n",
      "Epoch 25/1000\n",
      "90/90 [==============================] - 0s - loss: 0.0059 - mean_squared_error: 0.0059 - val_loss: 0.0165 - val_mean_squared_error: 0.0165\n",
      "Epoch 26/1000\n",
      "90/90 [==============================] - 0s - loss: 0.0050 - mean_squared_error: 0.0050 - val_loss: 0.0177 - val_mean_squared_error: 0.0177\n",
      "Epoch 27/1000\n",
      "90/90 [==============================] - 0s - loss: 0.0059 - mean_squared_error: 0.0059 - val_loss: 0.0159 - val_mean_squared_error: 0.0159\n",
      "Epoch 28/1000\n",
      "90/90 [==============================] - 0s - loss: 0.0041 - mean_squared_error: 0.0041 - val_loss: 0.0148 - val_mean_squared_error: 0.0148\n",
      "Epoch 29/1000\n",
      "90/90 [==============================] - 0s - loss: 0.0057 - mean_squared_error: 0.0057 - val_loss: 0.0146 - val_mean_squared_error: 0.0146\n",
      "Epoch 30/1000\n",
      "90/90 [==============================] - 0s - loss: 0.0049 - mean_squared_error: 0.0049 - val_loss: 0.0164 - val_mean_squared_error: 0.0164\n",
      "Epoch 31/1000\n",
      "90/90 [==============================] - 0s - loss: 0.0050 - mean_squared_error: 0.0050 - val_loss: 0.0140 - val_mean_squared_error: 0.0140\n",
      "Epoch 32/1000\n",
      "90/90 [==============================] - 0s - loss: 0.0048 - mean_squared_error: 0.0048 - val_loss: 0.0150 - val_mean_squared_error: 0.0150\n",
      "Epoch 33/1000\n",
      "90/90 [==============================] - 0s - loss: 0.0054 - mean_squared_error: 0.0054 - val_loss: 0.0151 - val_mean_squared_error: 0.0151\n",
      "Epoch 34/1000\n",
      "90/90 [==============================] - 0s - loss: 0.0045 - mean_squared_error: 0.0045 - val_loss: 0.0150 - val_mean_squared_error: 0.0150.00\n",
      "Epoch 35/1000\n",
      "90/90 [==============================] - 0s - loss: 0.0041 - mean_squared_error: 0.0041 - val_loss: 0.0150 - val_mean_squared_error: 0.0150\n",
      "Epoch 36/1000\n",
      "90/90 [==============================] - 0s - loss: 0.0046 - mean_squared_error: 0.0046 - val_loss: 0.0154 - val_mean_squared_error: 0.0154\n",
      "Epoch 37/1000\n",
      "90/90 [==============================] - 0s - loss: 0.0054 - mean_squared_error: 0.0054 - val_loss: 0.0154 - val_mean_squared_error: 0.0154.00\n",
      "Epoch 38/1000\n",
      "90/90 [==============================] - 0s - loss: 0.0061 - mean_squared_error: 0.0061 - val_loss: 0.0163 - val_mean_squared_error: 0.0163\n",
      "Epoch 39/1000\n",
      "90/90 [==============================] - 0s - loss: 0.0051 - mean_squared_error: 0.0051 - val_loss: 0.0162 - val_mean_squared_error: 0.0162\n",
      "Epoch 40/1000\n",
      "90/90 [==============================] - 0s - loss: 0.0046 - mean_squared_error: 0.0046 - val_loss: 0.0144 - val_mean_squared_error: 0.0144\n",
      "Epoch 41/1000\n",
      "90/90 [==============================] - 0s - loss: 0.0054 - mean_squared_error: 0.0054 - val_loss: 0.0172 - val_mean_squared_error: 0.0172\n",
      "Epoch 42/1000\n",
      "90/90 [==============================] - 0s - loss: 0.0051 - mean_squared_error: 0.0051 - val_loss: 0.0168 - val_mean_squared_error: 0.0168\n",
      "Epoch 43/1000\n",
      "90/90 [==============================] - 0s - loss: 0.0051 - mean_squared_error: 0.0051 - val_loss: 0.0149 - val_mean_squared_error: 0.0149\n",
      "Epoch 44/1000\n",
      "90/90 [==============================] - 0s - loss: 0.0046 - mean_squared_error: 0.0046 - val_loss: 0.0143 - val_mean_squared_error: 0.0143\n",
      "Epoch 45/1000\n",
      "90/90 [==============================] - 0s - loss: 0.0048 - mean_squared_error: 0.0048 - val_loss: 0.0158 - val_mean_squared_error: 0.0158\n",
      "Epoch 46/1000\n",
      "90/90 [==============================] - 0s - loss: 0.0046 - mean_squared_error: 0.0046 - val_loss: 0.0145 - val_mean_squared_error: 0.0145\n",
      "Epoch 47/1000\n",
      "90/90 [==============================] - 0s - loss: 0.0047 - mean_squared_error: 0.0047 - val_loss: 0.0136 - val_mean_squared_error: 0.0136\n",
      "Epoch 48/1000\n",
      "90/90 [==============================] - 0s - loss: 0.0044 - mean_squared_error: 0.0044 - val_loss: 0.0145 - val_mean_squared_error: 0.0145\n",
      "Epoch 49/1000\n",
      "90/90 [==============================] - 0s - loss: 0.0042 - mean_squared_error: 0.0042 - val_loss: 0.0142 - val_mean_squared_error: 0.0142\n",
      "Epoch 50/1000\n",
      "90/90 [==============================] - 0s - loss: 0.0040 - mean_squared_error: 0.0040 - val_loss: 0.0140 - val_mean_squared_error: 0.0140\n",
      "Epoch 51/1000\n",
      "90/90 [==============================] - 0s - loss: 0.0042 - mean_squared_error: 0.0042 - val_loss: 0.0152 - val_mean_squared_error: 0.0152\n",
      "Epoch 52/1000\n",
      "90/90 [==============================] - 0s - loss: 0.0044 - mean_squared_error: 0.0044 - val_loss: 0.0142 - val_mean_squared_error: 0.0142\n",
      "Epoch 53/1000\n"
     ]
    },
    {
     "name": "stdout",
     "output_type": "stream",
     "text": [
      "90/90 [==============================] - 0s - loss: 0.0048 - mean_squared_error: 0.0048 - val_loss: 0.0131 - val_mean_squared_error: 0.0131\n",
      "Epoch 54/1000\n",
      "90/90 [==============================] - 0s - loss: 0.0047 - mean_squared_error: 0.0047 - val_loss: 0.0157 - val_mean_squared_error: 0.0157\n",
      "Epoch 55/1000\n",
      "90/90 [==============================] - 0s - loss: 0.0050 - mean_squared_error: 0.0050 - val_loss: 0.0149 - val_mean_squared_error: 0.0149\n",
      "Epoch 56/1000\n",
      "90/90 [==============================] - 0s - loss: 0.0050 - mean_squared_error: 0.0050 - val_loss: 0.0142 - val_mean_squared_error: 0.0142\n",
      "Epoch 57/1000\n",
      "90/90 [==============================] - 0s - loss: 0.0045 - mean_squared_error: 0.0045 - val_loss: 0.0143 - val_mean_squared_error: 0.0143.\n",
      "Epoch 58/1000\n",
      "90/90 [==============================] - 0s - loss: 0.0045 - mean_squared_error: 0.0045 - val_loss: 0.0137 - val_mean_squared_error: 0.0137\n",
      "Epoch 59/1000\n",
      "90/90 [==============================] - 0s - loss: 0.0040 - mean_squared_error: 0.0040 - val_loss: 0.0144 - val_mean_squared_error: 0.0144\n",
      "Epoch 60/1000\n",
      "90/90 [==============================] - 0s - loss: 0.0044 - mean_squared_error: 0.0044 - val_loss: 0.0158 - val_mean_squared_error: 0.0158\n",
      "Epoch 61/1000\n",
      "90/90 [==============================] - 0s - loss: 0.0048 - mean_squared_error: 0.0048 - val_loss: 0.0161 - val_mean_squared_error: 0.0161\n",
      "Epoch 62/1000\n",
      "90/90 [==============================] - 0s - loss: 0.0041 - mean_squared_error: 0.0041 - val_loss: 0.0144 - val_mean_squared_error: 0.0144\n",
      "Epoch 63/1000\n",
      "90/90 [==============================] - 0s - loss: 0.0044 - mean_squared_error: 0.0044 - val_loss: 0.0139 - val_mean_squared_error: 0.0139\n",
      "Epoch 64/1000\n",
      "90/90 [==============================] - 0s - loss: 0.0041 - mean_squared_error: 0.0041 - val_loss: 0.0152 - val_mean_squared_error: 0.0152\n",
      "Epoch 65/1000\n",
      "90/90 [==============================] - 0s - loss: 0.0042 - mean_squared_error: 0.0042 - val_loss: 0.0144 - val_mean_squared_error: 0.0144\n",
      "Epoch 66/1000\n",
      "90/90 [==============================] - 0s - loss: 0.0044 - mean_squared_error: 0.0044 - val_loss: 0.0137 - val_mean_squared_error: 0.0137\n",
      "Epoch 67/1000\n",
      "90/90 [==============================] - 0s - loss: 0.0055 - mean_squared_error: 0.0055 - val_loss: 0.0171 - val_mean_squared_error: 0.0171\n",
      "Epoch 68/1000\n",
      "90/90 [==============================] - 0s - loss: 0.0043 - mean_squared_error: 0.0043 - val_loss: 0.0141 - val_mean_squared_error: 0.0141\n",
      "Epoch 69/1000\n",
      "90/90 [==============================] - 0s - loss: 0.0040 - mean_squared_error: 0.0040 - val_loss: 0.0188 - val_mean_squared_error: 0.0188\n",
      "Epoch 70/1000\n",
      "90/90 [==============================] - 0s - loss: 0.0052 - mean_squared_error: 0.0052 - val_loss: 0.0151 - val_mean_squared_error: 0.0151\n",
      "Epoch 71/1000\n",
      "90/90 [==============================] - 0s - loss: 0.0049 - mean_squared_error: 0.0049 - val_loss: 0.0148 - val_mean_squared_error: 0.0148\n",
      "Epoch 72/1000\n",
      "90/90 [==============================] - 0s - loss: 0.0048 - mean_squared_error: 0.0048 - val_loss: 0.0134 - val_mean_squared_error: 0.0134\n",
      "Epoch 73/1000\n",
      "90/90 [==============================] - 0s - loss: 0.0037 - mean_squared_error: 0.0037 - val_loss: 0.0146 - val_mean_squared_error: 0.0146\n",
      "Epoch 74/1000\n",
      "90/90 [==============================] - 0s - loss: 0.0040 - mean_squared_error: 0.0040 - val_loss: 0.0144 - val_mean_squared_error: 0.0144\n",
      "Epoch 75/1000\n",
      "90/90 [==============================] - 0s - loss: 0.0044 - mean_squared_error: 0.0044 - val_loss: 0.0139 - val_mean_squared_error: 0.0139\n",
      "Epoch 76/1000\n",
      "90/90 [==============================] - ETA: 0s - loss: 0.0036 - mean_squared_error: 0.00 - 0s - loss: 0.0035 - mean_squared_error: 0.0035 - val_loss: 0.0163 - val_mean_squared_error: 0.0163\n",
      "Epoch 77/1000\n",
      "90/90 [==============================] - 0s - loss: 0.0045 - mean_squared_error: 0.0045 - val_loss: 0.0141 - val_mean_squared_error: 0.0141\n",
      "Epoch 78/1000\n",
      "90/90 [==============================] - 0s - loss: 0.0049 - mean_squared_error: 0.0049 - val_loss: 0.0159 - val_mean_squared_error: 0.0159\n",
      "Epoch 79/1000\n",
      "90/90 [==============================] - 0s - loss: 0.0039 - mean_squared_error: 0.0039 - val_loss: 0.0138 - val_mean_squared_error: 0.0138\n",
      "Epoch 80/1000\n",
      "90/90 [==============================] - 0s - loss: 0.0043 - mean_squared_error: 0.0043 - val_loss: 0.0139 - val_mean_squared_error: 0.0139\n",
      "Epoch 81/1000\n",
      "90/90 [==============================] - 0s - loss: 0.0038 - mean_squared_error: 0.0038 - val_loss: 0.0137 - val_mean_squared_error: 0.0137\n",
      "Epoch 82/1000\n",
      "90/90 [==============================] - 0s - loss: 0.0039 - mean_squared_error: 0.0039 - val_loss: 0.0146 - val_mean_squared_error: 0.0146\n",
      "Epoch 83/1000\n",
      "90/90 [==============================] - 0s - loss: 0.0039 - mean_squared_error: 0.0039 - val_loss: 0.0137 - val_mean_squared_error: 0.0137\n",
      "Epoch 84/1000\n",
      "90/90 [==============================] - 0s - loss: 0.0042 - mean_squared_error: 0.0042 - val_loss: 0.0135 - val_mean_squared_error: 0.0135\n",
      "Epoch 85/1000\n",
      "90/90 [==============================] - 0s - loss: 0.0041 - mean_squared_error: 0.0041 - val_loss: 0.0143 - val_mean_squared_error: 0.0143\n",
      "Epoch 86/1000\n",
      "90/90 [==============================] - 0s - loss: 0.0034 - mean_squared_error: 0.0034 - val_loss: 0.0138 - val_mean_squared_error: 0.0138\n",
      "Epoch 87/1000\n",
      "90/90 [==============================] - 0s - loss: 0.0036 - mean_squared_error: 0.0036 - val_loss: 0.0125 - val_mean_squared_error: 0.0125\n",
      "Epoch 88/1000\n",
      "90/90 [==============================] - 0s - loss: 0.0046 - mean_squared_error: 0.0046 - val_loss: 0.0117 - val_mean_squared_error: 0.0117\n",
      "Epoch 89/1000\n",
      "90/90 [==============================] - 0s - loss: 0.0045 - mean_squared_error: 0.0045 - val_loss: 0.0136 - val_mean_squared_error: 0.0136\n",
      "Epoch 90/1000\n",
      "90/90 [==============================] - 0s - loss: 0.0038 - mean_squared_error: 0.0038 - val_loss: 0.0131 - val_mean_squared_error: 0.0131\n",
      "Epoch 91/1000\n",
      "90/90 [==============================] - 0s - loss: 0.0041 - mean_squared_error: 0.0041 - val_loss: 0.0131 - val_mean_squared_error: 0.0131\n",
      "Epoch 92/1000\n",
      "90/90 [==============================] - 0s - loss: 0.0043 - mean_squared_error: 0.0043 - val_loss: 0.0121 - val_mean_squared_error: 0.0121\n",
      "Epoch 93/1000\n",
      "90/90 [==============================] - 0s - loss: 0.0033 - mean_squared_error: 0.0033 - val_loss: 0.0143 - val_mean_squared_error: 0.0143\n",
      "Epoch 94/1000\n",
      "90/90 [==============================] - 0s - loss: 0.0039 - mean_squared_error: 0.0039 - val_loss: 0.0131 - val_mean_squared_error: 0.0131\n",
      "Epoch 95/1000\n",
      "90/90 [==============================] - 0s - loss: 0.0039 - mean_squared_error: 0.0039 - val_loss: 0.0118 - val_mean_squared_error: 0.0118\n",
      "Epoch 96/1000\n",
      "90/90 [==============================] - 0s - loss: 0.0041 - mean_squared_error: 0.0041 - val_loss: 0.0125 - val_mean_squared_error: 0.0125\n",
      "Epoch 97/1000\n",
      "90/90 [==============================] - 0s - loss: 0.0037 - mean_squared_error: 0.0037 - val_loss: 0.0132 - val_mean_squared_error: 0.0132\n",
      "Epoch 98/1000\n",
      "90/90 [==============================] - 0s - loss: 0.0044 - mean_squared_error: 0.0044 - val_loss: 0.0127 - val_mean_squared_error: 0.0127\n",
      "Epoch 99/1000\n",
      "90/90 [==============================] - 0s - loss: 0.0039 - mean_squared_error: 0.0039 - val_loss: 0.0128 - val_mean_squared_error: 0.0128\n",
      "Epoch 100/1000\n",
      "90/90 [==============================] - 0s - loss: 0.0042 - mean_squared_error: 0.0042 - val_loss: 0.0131 - val_mean_squared_error: 0.0131\n",
      "Epoch 101/1000\n",
      "90/90 [==============================] - 0s - loss: 0.0036 - mean_squared_error: 0.0036 - val_loss: 0.0137 - val_mean_squared_error: 0.0137\n",
      "Epoch 102/1000\n",
      "90/90 [==============================] - 0s - loss: 0.0034 - mean_squared_error: 0.0034 - val_loss: 0.0149 - val_mean_squared_error: 0.0149\n",
      "Epoch 103/1000\n",
      "90/90 [==============================] - 0s - loss: 0.0033 - mean_squared_error: 0.0033 - val_loss: 0.0129 - val_mean_squared_error: 0.0129\n",
      "Epoch 104/1000\n",
      "90/90 [==============================] - 0s - loss: 0.0034 - mean_squared_error: 0.0034 - val_loss: 0.0125 - val_mean_squared_error: 0.0125\n",
      "Epoch 105/1000\n"
     ]
    },
    {
     "name": "stdout",
     "output_type": "stream",
     "text": [
      "90/90 [==============================] - 0s - loss: 0.0036 - mean_squared_error: 0.0036 - val_loss: 0.0138 - val_mean_squared_error: 0.0138\n",
      "Epoch 106/1000\n",
      "90/90 [==============================] - 0s - loss: 0.0034 - mean_squared_error: 0.0034 - val_loss: 0.0126 - val_mean_squared_error: 0.0126\n",
      "Epoch 107/1000\n",
      "90/90 [==============================] - 0s - loss: 0.0034 - mean_squared_error: 0.0034 - val_loss: 0.0123 - val_mean_squared_error: 0.0123\n",
      "Epoch 108/1000\n",
      "90/90 [==============================] - 0s - loss: 0.0040 - mean_squared_error: 0.0040 - val_loss: 0.0128 - val_mean_squared_error: 0.0128\n",
      "Epoch 109/1000\n",
      "90/90 [==============================] - 0s - loss: 0.0047 - mean_squared_error: 0.0047 - val_loss: 0.0147 - val_mean_squared_error: 0.0147\n",
      "Epoch 110/1000\n",
      "90/90 [==============================] - 0s - loss: 0.0041 - mean_squared_error: 0.0041 - val_loss: 0.0128 - val_mean_squared_error: 0.0128\n",
      "Epoch 111/1000\n",
      "90/90 [==============================] - 0s - loss: 0.0043 - mean_squared_error: 0.0043 - val_loss: 0.0118 - val_mean_squared_error: 0.0118\n",
      "Epoch 112/1000\n",
      "90/90 [==============================] - 0s - loss: 0.0036 - mean_squared_error: 0.0036 - val_loss: 0.0118 - val_mean_squared_error: 0.0118\n",
      "Epoch 113/1000\n",
      "90/90 [==============================] - 0s - loss: 0.0035 - mean_squared_error: 0.0035 - val_loss: 0.0106 - val_mean_squared_error: 0.0106\n",
      "Epoch 114/1000\n",
      "90/90 [==============================] - 0s - loss: 0.0042 - mean_squared_error: 0.0042 - val_loss: 0.0128 - val_mean_squared_error: 0.0128\n",
      "Epoch 115/1000\n",
      "90/90 [==============================] - 0s - loss: 0.0039 - mean_squared_error: 0.0039 - val_loss: 0.0113 - val_mean_squared_error: 0.0113\n",
      "Epoch 116/1000\n",
      "90/90 [==============================] - 0s - loss: 0.0045 - mean_squared_error: 0.0045 - val_loss: 0.0120 - val_mean_squared_error: 0.0120\n",
      "Epoch 117/1000\n",
      "90/90 [==============================] - 0s - loss: 0.0037 - mean_squared_error: 0.0037 - val_loss: 0.0119 - val_mean_squared_error: 0.0119\n",
      "Epoch 118/1000\n",
      "90/90 [==============================] - 0s - loss: 0.0038 - mean_squared_error: 0.0038 - val_loss: 0.0144 - val_mean_squared_error: 0.0144\n",
      "Epoch 119/1000\n",
      "90/90 [==============================] - 0s - loss: 0.0034 - mean_squared_error: 0.0034 - val_loss: 0.0127 - val_mean_squared_error: 0.0127\n",
      "Epoch 120/1000\n",
      "90/90 [==============================] - 0s - loss: 0.0038 - mean_squared_error: 0.0038 - val_loss: 0.0117 - val_mean_squared_error: 0.0117\n",
      "Epoch 121/1000\n",
      "90/90 [==============================] - 0s - loss: 0.0036 - mean_squared_error: 0.0036 - val_loss: 0.0109 - val_mean_squared_error: 0.0109\n",
      "Epoch 122/1000\n",
      "90/90 [==============================] - 0s - loss: 0.0039 - mean_squared_error: 0.0039 - val_loss: 0.0124 - val_mean_squared_error: 0.0124\n",
      "Epoch 123/1000\n",
      "90/90 [==============================] - 0s - loss: 0.0047 - mean_squared_error: 0.0047 - val_loss: 0.0131 - val_mean_squared_error: 0.0131\n",
      "Epoch 124/1000\n",
      "90/90 [==============================] - 0s - loss: 0.0039 - mean_squared_error: 0.0039 - val_loss: 0.0122 - val_mean_squared_error: 0.0122\n",
      "Epoch 125/1000\n",
      "90/90 [==============================] - 0s - loss: 0.0034 - mean_squared_error: 0.0034 - val_loss: 0.0105 - val_mean_squared_error: 0.0105\n",
      "Epoch 126/1000\n",
      "90/90 [==============================] - 0s - loss: 0.0033 - mean_squared_error: 0.0033 - val_loss: 0.0111 - val_mean_squared_error: 0.0111.00\n",
      "Epoch 127/1000\n",
      "90/90 [==============================] - 0s - loss: 0.0037 - mean_squared_error: 0.0037 - val_loss: 0.0143 - val_mean_squared_error: 0.0143\n",
      "Epoch 128/1000\n",
      "90/90 [==============================] - 0s - loss: 0.0039 - mean_squared_error: 0.0039 - val_loss: 0.0107 - val_mean_squared_error: 0.0107\n",
      "Epoch 129/1000\n",
      "90/90 [==============================] - 0s - loss: 0.0033 - mean_squared_error: 0.0033 - val_loss: 0.0105 - val_mean_squared_error: 0.0105\n",
      "Epoch 130/1000\n",
      "90/90 [==============================] - 0s - loss: 0.0039 - mean_squared_error: 0.0039 - val_loss: 0.0109 - val_mean_squared_error: 0.0109\n",
      "Epoch 131/1000\n",
      "90/90 [==============================] - 0s - loss: 0.0038 - mean_squared_error: 0.0038 - val_loss: 0.0116 - val_mean_squared_error: 0.0116\n",
      "Epoch 132/1000\n",
      "90/90 [==============================] - 0s - loss: 0.0037 - mean_squared_error: 0.0037 - val_loss: 0.0120 - val_mean_squared_error: 0.0120\n",
      "Epoch 133/1000\n",
      "90/90 [==============================] - 0s - loss: 0.0034 - mean_squared_error: 0.0034 - val_loss: 0.0116 - val_mean_squared_error: 0.0116\n",
      "Epoch 134/1000\n",
      "90/90 [==============================] - 0s - loss: 0.0031 - mean_squared_error: 0.0031 - val_loss: 0.0131 - val_mean_squared_error: 0.0131\n",
      "Epoch 135/1000\n",
      "90/90 [==============================] - 0s - loss: 0.0031 - mean_squared_error: 0.0031 - val_loss: 0.0118 - val_mean_squared_error: 0.0118\n",
      "Epoch 136/1000\n",
      "90/90 [==============================] - ETA: 0s - loss: 0.0038 - mean_squared_error: 0.00 - 0s - loss: 0.0036 - mean_squared_error: 0.0036 - val_loss: 0.0150 - val_mean_squared_error: 0.0150\n",
      "Epoch 137/1000\n",
      "90/90 [==============================] - 0s - loss: 0.0036 - mean_squared_error: 0.0036 - val_loss: 0.0125 - val_mean_squared_error: 0.0125\n",
      "Epoch 138/1000\n",
      "90/90 [==============================] - 0s - loss: 0.0033 - mean_squared_error: 0.0033 - val_loss: 0.0123 - val_mean_squared_error: 0.0123\n",
      "Epoch 139/1000\n",
      "90/90 [==============================] - 0s - loss: 0.0033 - mean_squared_error: 0.0033 - val_loss: 0.0116 - val_mean_squared_error: 0.0116\n",
      "Epoch 140/1000\n",
      "90/90 [==============================] - 0s - loss: 0.0031 - mean_squared_error: 0.0031 - val_loss: 0.0102 - val_mean_squared_error: 0.0102\n",
      "Epoch 141/1000\n",
      "90/90 [==============================] - 0s - loss: 0.0044 - mean_squared_error: 0.0044 - val_loss: 0.0135 - val_mean_squared_error: 0.0135\n",
      "Epoch 142/1000\n",
      "90/90 [==============================] - 0s - loss: 0.0038 - mean_squared_error: 0.0038 - val_loss: 0.0137 - val_mean_squared_error: 0.0137\n",
      "Epoch 143/1000\n",
      "90/90 [==============================] - 0s - loss: 0.0035 - mean_squared_error: 0.0035 - val_loss: 0.0111 - val_mean_squared_error: 0.0111\n",
      "Epoch 144/1000\n",
      "90/90 [==============================] - 0s - loss: 0.0028 - mean_squared_error: 0.0028 - val_loss: 0.0132 - val_mean_squared_error: 0.0132\n",
      "Epoch 145/1000\n",
      "90/90 [==============================] - 0s - loss: 0.0031 - mean_squared_error: 0.0031 - val_loss: 0.0104 - val_mean_squared_error: 0.0104\n",
      "Epoch 146/1000\n",
      "90/90 [==============================] - 0s - loss: 0.0037 - mean_squared_error: 0.0037 - val_loss: 0.0112 - val_mean_squared_error: 0.0112\n",
      "Epoch 147/1000\n",
      "90/90 [==============================] - 0s - loss: 0.0034 - mean_squared_error: 0.0034 - val_loss: 0.0128 - val_mean_squared_error: 0.0128\n",
      "Epoch 148/1000\n",
      "90/90 [==============================] - 0s - loss: 0.0037 - mean_squared_error: 0.0037 - val_loss: 0.0121 - val_mean_squared_error: 0.0121\n",
      "Epoch 149/1000\n",
      "90/90 [==============================] - 0s - loss: 0.0033 - mean_squared_error: 0.0033 - val_loss: 0.0126 - val_mean_squared_error: 0.0126\n",
      "Epoch 150/1000\n",
      "90/90 [==============================] - 0s - loss: 0.0037 - mean_squared_error: 0.0037 - val_loss: 0.0116 - val_mean_squared_error: 0.0116\n",
      "Epoch 151/1000\n",
      "90/90 [==============================] - 0s - loss: 0.0037 - mean_squared_error: 0.0037 - val_loss: 0.0126 - val_mean_squared_error: 0.0126\n",
      "Epoch 152/1000\n",
      "90/90 [==============================] - 0s - loss: 0.0032 - mean_squared_error: 0.0032 - val_loss: 0.0110 - val_mean_squared_error: 0.0110\n",
      "Epoch 153/1000\n",
      "90/90 [==============================] - 0s - loss: 0.0041 - mean_squared_error: 0.0041 - val_loss: 0.0106 - val_mean_squared_error: 0.0106\n",
      "Epoch 154/1000\n",
      "90/90 [==============================] - 0s - loss: 0.0036 - mean_squared_error: 0.0036 - val_loss: 0.0100 - val_mean_squared_error: 0.0100\n",
      "Epoch 155/1000\n",
      "90/90 [==============================] - 0s - loss: 0.0034 - mean_squared_error: 0.0034 - val_loss: 0.0124 - val_mean_squared_error: 0.0124\n",
      "Epoch 156/1000\n",
      "90/90 [==============================] - 0s - loss: 0.0033 - mean_squared_error: 0.0033 - val_loss: 0.0118 - val_mean_squared_error: 0.0118\n",
      "Epoch 157/1000\n"
     ]
    },
    {
     "name": "stdout",
     "output_type": "stream",
     "text": [
      "90/90 [==============================] - 0s - loss: 0.0031 - mean_squared_error: 0.0031 - val_loss: 0.0120 - val_mean_squared_error: 0.0120\n",
      "Epoch 158/1000\n",
      "90/90 [==============================] - 0s - loss: 0.0037 - mean_squared_error: 0.0037 - val_loss: 0.0113 - val_mean_squared_error: 0.0113\n",
      "Epoch 159/1000\n",
      "90/90 [==============================] - 0s - loss: 0.0039 - mean_squared_error: 0.0039 - val_loss: 0.0105 - val_mean_squared_error: 0.0105\n",
      "Epoch 160/1000\n",
      "90/90 [==============================] - 0s - loss: 0.0033 - mean_squared_error: 0.0033 - val_loss: 0.0108 - val_mean_squared_error: 0.0108\n",
      "Epoch 161/1000\n",
      "90/90 [==============================] - 0s - loss: 0.0039 - mean_squared_error: 0.0039 - val_loss: 0.0106 - val_mean_squared_error: 0.0106\n",
      "Epoch 162/1000\n",
      "90/90 [==============================] - 0s - loss: 0.0035 - mean_squared_error: 0.0035 - val_loss: 0.0116 - val_mean_squared_error: 0.0116\n",
      "Epoch 163/1000\n",
      "90/90 [==============================] - 0s - loss: 0.0036 - mean_squared_error: 0.0036 - val_loss: 0.0116 - val_mean_squared_error: 0.0116\n",
      "Epoch 164/1000\n",
      "90/90 [==============================] - 0s - loss: 0.0031 - mean_squared_error: 0.0031 - val_loss: 0.0111 - val_mean_squared_error: 0.0111\n",
      "Epoch 165/1000\n",
      "90/90 [==============================] - 0s - loss: 0.0035 - mean_squared_error: 0.0035 - val_loss: 0.0107 - val_mean_squared_error: 0.0107\n",
      "Epoch 166/1000\n",
      "90/90 [==============================] - 0s - loss: 0.0040 - mean_squared_error: 0.0040 - val_loss: 0.0123 - val_mean_squared_error: 0.0123\n",
      "Epoch 167/1000\n",
      "90/90 [==============================] - 0s - loss: 0.0036 - mean_squared_error: 0.0036 - val_loss: 0.0104 - val_mean_squared_error: 0.0104\n",
      "Epoch 168/1000\n",
      "90/90 [==============================] - 0s - loss: 0.0027 - mean_squared_error: 0.0027 - val_loss: 0.0096 - val_mean_squared_error: 0.0096\n",
      "Epoch 169/1000\n",
      "90/90 [==============================] - 0s - loss: 0.0032 - mean_squared_error: 0.0032 - val_loss: 0.0114 - val_mean_squared_error: 0.0114\n",
      "Epoch 170/1000\n",
      "90/90 [==============================] - 0s - loss: 0.0028 - mean_squared_error: 0.0028 - val_loss: 0.0098 - val_mean_squared_error: 0.0098\n",
      "Epoch 171/1000\n",
      "90/90 [==============================] - 0s - loss: 0.0034 - mean_squared_error: 0.0034 - val_loss: 0.0113 - val_mean_squared_error: 0.0113\n",
      "Epoch 172/1000\n",
      "90/90 [==============================] - 0s - loss: 0.0038 - mean_squared_error: 0.0038 - val_loss: 0.0105 - val_mean_squared_error: 0.0105\n",
      "Epoch 173/1000\n",
      "90/90 [==============================] - 0s - loss: 0.0034 - mean_squared_error: 0.0034 - val_loss: 0.0104 - val_mean_squared_error: 0.0104\n",
      "Epoch 174/1000\n",
      "90/90 [==============================] - 0s - loss: 0.0029 - mean_squared_error: 0.0029 - val_loss: 0.0111 - val_mean_squared_error: 0.0111\n",
      "Epoch 175/1000\n",
      "90/90 [==============================] - 0s - loss: 0.0033 - mean_squared_error: 0.0033 - val_loss: 0.0107 - val_mean_squared_error: 0.0107\n",
      "Epoch 176/1000\n",
      "90/90 [==============================] - 0s - loss: 0.0029 - mean_squared_error: 0.0029 - val_loss: 0.0114 - val_mean_squared_error: 0.0114\n",
      "Epoch 177/1000\n",
      "90/90 [==============================] - 0s - loss: 0.0034 - mean_squared_error: 0.0034 - val_loss: 0.0103 - val_mean_squared_error: 0.0103\n",
      "Epoch 178/1000\n",
      "90/90 [==============================] - 0s - loss: 0.0029 - mean_squared_error: 0.0029 - val_loss: 0.0104 - val_mean_squared_error: 0.0104\n",
      "Epoch 179/1000\n",
      "90/90 [==============================] - 0s - loss: 0.0032 - mean_squared_error: 0.0032 - val_loss: 0.0116 - val_mean_squared_error: 0.0116\n",
      "Epoch 180/1000\n",
      "90/90 [==============================] - 0s - loss: 0.0036 - mean_squared_error: 0.0036 - val_loss: 0.0121 - val_mean_squared_error: 0.0121\n",
      "Epoch 181/1000\n",
      "90/90 [==============================] - 0s - loss: 0.0032 - mean_squared_error: 0.0032 - val_loss: 0.0108 - val_mean_squared_error: 0.0108\n",
      "Epoch 182/1000\n",
      "90/90 [==============================] - 0s - loss: 0.0047 - mean_squared_error: 0.0047 - val_loss: 0.0110 - val_mean_squared_error: 0.0110\n",
      "Epoch 183/1000\n",
      "90/90 [==============================] - 0s - loss: 0.0031 - mean_squared_error: 0.0031 - val_loss: 0.0123 - val_mean_squared_error: 0.0123\n",
      "Epoch 184/1000\n",
      "90/90 [==============================] - 0s - loss: 0.0034 - mean_squared_error: 0.0034 - val_loss: 0.0111 - val_mean_squared_error: 0.0111\n",
      "Epoch 185/1000\n",
      "90/90 [==============================] - 0s - loss: 0.0034 - mean_squared_error: 0.0034 - val_loss: 0.0112 - val_mean_squared_error: 0.0112\n",
      "Epoch 186/1000\n",
      "90/90 [==============================] - 0s - loss: 0.0036 - mean_squared_error: 0.0036 - val_loss: 0.0105 - val_mean_squared_error: 0.0105\n",
      "Epoch 187/1000\n",
      "90/90 [==============================] - 0s - loss: 0.0033 - mean_squared_error: 0.0033 - val_loss: 0.0127 - val_mean_squared_error: 0.0127\n",
      "Epoch 188/1000\n",
      "90/90 [==============================] - 0s - loss: 0.0035 - mean_squared_error: 0.0035 - val_loss: 0.0115 - val_mean_squared_error: 0.0115\n",
      "Epoch 189/1000\n",
      "90/90 [==============================] - 0s - loss: 0.0035 - mean_squared_error: 0.0035 - val_loss: 0.0119 - val_mean_squared_error: 0.0119\n",
      "Epoch 190/1000\n",
      "90/90 [==============================] - 0s - loss: 0.0041 - mean_squared_error: 0.0041 - val_loss: 0.0105 - val_mean_squared_error: 0.0105\n",
      "Epoch 191/1000\n",
      "90/90 [==============================] - 0s - loss: 0.0036 - mean_squared_error: 0.0036 - val_loss: 0.0115 - val_mean_squared_error: 0.0115\n",
      "Epoch 192/1000\n",
      "90/90 [==============================] - 0s - loss: 0.0030 - mean_squared_error: 0.0030 - val_loss: 0.0109 - val_mean_squared_error: 0.0109\n",
      "Epoch 193/1000\n",
      "90/90 [==============================] - 0s - loss: 0.0037 - mean_squared_error: 0.0037 - val_loss: 0.0098 - val_mean_squared_error: 0.0098\n",
      "Epoch 194/1000\n",
      "90/90 [==============================] - 0s - loss: 0.0029 - mean_squared_error: 0.0029 - val_loss: 0.0100 - val_mean_squared_error: 0.0100\n",
      "Epoch 195/1000\n",
      "90/90 [==============================] - 0s - loss: 0.0036 - mean_squared_error: 0.0036 - val_loss: 0.0101 - val_mean_squared_error: 0.0101\n",
      "Epoch 196/1000\n",
      "90/90 [==============================] - 0s - loss: 0.0031 - mean_squared_error: 0.0031 - val_loss: 0.0110 - val_mean_squared_error: 0.0110\n",
      "Epoch 197/1000\n",
      "90/90 [==============================] - 0s - loss: 0.0032 - mean_squared_error: 0.0032 - val_loss: 0.0102 - val_mean_squared_error: 0.0102\n",
      "Epoch 198/1000\n",
      "90/90 [==============================] - 0s - loss: 0.0036 - mean_squared_error: 0.0036 - val_loss: 0.0112 - val_mean_squared_error: 0.0112\n",
      "Epoch 199/1000\n",
      "90/90 [==============================] - 0s - loss: 0.0042 - mean_squared_error: 0.0042 - val_loss: 0.0134 - val_mean_squared_error: 0.0134\n",
      "Epoch 200/1000\n",
      "90/90 [==============================] - 0s - loss: 0.0043 - mean_squared_error: 0.0043 - val_loss: 0.0108 - val_mean_squared_error: 0.0108\n",
      "Epoch 201/1000\n",
      "90/90 [==============================] - 0s - loss: 0.0031 - mean_squared_error: 0.0031 - val_loss: 0.0103 - val_mean_squared_error: 0.0103\n",
      "Epoch 202/1000\n",
      "90/90 [==============================] - 0s - loss: 0.0032 - mean_squared_error: 0.0032 - val_loss: 0.0108 - val_mean_squared_error: 0.0108\n",
      "Epoch 203/1000\n",
      "90/90 [==============================] - 0s - loss: 0.0038 - mean_squared_error: 0.0038 - val_loss: 0.0115 - val_mean_squared_error: 0.0115\n",
      "Epoch 204/1000\n",
      "90/90 [==============================] - 0s - loss: 0.0052 - mean_squared_error: 0.0052 - val_loss: 0.0115 - val_mean_squared_error: 0.0115\n",
      "Epoch 205/1000\n",
      "90/90 [==============================] - 0s - loss: 0.0046 - mean_squared_error: 0.0046 - val_loss: 0.0149 - val_mean_squared_error: 0.0149\n",
      "Epoch 206/1000\n",
      "90/90 [==============================] - ETA: 0s - loss: 0.0040 - mean_squared_error: 0.00 - 0s - loss: 0.0039 - mean_squared_error: 0.0039 - val_loss: 0.0109 - val_mean_squared_error: 0.0109\n",
      "Epoch 207/1000\n",
      "90/90 [==============================] - ETA: 0s - loss: 0.0028 - mean_squared_error: 0.0028 ETA: 0s - loss: 0.0029 - mean_squared_error: 0. - 0s - loss: 0.0029 - mean_squared_error: 0.0029 - val_loss: 0.0107 - val_mean_squared_error: 0.0107\n",
      "Epoch 208/1000\n"
     ]
    },
    {
     "name": "stdout",
     "output_type": "stream",
     "text": [
      "90/90 [==============================] - 0s - loss: 0.0029 - mean_squared_error: 0.0029 - val_loss: 0.0106 - val_mean_squared_error: 0.0106\n",
      "Epoch 209/1000\n",
      "90/90 [==============================] - 0s - loss: 0.0035 - mean_squared_error: 0.0035 - val_loss: 0.0107 - val_mean_squared_error: 0.0107\n",
      "Epoch 210/1000\n",
      "90/90 [==============================] - 0s - loss: 0.0032 - mean_squared_error: 0.0032 - val_loss: 0.0118 - val_mean_squared_error: 0.0118\n",
      "Epoch 211/1000\n",
      "90/90 [==============================] - 0s - loss: 0.0034 - mean_squared_error: 0.0034 - val_loss: 0.0103 - val_mean_squared_error: 0.0103\n",
      "Epoch 212/1000\n",
      "90/90 [==============================] - 0s - loss: 0.0030 - mean_squared_error: 0.0030 - val_loss: 0.0109 - val_mean_squared_error: 0.0109\n",
      "Epoch 213/1000\n",
      "90/90 [==============================] - 0s - loss: 0.0031 - mean_squared_error: 0.0031 - val_loss: 0.0095 - val_mean_squared_error: 0.0095\n",
      "Epoch 214/1000\n",
      "90/90 [==============================] - 0s - loss: 0.0035 - mean_squared_error: 0.0035 - val_loss: 0.0110 - val_mean_squared_error: 0.0110\n",
      "Epoch 215/1000\n",
      "90/90 [==============================] - 0s - loss: 0.0032 - mean_squared_error: 0.0032 - val_loss: 0.0091 - val_mean_squared_error: 0.0091\n",
      "Epoch 216/1000\n",
      "90/90 [==============================] - 0s - loss: 0.0031 - mean_squared_error: 0.0031 - val_loss: 0.0094 - val_mean_squared_error: 0.0094\n",
      "Epoch 217/1000\n",
      "90/90 [==============================] - 0s - loss: 0.0032 - mean_squared_error: 0.0032 - val_loss: 0.0093 - val_mean_squared_error: 0.0093\n",
      "Epoch 218/1000\n",
      "90/90 [==============================] - 0s - loss: 0.0031 - mean_squared_error: 0.0031 - val_loss: 0.0099 - val_mean_squared_error: 0.0099\n",
      "Epoch 219/1000\n",
      "90/90 [==============================] - 0s - loss: 0.0029 - mean_squared_error: 0.0029 - val_loss: 0.0093 - val_mean_squared_error: 0.0093\n",
      "Epoch 220/1000\n",
      "90/90 [==============================] - 0s - loss: 0.0029 - mean_squared_error: 0.0029 - val_loss: 0.0093 - val_mean_squared_error: 0.0093\n",
      "Epoch 221/1000\n",
      "90/90 [==============================] - 0s - loss: 0.0030 - mean_squared_error: 0.0030 - val_loss: 0.0103 - val_mean_squared_error: 0.0103\n",
      "Epoch 222/1000\n",
      "90/90 [==============================] - 0s - loss: 0.0029 - mean_squared_error: 0.0029 - val_loss: 0.0107 - val_mean_squared_error: 0.0107\n",
      "Epoch 223/1000\n",
      "90/90 [==============================] - 0s - loss: 0.0030 - mean_squared_error: 0.0030 - val_loss: 0.0096 - val_mean_squared_error: 0.0096\n",
      "Epoch 224/1000\n",
      "90/90 [==============================] - ETA: 0s - loss: 0.0035 - mean_squared_error: 0.00 - 0s - loss: 0.0033 - mean_squared_error: 0.0033 - val_loss: 0.0086 - val_mean_squared_error: 0.0086\n",
      "Epoch 225/1000\n",
      "90/90 [==============================] - 0s - loss: 0.0031 - mean_squared_error: 0.0031 - val_loss: 0.0099 - val_mean_squared_error: 0.0099\n",
      "Epoch 226/1000\n",
      "90/90 [==============================] - 0s - loss: 0.0029 - mean_squared_error: 0.0029 - val_loss: 0.0095 - val_mean_squared_error: 0.0095\n",
      "Epoch 227/1000\n",
      "90/90 [==============================] - 0s - loss: 0.0033 - mean_squared_error: 0.0033 - val_loss: 0.0097 - val_mean_squared_error: 0.0097\n",
      "Epoch 228/1000\n",
      "90/90 [==============================] - 0s - loss: 0.0032 - mean_squared_error: 0.0032 - val_loss: 0.0109 - val_mean_squared_error: 0.0109\n",
      "Epoch 229/1000\n",
      "90/90 [==============================] - 0s - loss: 0.0030 - mean_squared_error: 0.0030 - val_loss: 0.0096 - val_mean_squared_error: 0.0096\n",
      "Epoch 230/1000\n",
      "90/90 [==============================] - 0s - loss: 0.0033 - mean_squared_error: 0.0033 - val_loss: 0.0093 - val_mean_squared_error: 0.0093\n",
      "Epoch 231/1000\n",
      "90/90 [==============================] - 0s - loss: 0.0036 - mean_squared_error: 0.0036 - val_loss: 0.0142 - val_mean_squared_error: 0.0142\n",
      "Epoch 232/1000\n",
      "90/90 [==============================] - 0s - loss: 0.0037 - mean_squared_error: 0.0037 - val_loss: 0.0097 - val_mean_squared_error: 0.0097\n",
      "Epoch 233/1000\n",
      "90/90 [==============================] - 0s - loss: 0.0029 - mean_squared_error: 0.0029 - val_loss: 0.0101 - val_mean_squared_error: 0.0101\n",
      "Epoch 234/1000\n",
      "90/90 [==============================] - 0s - loss: 0.0036 - mean_squared_error: 0.0036 - val_loss: 0.0091 - val_mean_squared_error: 0.0091\n",
      "Epoch 235/1000\n",
      "90/90 [==============================] - 0s - loss: 0.0046 - mean_squared_error: 0.0046 - val_loss: 0.0099 - val_mean_squared_error: 0.0099\n",
      "Epoch 236/1000\n",
      "90/90 [==============================] - 0s - loss: 0.0036 - mean_squared_error: 0.0036 - val_loss: 0.0115 - val_mean_squared_error: 0.0115\n",
      "Epoch 237/1000\n",
      "90/90 [==============================] - 0s - loss: 0.0030 - mean_squared_error: 0.0030 - val_loss: 0.0099 - val_mean_squared_error: 0.0099\n",
      "Epoch 238/1000\n",
      "90/90 [==============================] - 0s - loss: 0.0026 - mean_squared_error: 0.0026 - val_loss: 0.0102 - val_mean_squared_error: 0.0102\n",
      "Epoch 239/1000\n",
      "90/90 [==============================] - 0s - loss: 0.0030 - mean_squared_error: 0.0030 - val_loss: 0.0112 - val_mean_squared_error: 0.0112\n",
      "Epoch 240/1000\n",
      "90/90 [==============================] - 0s - loss: 0.0034 - mean_squared_error: 0.0034 - val_loss: 0.0103 - val_mean_squared_error: 0.0103\n",
      "Epoch 241/1000\n",
      "90/90 [==============================] - 0s - loss: 0.0031 - mean_squared_error: 0.0031 - val_loss: 0.0093 - val_mean_squared_error: 0.0093\n",
      "Epoch 242/1000\n",
      "90/90 [==============================] - 0s - loss: 0.0031 - mean_squared_error: 0.0031 - val_loss: 0.0105 - val_mean_squared_error: 0.0105\n",
      "Epoch 243/1000\n",
      "90/90 [==============================] - 0s - loss: 0.0027 - mean_squared_error: 0.0027 - val_loss: 0.0097 - val_mean_squared_error: 0.0097\n",
      "Epoch 244/1000\n",
      "90/90 [==============================] - 0s - loss: 0.0030 - mean_squared_error: 0.0030 - val_loss: 0.0098 - val_mean_squared_error: 0.0098\n",
      "Epoch 245/1000\n",
      "90/90 [==============================] - 0s - loss: 0.0031 - mean_squared_error: 0.0031 - val_loss: 0.0101 - val_mean_squared_error: 0.0101\n",
      "Epoch 246/1000\n",
      "90/90 [==============================] - 0s - loss: 0.0028 - mean_squared_error: 0.0028 - val_loss: 0.0089 - val_mean_squared_error: 0.0089\n",
      "Epoch 247/1000\n",
      "90/90 [==============================] - 0s - loss: 0.0030 - mean_squared_error: 0.0030 - val_loss: 0.0098 - val_mean_squared_error: 0.0098\n",
      "Epoch 248/1000\n",
      "90/90 [==============================] - 0s - loss: 0.0032 - mean_squared_error: 0.0032 - val_loss: 0.0102 - val_mean_squared_error: 0.0102\n",
      "Epoch 249/1000\n",
      "90/90 [==============================] - 0s - loss: 0.0032 - mean_squared_error: 0.0032 - val_loss: 0.0092 - val_mean_squared_error: 0.0092\n",
      "Epoch 250/1000\n",
      "90/90 [==============================] - 0s - loss: 0.0028 - mean_squared_error: 0.0028 - val_loss: 0.0101 - val_mean_squared_error: 0.0101\n",
      "Epoch 251/1000\n",
      "90/90 [==============================] - 0s - loss: 0.0031 - mean_squared_error: 0.0031 - val_loss: 0.0096 - val_mean_squared_error: 0.0096\n",
      "Epoch 252/1000\n",
      "90/90 [==============================] - 0s - loss: 0.0034 - mean_squared_error: 0.0034 - val_loss: 0.0093 - val_mean_squared_error: 0.0093\n",
      "Epoch 253/1000\n",
      "90/90 [==============================] - 0s - loss: 0.0038 - mean_squared_error: 0.0038 - val_loss: 0.0124 - val_mean_squared_error: 0.0124\n",
      "Epoch 254/1000\n",
      "90/90 [==============================] - 0s - loss: 0.0033 - mean_squared_error: 0.0033 - val_loss: 0.0106 - val_mean_squared_error: 0.0106\n",
      "Epoch 255/1000\n",
      "90/90 [==============================] - 0s - loss: 0.0028 - mean_squared_error: 0.0028 - val_loss: 0.0100 - val_mean_squared_error: 0.0100\n",
      "Epoch 256/1000\n",
      "90/90 [==============================] - 0s - loss: 0.0030 - mean_squared_error: 0.0030 - val_loss: 0.0097 - val_mean_squared_error: 0.0097\n",
      "Epoch 257/1000\n",
      "90/90 [==============================] - 0s - loss: 0.0027 - mean_squared_error: 0.0027 - val_loss: 0.0092 - val_mean_squared_error: 0.0092\n",
      "Epoch 258/1000\n",
      "90/90 [==============================] - 0s - loss: 0.0031 - mean_squared_error: 0.0031 - val_loss: 0.0092 - val_mean_squared_error: 0.0092\n",
      "Epoch 259/1000\n",
      "90/90 [==============================] - 0s - loss: 0.0029 - mean_squared_error: 0.0029 - val_loss: 0.0085 - val_mean_squared_error: 0.0085\n",
      "Epoch 260/1000\n"
     ]
    },
    {
     "name": "stdout",
     "output_type": "stream",
     "text": [
      "90/90 [==============================] - 0s - loss: 0.0027 - mean_squared_error: 0.0027 - val_loss: 0.0098 - val_mean_squared_error: 0.0098\n",
      "Epoch 261/1000\n",
      "90/90 [==============================] - 0s - loss: 0.0030 - mean_squared_error: 0.0030 - val_loss: 0.0102 - val_mean_squared_error: 0.0102\n",
      "Epoch 262/1000\n",
      "90/90 [==============================] - 0s - loss: 0.0032 - mean_squared_error: 0.0032 - val_loss: 0.0100 - val_mean_squared_error: 0.0100\n",
      "Epoch 263/1000\n",
      "90/90 [==============================] - 0s - loss: 0.0028 - mean_squared_error: 0.0028 - val_loss: 0.0093 - val_mean_squared_error: 0.0093\n",
      "Epoch 264/1000\n",
      "90/90 [==============================] - 0s - loss: 0.0028 - mean_squared_error: 0.0028 - val_loss: 0.0091 - val_mean_squared_error: 0.0091\n",
      "Epoch 265/1000\n",
      "90/90 [==============================] - 0s - loss: 0.0026 - mean_squared_error: 0.0026 - val_loss: 0.0098 - val_mean_squared_error: 0.0098\n",
      "Epoch 266/1000\n",
      "90/90 [==============================] - 0s - loss: 0.0028 - mean_squared_error: 0.0028 - val_loss: 0.0103 - val_mean_squared_error: 0.0103\n",
      "Epoch 267/1000\n",
      "90/90 [==============================] - 0s - loss: 0.0034 - mean_squared_error: 0.0034 - val_loss: 0.0096 - val_mean_squared_error: 0.0096\n",
      "Epoch 268/1000\n",
      "90/90 [==============================] - 0s - loss: 0.0028 - mean_squared_error: 0.0028 - val_loss: 0.0088 - val_mean_squared_error: 0.0088\n",
      "Epoch 269/1000\n",
      "90/90 [==============================] - 0s - loss: 0.0032 - mean_squared_error: 0.0032 - val_loss: 0.0091 - val_mean_squared_error: 0.0091\n",
      "Epoch 270/1000\n",
      "90/90 [==============================] - 0s - loss: 0.0045 - mean_squared_error: 0.0045 - val_loss: 0.0098 - val_mean_squared_error: 0.0098\n",
      "Epoch 271/1000\n",
      "90/90 [==============================] - 0s - loss: 0.0028 - mean_squared_error: 0.0028 - val_loss: 0.0091 - val_mean_squared_error: 0.0091\n",
      "Epoch 272/1000\n",
      "90/90 [==============================] - 0s - loss: 0.0028 - mean_squared_error: 0.0028 - val_loss: 0.0094 - val_mean_squared_error: 0.0094\n",
      "Epoch 273/1000\n",
      "90/90 [==============================] - 0s - loss: 0.0029 - mean_squared_error: 0.0029 - val_loss: 0.0081 - val_mean_squared_error: 0.0081\n",
      "Epoch 274/1000\n",
      "90/90 [==============================] - 0s - loss: 0.0027 - mean_squared_error: 0.0027 - val_loss: 0.0075 - val_mean_squared_error: 0.0075\n",
      "Epoch 275/1000\n",
      "90/90 [==============================] - 0s - loss: 0.0029 - mean_squared_error: 0.0029 - val_loss: 0.0080 - val_mean_squared_error: 0.0080.\n",
      "Epoch 276/1000\n",
      "90/90 [==============================] - 0s - loss: 0.0035 - mean_squared_error: 0.0035 - val_loss: 0.0094 - val_mean_squared_error: 0.0094\n",
      "Epoch 277/1000\n",
      "90/90 [==============================] - 0s - loss: 0.0024 - mean_squared_error: 0.0024 - val_loss: 0.0086 - val_mean_squared_error: 0.0086\n",
      "Epoch 278/1000\n",
      "90/90 [==============================] - 0s - loss: 0.0027 - mean_squared_error: 0.0027 - val_loss: 0.0094 - val_mean_squared_error: 0.0094\n",
      "Epoch 279/1000\n",
      "90/90 [==============================] - 0s - loss: 0.0033 - mean_squared_error: 0.0033 - val_loss: 0.0089 - val_mean_squared_error: 0.0089\n",
      "Epoch 280/1000\n",
      "90/90 [==============================] - 0s - loss: 0.0031 - mean_squared_error: 0.0031 - val_loss: 0.0091 - val_mean_squared_error: 0.0091\n",
      "Epoch 281/1000\n",
      "90/90 [==============================] - 0s - loss: 0.0031 - mean_squared_error: 0.0031 - val_loss: 0.0103 - val_mean_squared_error: 0.0103\n",
      "Epoch 282/1000\n",
      "90/90 [==============================] - 0s - loss: 0.0026 - mean_squared_error: 0.0026 - val_loss: 0.0089 - val_mean_squared_error: 0.0089\n",
      "Epoch 283/1000\n",
      "90/90 [==============================] - 0s - loss: 0.0029 - mean_squared_error: 0.0029 - val_loss: 0.0090 - val_mean_squared_error: 0.0090\n",
      "Epoch 284/1000\n",
      "90/90 [==============================] - 0s - loss: 0.0030 - mean_squared_error: 0.0030 - val_loss: 0.0089 - val_mean_squared_error: 0.0089\n",
      "Epoch 285/1000\n",
      "90/90 [==============================] - 0s - loss: 0.0028 - mean_squared_error: 0.0028 - val_loss: 0.0087 - val_mean_squared_error: 0.0087\n",
      "Epoch 286/1000\n",
      "90/90 [==============================] - 0s - loss: 0.0026 - mean_squared_error: 0.0026 - val_loss: 0.0087 - val_mean_squared_error: 0.0087\n",
      "Epoch 287/1000\n",
      "90/90 [==============================] - 0s - loss: 0.0030 - mean_squared_error: 0.0030 - val_loss: 0.0097 - val_mean_squared_error: 0.0097\n",
      "Epoch 288/1000\n",
      "90/90 [==============================] - 0s - loss: 0.0028 - mean_squared_error: 0.0028 - val_loss: 0.0100 - val_mean_squared_error: 0.0100\n",
      "Epoch 289/1000\n",
      "90/90 [==============================] - 0s - loss: 0.0029 - mean_squared_error: 0.0029 - val_loss: 0.0096 - val_mean_squared_error: 0.0096\n",
      "Epoch 290/1000\n",
      "90/90 [==============================] - 0s - loss: 0.0031 - mean_squared_error: 0.0031 - val_loss: 0.0092 - val_mean_squared_error: 0.0092\n",
      "Epoch 291/1000\n",
      "90/90 [==============================] - 0s - loss: 0.0031 - mean_squared_error: 0.0031 - val_loss: 0.0093 - val_mean_squared_error: 0.0093\n",
      "Epoch 292/1000\n",
      "90/90 [==============================] - 0s - loss: 0.0025 - mean_squared_error: 0.0025 - val_loss: 0.0099 - val_mean_squared_error: 0.0099\n",
      "Epoch 293/1000\n",
      "90/90 [==============================] - 0s - loss: 0.0029 - mean_squared_error: 0.0029 - val_loss: 0.0098 - val_mean_squared_error: 0.0098\n",
      "Epoch 294/1000\n",
      "90/90 [==============================] - 0s - loss: 0.0025 - mean_squared_error: 0.0025 - val_loss: 0.0099 - val_mean_squared_error: 0.0099\n",
      "Epoch 295/1000\n",
      "90/90 [==============================] - 0s - loss: 0.0028 - mean_squared_error: 0.0028 - val_loss: 0.0102 - val_mean_squared_error: 0.0102\n",
      "Epoch 296/1000\n",
      "90/90 [==============================] - 0s - loss: 0.0032 - mean_squared_error: 0.0032 - val_loss: 0.0091 - val_mean_squared_error: 0.0091\n",
      "Epoch 297/1000\n",
      "90/90 [==============================] - 0s - loss: 0.0027 - mean_squared_error: 0.0027 - val_loss: 0.0091 - val_mean_squared_error: 0.0091.00\n",
      "Epoch 298/1000\n",
      "90/90 [==============================] - 0s - loss: 0.0028 - mean_squared_error: 0.0028 - val_loss: 0.0093 - val_mean_squared_error: 0.0093\n",
      "Epoch 299/1000\n",
      "90/90 [==============================] - 0s - loss: 0.0028 - mean_squared_error: 0.0028 - val_loss: 0.0091 - val_mean_squared_error: 0.0091\n",
      "Epoch 300/1000\n",
      "90/90 [==============================] - 0s - loss: 0.0031 - mean_squared_error: 0.0031 - val_loss: 0.0090 - val_mean_squared_error: 0.0090\n",
      "Epoch 301/1000\n",
      "90/90 [==============================] - 0s - loss: 0.0029 - mean_squared_error: 0.0029 - val_loss: 0.0096 - val_mean_squared_error: 0.0096\n",
      "Epoch 302/1000\n",
      "90/90 [==============================] - 0s - loss: 0.0029 - mean_squared_error: 0.0029 - val_loss: 0.0091 - val_mean_squared_error: 0.0091\n",
      "Epoch 303/1000\n",
      "90/90 [==============================] - 0s - loss: 0.0032 - mean_squared_error: 0.0032 - val_loss: 0.0089 - val_mean_squared_error: 0.0089\n",
      "Epoch 304/1000\n",
      "90/90 [==============================] - 0s - loss: 0.0033 - mean_squared_error: 0.0033 - val_loss: 0.0114 - val_mean_squared_error: 0.0114\n",
      "Epoch 305/1000\n",
      "90/90 [==============================] - 0s - loss: 0.0031 - mean_squared_error: 0.0031 - val_loss: 0.0095 - val_mean_squared_error: 0.0095\n",
      "Epoch 306/1000\n",
      "90/90 [==============================] - 0s - loss: 0.0030 - mean_squared_error: 0.0030 - val_loss: 0.0086 - val_mean_squared_error: 0.0086\n",
      "Epoch 307/1000\n",
      "90/90 [==============================] - 0s - loss: 0.0028 - mean_squared_error: 0.0028 - val_loss: 0.0093 - val_mean_squared_error: 0.0093\n",
      "Epoch 308/1000\n",
      "90/90 [==============================] - 0s - loss: 0.0028 - mean_squared_error: 0.0028 - val_loss: 0.0085 - val_mean_squared_error: 0.0085\n",
      "Epoch 309/1000\n",
      "90/90 [==============================] - 0s - loss: 0.0026 - mean_squared_error: 0.0026 - val_loss: 0.0086 - val_mean_squared_error: 0.0086\n",
      "Epoch 310/1000\n",
      "90/90 [==============================] - 0s - loss: 0.0028 - mean_squared_error: 0.0028 - val_loss: 0.0086 - val_mean_squared_error: 0.0086\n",
      "Epoch 311/1000\n",
      "90/90 [==============================] - 0s - loss: 0.0030 - mean_squared_error: 0.0030 - val_loss: 0.0094 - val_mean_squared_error: 0.0094\n",
      "Epoch 312/1000\n"
     ]
    },
    {
     "name": "stdout",
     "output_type": "stream",
     "text": [
      "90/90 [==============================] - 0s - loss: 0.0033 - mean_squared_error: 0.0033 - val_loss: 0.0104 - val_mean_squared_error: 0.0104\n",
      "Epoch 313/1000\n",
      "90/90 [==============================] - 0s - loss: 0.0030 - mean_squared_error: 0.0030 - val_loss: 0.0089 - val_mean_squared_error: 0.0089\n",
      "Epoch 314/1000\n",
      "90/90 [==============================] - 0s - loss: 0.0033 - mean_squared_error: 0.0033 - val_loss: 0.0098 - val_mean_squared_error: 0.0098\n",
      "Epoch 315/1000\n",
      "90/90 [==============================] - 0s - loss: 0.0030 - mean_squared_error: 0.0030 - val_loss: 0.0089 - val_mean_squared_error: 0.0089\n",
      "Epoch 316/1000\n",
      "90/90 [==============================] - 0s - loss: 0.0030 - mean_squared_error: 0.0030 - val_loss: 0.0087 - val_mean_squared_error: 0.0087\n",
      "Epoch 317/1000\n",
      "90/90 [==============================] - 0s - loss: 0.0032 - mean_squared_error: 0.0032 - val_loss: 0.0087 - val_mean_squared_error: 0.0087\n",
      "Epoch 318/1000\n",
      "90/90 [==============================] - 0s - loss: 0.0027 - mean_squared_error: 0.0027 - val_loss: 0.0096 - val_mean_squared_error: 0.0096\n",
      "Epoch 319/1000\n",
      "90/90 [==============================] - 0s - loss: 0.0030 - mean_squared_error: 0.0030 - val_loss: 0.0080 - val_mean_squared_error: 0.0080\n",
      "Epoch 320/1000\n",
      "90/90 [==============================] - 0s - loss: 0.0026 - mean_squared_error: 0.0026 - val_loss: 0.0087 - val_mean_squared_error: 0.0087\n",
      "Epoch 321/1000\n",
      "90/90 [==============================] - 0s - loss: 0.0028 - mean_squared_error: 0.0028 - val_loss: 0.0092 - val_mean_squared_error: 0.0092\n",
      "Epoch 322/1000\n",
      "90/90 [==============================] - 0s - loss: 0.0028 - mean_squared_error: 0.0028 - val_loss: 0.0090 - val_mean_squared_error: 0.0090\n",
      "Epoch 323/1000\n",
      "90/90 [==============================] - 0s - loss: 0.0028 - mean_squared_error: 0.0028 - val_loss: 0.0100 - val_mean_squared_error: 0.0100\n",
      "Epoch 324/1000\n",
      "90/90 [==============================] - 0s - loss: 0.0030 - mean_squared_error: 0.0030 - val_loss: 0.0093 - val_mean_squared_error: 0.0093\n",
      "Epoch 325/1000\n",
      "90/90 [==============================] - 0s - loss: 0.0032 - mean_squared_error: 0.0032 - val_loss: 0.0091 - val_mean_squared_error: 0.0091\n",
      "Epoch 00324: early stopping\n"
     ]
    }
   ],
   "source": [
    "early_stopping = callbacks.EarlyStopping(monitor='val_loss', patience=50, verbose=1, mode='auto')\n",
    "fitting=model.fit(X_train_r[-12*batch_size:], y_train[-12*batch_size:], callbacks=[early_stopping],\n",
    "                  nb_epoch=1000, batch_size=batch_size, verbose=1, validation_split=0.25,)"
   ]
  },
  {
   "cell_type": "code",
   "execution_count": 172,
   "metadata": {},
   "outputs": [
    {
     "data": {
      "text/plain": [
       "<matplotlib.legend.Legend at 0x13ae6fc50>"
      ]
     },
     "execution_count": 172,
     "metadata": {},
     "output_type": "execute_result"
    },
    {
     "data": {
      "image/png": "[encoded data removed]",
      "text/plain": [
       "<matplotlib.figure.Figure at 0x13acc8190>"
      ]
     },
     "metadata": {},
     "output_type": "display_data"
    }
   ],
   "source": [
    "plt.plot(fitting.history['loss'],'b')\n",
    "plt.plot(fitting.history['val_loss'],'g')\n",
    "plt.legend(('training_loss', 'testing_loss'))"
   ]
  },
  {
   "cell_type": "code",
   "execution_count": 173,
   "metadata": {
    "collapsed": true
   },
   "outputs": [],
   "source": [
    "y_fit_lstm=model.predict(X_train_r[-12*batch_size:], batch_size=batch_size)\n",
    "y_pred_lstm=model.predict(X_test_r)\n",
    "\n",
    "trainPredict_lstm = scaler.inverse_transform(y_fit_lstm)\n",
    "testPredict_lstm = scaler.inverse_transform(y_pred_lstm)"
   ]
  },
  {
   "cell_type": "code",
   "execution_count": 174,
   "metadata": {},
   "outputs": [
    {
     "data": {
      "text/plain": [
       "0.0048741291579757233"
      ]
     },
     "execution_count": 174,
     "metadata": {},
     "output_type": "execute_result"
    }
   ],
   "source": [
    "metrics.mean_squared_error(y_train[-12*batch_size:],y_fit_lstm)"
   ]
  },
  {
   "cell_type": "code",
   "execution_count": 175,
   "metadata": {},
   "outputs": [
    {
     "data": {
      "text/plain": [
       "0.019693029837029717"
      ]
     },
     "execution_count": 175,
     "metadata": {},
     "output_type": "execute_result"
    }
   ],
   "source": [
    "metrics.mean_squared_error(y_test,y_pred_lstm)"
   ]
  },
  {
   "cell_type": "markdown",
   "metadata": {},
   "source": [
    "### Transform Time Series to Stationary"
   ]
  },
  {
   "cell_type": "code",
   "execution_count": 176,
   "metadata": {
    "collapsed": true
   },
   "outputs": [],
   "source": [
    "# create a differenced series\n",
    "def difference(dataset, interval=1):\n",
    "    diff = list()\n",
    "    for i in range(interval, len(dataset)):\n",
    "        value = dataset[i] - dataset[i - interval]\n",
    "        diff.append(value)\n",
    "    return np.array(diff, dtype=np.float)"
   ]
  },
  {
   "cell_type": "code",
   "execution_count": 178,
   "metadata": {
    "collapsed": true
   },
   "outputs": [],
   "source": [
    "# def inverse_difference(history, yhat, interval=1):\n",
    "#     return yhat + history[-interval]"
   ]
  },
  {
   "cell_type": "code",
   "execution_count": 179,
   "metadata": {
    "collapsed": true
   },
   "outputs": [],
   "source": [
    "def inverse_difference(t0, differenced):\n",
    "    inverted=[t0]\n",
    "    for d in differenced:\n",
    "        inverted.append(inverted[-1]+d)\n",
    "    inverted=np.array(inverted)\n",
    "    return inverted"
   ]
  },
  {
   "cell_type": "code",
   "execution_count": 180,
   "metadata": {},
   "outputs": [
    {
     "data": {
      "text/html": [
       "<div>\n",
       "<style>\n",
       "    .dataframe thead tr:only-child th {\n",
       "        text-align: right;\n",
       "    }\n",
       "\n",
       "    .dataframe thead th {\n",
       "        text-align: left;\n",
       "    }\n",
       "\n",
       "    .dataframe tbody tr th {\n",
       "        vertical-align: top;\n",
       "    }\n",
       "</style>\n",
       "<table border=\"1\" class=\"dataframe\">\n",
       "  <thead>\n",
       "    <tr style=\"text-align: right;\">\n",
       "      <th></th>\n",
       "      <th>passengers</th>\n",
       "    </tr>\n",
       "  </thead>\n",
       "  <tbody>\n",
       "    <tr>\n",
       "      <th>1949-01-04</th>\n",
       "      <td>112</td>\n",
       "    </tr>\n",
       "    <tr>\n",
       "      <th>1949-02-04</th>\n",
       "      <td>118</td>\n",
       "    </tr>\n",
       "    <tr>\n",
       "      <th>1949-03-04</th>\n",
       "      <td>132</td>\n",
       "    </tr>\n",
       "    <tr>\n",
       "      <th>1949-04-04</th>\n",
       "      <td>129</td>\n",
       "    </tr>\n",
       "    <tr>\n",
       "      <th>1949-05-04</th>\n",
       "      <td>121</td>\n",
       "    </tr>\n",
       "  </tbody>\n",
       "</table>\n",
       "</div>"
      ],
      "text/plain": [
       "            passengers\n",
       "1949-01-04         112\n",
       "1949-02-04         118\n",
       "1949-03-04         132\n",
       "1949-04-04         129\n",
       "1949-05-04         121"
      ]
     },
     "execution_count": 180,
     "metadata": {},
     "output_type": "execute_result"
    }
   ],
   "source": [
    "dataset.head()"
   ]
  },
  {
   "cell_type": "code",
   "execution_count": 181,
   "metadata": {
    "scrolled": true
   },
   "outputs": [
    {
     "name": "stdout",
     "output_type": "stream",
     "text": [
      "[[   6.]\n",
      " [  14.]\n",
      " [  -3.]\n",
      " [  -8.]\n",
      " [  14.]\n",
      " [  13.]\n",
      " [   0.]\n",
      " [ -12.]\n",
      " [ -17.]\n",
      " [ -15.]\n",
      " [  14.]\n",
      " [  -3.]\n",
      " [  11.]\n",
      " [  15.]\n",
      " [  -6.]\n",
      " [ -10.]\n",
      " [  24.]\n",
      " [  21.]\n",
      " [   0.]\n",
      " [ -12.]\n",
      " [ -25.]\n",
      " [ -19.]\n",
      " [  26.]\n",
      " [   5.]\n",
      " [   5.]\n",
      " [  28.]\n",
      " [ -15.]\n",
      " [   9.]\n",
      " [   6.]\n",
      " [  21.]\n",
      " [   0.]\n",
      " [ -15.]\n",
      " [ -22.]\n",
      " [ -16.]\n",
      " [  20.]\n",
      " [   5.]\n",
      " [   9.]\n",
      " [  13.]\n",
      " [ -12.]\n",
      " [   2.]\n",
      " [  35.]\n",
      " [  12.]\n",
      " [  12.]\n",
      " [ -33.]\n",
      " [ -18.]\n",
      " [ -19.]\n",
      " [  22.]\n",
      " [   2.]\n",
      " [   0.]\n",
      " [  40.]\n",
      " [  -1.]\n",
      " [  -6.]\n",
      " [  14.]\n",
      " [  21.]\n",
      " [   8.]\n",
      " [ -35.]\n",
      " [ -26.]\n",
      " [ -31.]\n",
      " [  21.]\n",
      " [   3.]\n",
      " [ -16.]\n",
      " [  47.]\n",
      " [  -8.]\n",
      " [   7.]\n",
      " [  30.]\n",
      " [  38.]\n",
      " [  -9.]\n",
      " [ -34.]\n",
      " [ -30.]\n",
      " [ -26.]\n",
      " [  26.]\n",
      " [  13.]\n",
      " [  -9.]\n",
      " [  34.]\n",
      " [   2.]\n",
      " [   1.]\n",
      " [  45.]\n",
      " [  49.]\n",
      " [ -17.]\n",
      " [ -35.]\n",
      " [ -38.]\n",
      " [ -37.]\n",
      " [  41.]\n",
      " [   6.]\n",
      " [  -7.]\n",
      " [  40.]\n",
      " [  -4.]\n",
      " [   5.]\n",
      " [  56.]\n",
      " [  39.]\n",
      " [  -8.]\n",
      " [ -50.]\n",
      " [ -49.]\n",
      " [ -35.]\n",
      " [  35.]\n",
      " [   9.]\n",
      " [ -14.]\n",
      " [  55.]\n",
      " [  -8.]\n",
      " [   7.]\n",
      " [  67.]\n",
      " [  43.]\n",
      " [   2.]\n",
      " [ -63.]\n",
      " [ -57.]\n",
      " [ -42.]\n",
      " [  31.]\n",
      " [   4.]\n",
      " [ -22.]\n",
      " [  44.]\n",
      " [ -14.]\n",
      " [  15.]\n",
      " [  72.]\n",
      " [  56.]\n",
      " [  14.]\n",
      " [-101.]\n",
      " [ -45.]\n",
      " [ -49.]\n",
      " [  27.]\n",
      " [  23.]\n",
      " [ -18.]\n",
      " [  64.]\n",
      " [ -10.]\n",
      " [  24.]\n",
      " [  52.]\n",
      " [  76.]\n",
      " [  11.]\n",
      " [ -96.]\n",
      " [ -56.]\n",
      " [ -45.]\n",
      " [  43.]\n",
      " [  12.]\n",
      " [ -26.]\n",
      " [  28.]\n",
      " [  42.]\n",
      " [  11.]\n",
      " [  63.]\n",
      " [  87.]\n",
      " [ -16.]\n",
      " [ -98.]\n",
      " [ -47.]\n",
      " [ -71.]\n",
      " [  42.]]\n"
     ]
    }
   ],
   "source": [
    "differenced = difference(dataset.values, 1)\n",
    "print(differenced)"
   ]
  },
  {
   "cell_type": "markdown",
   "metadata": {},
   "source": [
    "Inverse transform is easy using the first value."
   ]
  },
  {
   "cell_type": "code",
   "execution_count": 182,
   "metadata": {
    "collapsed": true
   },
   "outputs": [],
   "source": [
    "t0=dataset.values[0]\n",
    "inverted=[t0]\n",
    "for d in differenced:\n",
    "    inverted.append(inverted[-1]+d)\n",
    "inverted=np.array(inverted)"
   ]
  },
  {
   "cell_type": "code",
   "execution_count": 183,
   "metadata": {},
   "outputs": [
    {
     "data": {
      "text/plain": [
       "True"
      ]
     },
     "execution_count": 183,
     "metadata": {},
     "output_type": "execute_result"
    }
   ],
   "source": [
    "all(inverted==dataset.values)"
   ]
  },
  {
   "cell_type": "code",
   "execution_count": 184,
   "metadata": {},
   "outputs": [],
   "source": [
    "differenced_n = scaler.fit_transform(differenced)\n",
    "look_back=5\n",
    "X, y = timeseries_to_matrix(dataset_n[:,0], look_back)\n",
    "dX, dy = timeseries_to_matrix(differenced_n[:,0], look_back)\n",
    "\n",
    "dX_train = dX[:train_size]\n",
    "dX_test = dX[train_size:]\n",
    "\n",
    "dy_train = dy[:train_size]\n",
    "dy_test = dy[train_size:]\n",
    "\n",
    "X_train = X[:train_size]\n",
    "X_test = X[train_size:]\n",
    "\n",
    "y_train = y[:train_size]\n",
    "y_test = y[train_size:]"
   ]
  },
  {
   "cell_type": "code",
   "execution_count": 185,
   "metadata": {},
   "outputs": [
    {
     "data": {
      "text/plain": [
       "((138, 5), (129, 5), (9, 5))"
      ]
     },
     "execution_count": 185,
     "metadata": {},
     "output_type": "execute_result"
    }
   ],
   "source": [
    "dX.shape, dX_train.shape, dX_test.shape"
   ]
  },
  {
   "cell_type": "code",
   "execution_count": 186,
   "metadata": {},
   "outputs": [],
   "source": [
    "dX_train_r = np.reshape(dX_train, (dX_train.shape[0], 1, dX_train.shape[1]))\n",
    "dX_test_r = np.reshape(dX_test, (dX_test.shape[0], 1, dX_test.shape[1]))"
   ]
  },
  {
   "cell_type": "code",
   "execution_count": 187,
   "metadata": {
    "collapsed": true
   },
   "outputs": [],
   "source": [
    "model = Sequential()\n",
    "model.add(LSTM(20, input_shape=(None,look_back)))\n",
    "model.add(Dense(1))\n",
    "model.compile(loss='mean_squared_error', optimizer='adam', metrics=['mean_squared_error'])"
   ]
  },
  {
   "cell_type": "code",
   "execution_count": 188,
   "metadata": {
    "scrolled": true
   },
   "outputs": [
    {
     "name": "stdout",
     "output_type": "stream",
     "text": [
      "Train on 103 samples, validate on 26 samples\n",
      "Epoch 1/200\n",
      "103/103 [==============================] - 2s - loss: 0.2110 - mean_squared_error: 0.2110 - val_loss: 0.2221 - val_mean_squared_error: 0.2221\n",
      "Epoch 2/200\n",
      "103/103 [==============================] - 0s - loss: 0.1462 - mean_squared_error: 0.1462 - val_loss: 0.1669 - val_mean_squared_error: 0.1669\n",
      "Epoch 3/200\n",
      "103/103 [==============================] - 0s - loss: 0.0976 - mean_squared_error: 0.0976 - val_loss: 0.1254 - val_mean_squared_error: 0.1254\n",
      "Epoch 4/200\n",
      "103/103 [==============================] - 0s - loss: 0.0624 - mean_squared_error: 0.0624 - val_loss: 0.0985 - val_mean_squared_error: 0.0985\n",
      "Epoch 5/200\n",
      "103/103 [==============================] - 0s - loss: 0.0404 - mean_squared_error: 0.0404 - val_loss: 0.0827 - val_mean_squared_error: 0.0827\n",
      "Epoch 6/200\n",
      "103/103 [==============================] - 0s - loss: 0.0280 - mean_squared_error: 0.0280 - val_loss: 0.0756 - val_mean_squared_error: 0.0756\n",
      "Epoch 7/200\n",
      "103/103 [==============================] - 0s - loss: 0.0239 - mean_squared_error: 0.0239 - val_loss: 0.0732 - val_mean_squared_error: 0.0732\n",
      "Epoch 8/200\n",
      "103/103 [==============================] - 0s - loss: 0.0225 - mean_squared_error: 0.0225 - val_loss: 0.0728 - val_mean_squared_error: 0.0728\n",
      "Epoch 9/200\n",
      "103/103 [==============================] - 0s - loss: 0.0228 - mean_squared_error: 0.0228 - val_loss: 0.0727 - val_mean_squared_error: 0.0727\n",
      "Epoch 10/200\n",
      "103/103 [==============================] - 0s - loss: 0.0227 - mean_squared_error: 0.0227 - val_loss: 0.0725 - val_mean_squared_error: 0.0725\n",
      "Epoch 11/200\n",
      "103/103 [==============================] - 0s - loss: 0.0226 - mean_squared_error: 0.0226 - val_loss: 0.0722 - val_mean_squared_error: 0.0722\n",
      "Epoch 12/200\n",
      "103/103 [==============================] - 0s - loss: 0.0225 - mean_squared_error: 0.0225 - val_loss: 0.0719 - val_mean_squared_error: 0.0719\n",
      "Epoch 13/200\n",
      "103/103 [==============================] - 0s - loss: 0.0224 - mean_squared_error: 0.0224 - val_loss: 0.0717 - val_mean_squared_error: 0.0717\n",
      "Epoch 14/200\n",
      "103/103 [==============================] - 0s - loss: 0.0223 - mean_squared_error: 0.0223 - val_loss: 0.0714 - val_mean_squared_error: 0.0714\n",
      "Epoch 15/200\n",
      "103/103 [==============================] - 0s - loss: 0.0222 - mean_squared_error: 0.0222 - val_loss: 0.0712 - val_mean_squared_error: 0.0712\n",
      "Epoch 16/200\n",
      "103/103 [==============================] - 0s - loss: 0.0222 - mean_squared_error: 0.0222 - val_loss: 0.0710 - val_mean_squared_error: 0.0710\n",
      "Epoch 17/200\n",
      "103/103 [==============================] - 0s - loss: 0.0222 - mean_squared_error: 0.0222 - val_loss: 0.0707 - val_mean_squared_error: 0.0707\n",
      "Epoch 18/200\n",
      "103/103 [==============================] - 0s - loss: 0.0219 - mean_squared_error: 0.0219 - val_loss: 0.0704 - val_mean_squared_error: 0.0704\n",
      "Epoch 19/200\n",
      "103/103 [==============================] - 0s - loss: 0.0220 - mean_squared_error: 0.0220 - val_loss: 0.0702 - val_mean_squared_error: 0.0702\n",
      "Epoch 20/200\n",
      "103/103 [==============================] - 0s - loss: 0.0219 - mean_squared_error: 0.0219 - val_loss: 0.0700 - val_mean_squared_error: 0.0700\n",
      "Epoch 21/200\n",
      "103/103 [==============================] - 0s - loss: 0.0218 - mean_squared_error: 0.0218 - val_loss: 0.0696 - val_mean_squared_error: 0.0696\n",
      "Epoch 22/200\n",
      "103/103 [==============================] - 0s - loss: 0.0217 - mean_squared_error: 0.0217 - val_loss: 0.0693 - val_mean_squared_error: 0.0693\n",
      "Epoch 23/200\n",
      "103/103 [==============================] - 0s - loss: 0.0216 - mean_squared_error: 0.0216 - val_loss: 0.0691 - val_mean_squared_error: 0.0691\n",
      "Epoch 24/200\n",
      "103/103 [==============================] - 0s - loss: 0.0217 - mean_squared_error: 0.0217 - val_loss: 0.0688 - val_mean_squared_error: 0.0688\n",
      "Epoch 25/200\n",
      "103/103 [==============================] - 0s - loss: 0.0215 - mean_squared_error: 0.0215 - val_loss: 0.0685 - val_mean_squared_error: 0.0685\n",
      "Epoch 26/200\n",
      "103/103 [==============================] - 0s - loss: 0.0214 - mean_squared_error: 0.0214 - val_loss: 0.0683 - val_mean_squared_error: 0.0683\n",
      "Epoch 27/200\n",
      "103/103 [==============================] - 0s - loss: 0.0214 - mean_squared_error: 0.0214 - val_loss: 0.0681 - val_mean_squared_error: 0.0681\n",
      "Epoch 28/200\n",
      "103/103 [==============================] - 0s - loss: 0.0212 - mean_squared_error: 0.0212 - val_loss: 0.0678 - val_mean_squared_error: 0.0678\n",
      "Epoch 29/200\n",
      "103/103 [==============================] - 0s - loss: 0.0214 - mean_squared_error: 0.0214 - val_loss: 0.0676 - val_mean_squared_error: 0.0676\n",
      "Epoch 30/200\n",
      "103/103 [==============================] - 0s - loss: 0.0211 - mean_squared_error: 0.0211 - val_loss: 0.0673 - val_mean_squared_error: 0.0673\n",
      "Epoch 31/200\n",
      "103/103 [==============================] - 0s - loss: 0.0210 - mean_squared_error: 0.0210 - val_loss: 0.0671 - val_mean_squared_error: 0.0671\n",
      "Epoch 32/200\n",
      "103/103 [==============================] - 0s - loss: 0.0212 - mean_squared_error: 0.0212 - val_loss: 0.0670 - val_mean_squared_error: 0.0670\n",
      "Epoch 33/200\n",
      "103/103 [==============================] - 0s - loss: 0.0210 - mean_squared_error: 0.0210 - val_loss: 0.0666 - val_mean_squared_error: 0.0666\n",
      "Epoch 34/200\n",
      "103/103 [==============================] - 0s - loss: 0.0209 - mean_squared_error: 0.0209 - val_loss: 0.0663 - val_mean_squared_error: 0.0663\n",
      "Epoch 35/200\n",
      "103/103 [==============================] - 0s - loss: 0.0207 - mean_squared_error: 0.0207 - val_loss: 0.0660 - val_mean_squared_error: 0.0660\n",
      "Epoch 36/200\n",
      "103/103 [==============================] - 0s - loss: 0.0206 - mean_squared_error: 0.0206 - val_loss: 0.0657 - val_mean_squared_error: 0.0657\n",
      "Epoch 37/200\n",
      "103/103 [==============================] - 0s - loss: 0.0206 - mean_squared_error: 0.0206 - val_loss: 0.0655 - val_mean_squared_error: 0.0655\n",
      "Epoch 38/200\n",
      "103/103 [==============================] - 0s - loss: 0.0205 - mean_squared_error: 0.0205 - val_loss: 0.0652 - val_mean_squared_error: 0.0652\n",
      "Epoch 39/200\n",
      "103/103 [==============================] - 0s - loss: 0.0204 - mean_squared_error: 0.0204 - val_loss: 0.0649 - val_mean_squared_error: 0.0649\n",
      "Epoch 40/200\n",
      "103/103 [==============================] - 0s - loss: 0.0204 - mean_squared_error: 0.0204 - val_loss: 0.0647 - val_mean_squared_error: 0.0647\n",
      "Epoch 41/200\n",
      "103/103 [==============================] - 0s - loss: 0.0202 - mean_squared_error: 0.0202 - val_loss: 0.0645 - val_mean_squared_error: 0.0645\n",
      "Epoch 42/200\n",
      "103/103 [==============================] - 0s - loss: 0.0202 - mean_squared_error: 0.0202 - val_loss: 0.0642 - val_mean_squared_error: 0.0642\n",
      "Epoch 43/200\n",
      "103/103 [==============================] - 0s - loss: 0.0201 - mean_squared_error: 0.0201 - val_loss: 0.0639 - val_mean_squared_error: 0.0639\n",
      "Epoch 44/200\n",
      "103/103 [==============================] - 0s - loss: 0.0200 - mean_squared_error: 0.0200 - val_loss: 0.0637 - val_mean_squared_error: 0.0637\n",
      "Epoch 45/200\n",
      "103/103 [==============================] - 0s - loss: 0.0199 - mean_squared_error: 0.0199 - val_loss: 0.0633 - val_mean_squared_error: 0.0633\n",
      "Epoch 46/200\n",
      "103/103 [==============================] - 0s - loss: 0.0200 - mean_squared_error: 0.0200 - val_loss: 0.0631 - val_mean_squared_error: 0.0631\n",
      "Epoch 47/200\n",
      "103/103 [==============================] - 0s - loss: 0.0198 - mean_squared_error: 0.0198 - val_loss: 0.0629 - val_mean_squared_error: 0.0629\n",
      "Epoch 48/200\n",
      "103/103 [==============================] - 0s - loss: 0.0198 - mean_squared_error: 0.0198 - val_loss: 0.0627 - val_mean_squared_error: 0.0627\n",
      "Epoch 49/200\n",
      "103/103 [==============================] - 0s - loss: 0.0197 - mean_squared_error: 0.0197 - val_loss: 0.0624 - val_mean_squared_error: 0.0624\n",
      "Epoch 50/200\n",
      "103/103 [==============================] - 0s - loss: 0.0196 - mean_squared_error: 0.0196 - val_loss: 0.0622 - val_mean_squared_error: 0.0622\n",
      "Epoch 51/200\n",
      "103/103 [==============================] - 0s - loss: 0.0195 - mean_squared_error: 0.0195 - val_loss: 0.0620 - val_mean_squared_error: 0.0620\n",
      "Epoch 52/200\n",
      "103/103 [==============================] - 0s - loss: 0.0195 - mean_squared_error: 0.0195 - val_loss: 0.0617 - val_mean_squared_error: 0.0617\n",
      "Epoch 53/200\n"
     ]
    },
    {
     "name": "stdout",
     "output_type": "stream",
     "text": [
      "103/103 [==============================] - 0s - loss: 0.0194 - mean_squared_error: 0.0194 - val_loss: 0.0615 - val_mean_squared_error: 0.0615\n",
      "Epoch 54/200\n",
      "103/103 [==============================] - 0s - loss: 0.0193 - mean_squared_error: 0.0193 - val_loss: 0.0614 - val_mean_squared_error: 0.0614\n",
      "Epoch 55/200\n",
      "103/103 [==============================] - 0s - loss: 0.0196 - mean_squared_error: 0.0196 - val_loss: 0.0613 - val_mean_squared_error: 0.0613\n",
      "Epoch 56/200\n",
      "103/103 [==============================] - 0s - loss: 0.0193 - mean_squared_error: 0.0193 - val_loss: 0.0609 - val_mean_squared_error: 0.0609\n",
      "Epoch 57/200\n",
      "103/103 [==============================] - 0s - loss: 0.0192 - mean_squared_error: 0.0192 - val_loss: 0.0606 - val_mean_squared_error: 0.0606\n",
      "Epoch 58/200\n",
      "103/103 [==============================] - 0s - loss: 0.0190 - mean_squared_error: 0.0190 - val_loss: 0.0603 - val_mean_squared_error: 0.0603\n",
      "Epoch 59/200\n",
      "103/103 [==============================] - 0s - loss: 0.0189 - mean_squared_error: 0.0189 - val_loss: 0.0601 - val_mean_squared_error: 0.0601\n",
      "Epoch 60/200\n",
      "103/103 [==============================] - 0s - loss: 0.0189 - mean_squared_error: 0.0189 - val_loss: 0.0599 - val_mean_squared_error: 0.0599\n",
      "Epoch 61/200\n",
      "103/103 [==============================] - 0s - loss: 0.0188 - mean_squared_error: 0.0188 - val_loss: 0.0596 - val_mean_squared_error: 0.0596\n",
      "Epoch 62/200\n",
      "103/103 [==============================] - 0s - loss: 0.0187 - mean_squared_error: 0.0187 - val_loss: 0.0595 - val_mean_squared_error: 0.0595\n",
      "Epoch 63/200\n",
      "103/103 [==============================] - 0s - loss: 0.0187 - mean_squared_error: 0.0187 - val_loss: 0.0593 - val_mean_squared_error: 0.0593\n",
      "Epoch 64/200\n",
      "103/103 [==============================] - 0s - loss: 0.0186 - mean_squared_error: 0.0186 - val_loss: 0.0590 - val_mean_squared_error: 0.0590\n",
      "Epoch 65/200\n",
      "103/103 [==============================] - 0s - loss: 0.0185 - mean_squared_error: 0.0185 - val_loss: 0.0588 - val_mean_squared_error: 0.0588\n",
      "Epoch 66/200\n",
      "103/103 [==============================] - 0s - loss: 0.0185 - mean_squared_error: 0.0185 - val_loss: 0.0585 - val_mean_squared_error: 0.0585\n",
      "Epoch 67/200\n",
      "103/103 [==============================] - 0s - loss: 0.0184 - mean_squared_error: 0.0184 - val_loss: 0.0584 - val_mean_squared_error: 0.0584\n",
      "Epoch 68/200\n",
      "103/103 [==============================] - 0s - loss: 0.0183 - mean_squared_error: 0.0183 - val_loss: 0.0581 - val_mean_squared_error: 0.0581\n",
      "Epoch 69/200\n",
      "103/103 [==============================] - 0s - loss: 0.0182 - mean_squared_error: 0.0182 - val_loss: 0.0578 - val_mean_squared_error: 0.0578\n",
      "Epoch 70/200\n",
      "103/103 [==============================] - 0s - loss: 0.0182 - mean_squared_error: 0.0182 - val_loss: 0.0576 - val_mean_squared_error: 0.0576\n",
      "Epoch 71/200\n",
      "103/103 [==============================] - 0s - loss: 0.0181 - mean_squared_error: 0.0181 - val_loss: 0.0574 - val_mean_squared_error: 0.0574\n",
      "Epoch 72/200\n",
      "103/103 [==============================] - 0s - loss: 0.0181 - mean_squared_error: 0.0181 - val_loss: 0.0572 - val_mean_squared_error: 0.0572\n",
      "Epoch 73/200\n",
      "103/103 [==============================] - 0s - loss: 0.0180 - mean_squared_error: 0.0180 - val_loss: 0.0570 - val_mean_squared_error: 0.0570\n",
      "Epoch 74/200\n",
      "103/103 [==============================] - 0s - loss: 0.0179 - mean_squared_error: 0.0179 - val_loss: 0.0567 - val_mean_squared_error: 0.0567\n",
      "Epoch 75/200\n",
      "103/103 [==============================] - 0s - loss: 0.0178 - mean_squared_error: 0.0178 - val_loss: 0.0566 - val_mean_squared_error: 0.0566\n",
      "Epoch 76/200\n",
      "103/103 [==============================] - 0s - loss: 0.0177 - mean_squared_error: 0.0177 - val_loss: 0.0563 - val_mean_squared_error: 0.0563\n",
      "Epoch 77/200\n",
      "103/103 [==============================] - 0s - loss: 0.0178 - mean_squared_error: 0.0178 - val_loss: 0.0562 - val_mean_squared_error: 0.0562\n",
      "Epoch 78/200\n",
      "103/103 [==============================] - 0s - loss: 0.0177 - mean_squared_error: 0.0177 - val_loss: 0.0560 - val_mean_squared_error: 0.0560\n",
      "Epoch 79/200\n",
      "103/103 [==============================] - 0s - loss: 0.0175 - mean_squared_error: 0.0175 - val_loss: 0.0558 - val_mean_squared_error: 0.0558\n",
      "Epoch 80/200\n",
      "103/103 [==============================] - 0s - loss: 0.0176 - mean_squared_error: 0.0176 - val_loss: 0.0556 - val_mean_squared_error: 0.0556\n",
      "Epoch 81/200\n",
      "103/103 [==============================] - 0s - loss: 0.0175 - mean_squared_error: 0.0175 - val_loss: 0.0556 - val_mean_squared_error: 0.0556\n",
      "Epoch 82/200\n",
      "103/103 [==============================] - 0s - loss: 0.0174 - mean_squared_error: 0.0174 - val_loss: 0.0551 - val_mean_squared_error: 0.0551\n",
      "Epoch 83/200\n",
      "103/103 [==============================] - 0s - loss: 0.0175 - mean_squared_error: 0.0175 - val_loss: 0.0548 - val_mean_squared_error: 0.0548\n",
      "Epoch 84/200\n",
      "103/103 [==============================] - 0s - loss: 0.0171 - mean_squared_error: 0.0171 - val_loss: 0.0547 - val_mean_squared_error: 0.0547\n",
      "Epoch 85/200\n",
      "103/103 [==============================] - 0s - loss: 0.0171 - mean_squared_error: 0.0171 - val_loss: 0.0545 - val_mean_squared_error: 0.0545\n",
      "Epoch 86/200\n",
      "103/103 [==============================] - 0s - loss: 0.0172 - mean_squared_error: 0.0172 - val_loss: 0.0546 - val_mean_squared_error: 0.0546\n",
      "Epoch 87/200\n",
      "103/103 [==============================] - 0s - loss: 0.0170 - mean_squared_error: 0.0170 - val_loss: 0.0541 - val_mean_squared_error: 0.0541\n",
      "Epoch 88/200\n",
      "103/103 [==============================] - 0s - loss: 0.0171 - mean_squared_error: 0.0171 - val_loss: 0.0539 - val_mean_squared_error: 0.0539\n",
      "Epoch 89/200\n",
      "103/103 [==============================] - 0s - loss: 0.0168 - mean_squared_error: 0.0168 - val_loss: 0.0539 - val_mean_squared_error: 0.0539\n",
      "Epoch 90/200\n",
      "103/103 [==============================] - 0s - loss: 0.0169 - mean_squared_error: 0.0169 - val_loss: 0.0538 - val_mean_squared_error: 0.0538\n",
      "Epoch 91/200\n",
      "103/103 [==============================] - 0s - loss: 0.0167 - mean_squared_error: 0.0167 - val_loss: 0.0534 - val_mean_squared_error: 0.0534\n",
      "Epoch 92/200\n",
      "103/103 [==============================] - 0s - loss: 0.0169 - mean_squared_error: 0.0169 - val_loss: 0.0533 - val_mean_squared_error: 0.0533\n",
      "Epoch 93/200\n",
      "103/103 [==============================] - 0s - loss: 0.0167 - mean_squared_error: 0.0167 - val_loss: 0.0533 - val_mean_squared_error: 0.0533\n",
      "Epoch 94/200\n",
      "103/103 [==============================] - 0s - loss: 0.0166 - mean_squared_error: 0.0166 - val_loss: 0.0533 - val_mean_squared_error: 0.0533\n",
      "Epoch 95/200\n",
      "103/103 [==============================] - 0s - loss: 0.0166 - mean_squared_error: 0.0166 - val_loss: 0.0532 - val_mean_squared_error: 0.0532\n",
      "Epoch 96/200\n",
      "103/103 [==============================] - 0s - loss: 0.0166 - mean_squared_error: 0.0166 - val_loss: 0.0527 - val_mean_squared_error: 0.0527\n",
      "Epoch 97/200\n",
      "103/103 [==============================] - 0s - loss: 0.0166 - mean_squared_error: 0.0166 - val_loss: 0.0526 - val_mean_squared_error: 0.0526\n",
      "Epoch 98/200\n",
      "103/103 [==============================] - 0s - loss: 0.0164 - mean_squared_error: 0.0164 - val_loss: 0.0524 - val_mean_squared_error: 0.0524\n",
      "Epoch 99/200\n",
      "103/103 [==============================] - 0s - loss: 0.0164 - mean_squared_error: 0.0164 - val_loss: 0.0523 - val_mean_squared_error: 0.0523\n",
      "Epoch 100/200\n",
      "103/103 [==============================] - 0s - loss: 0.0163 - mean_squared_error: 0.0163 - val_loss: 0.0526 - val_mean_squared_error: 0.0526\n",
      "Epoch 101/200\n",
      "103/103 [==============================] - 0s - loss: 0.0163 - mean_squared_error: 0.0163 - val_loss: 0.0524 - val_mean_squared_error: 0.0524\n",
      "Epoch 102/200\n",
      "103/103 [==============================] - 0s - loss: 0.0163 - mean_squared_error: 0.0163 - val_loss: 0.0521 - val_mean_squared_error: 0.0521\n",
      "Epoch 103/200\n",
      "103/103 [==============================] - 0s - loss: 0.0162 - mean_squared_error: 0.0162 - val_loss: 0.0518 - val_mean_squared_error: 0.0518\n",
      "Epoch 104/200\n",
      "103/103 [==============================] - 0s - loss: 0.0161 - mean_squared_error: 0.0161 - val_loss: 0.0519 - val_mean_squared_error: 0.0519\n",
      "Epoch 105/200\n"
     ]
    },
    {
     "name": "stdout",
     "output_type": "stream",
     "text": [
      "103/103 [==============================] - 0s - loss: 0.0161 - mean_squared_error: 0.0161 - val_loss: 0.0519 - val_mean_squared_error: 0.0519\n",
      "Epoch 106/200\n",
      "103/103 [==============================] - 0s - loss: 0.0161 - mean_squared_error: 0.0161 - val_loss: 0.0517 - val_mean_squared_error: 0.0517\n",
      "Epoch 107/200\n",
      "103/103 [==============================] - 0s - loss: 0.0161 - mean_squared_error: 0.0161 - val_loss: 0.0516 - val_mean_squared_error: 0.0516\n",
      "Epoch 108/200\n",
      "103/103 [==============================] - 0s - loss: 0.0170 - mean_squared_error: 0.0170 - val_loss: 0.0514 - val_mean_squared_error: 0.0514\n",
      "Epoch 109/200\n",
      "103/103 [==============================] - 0s - loss: 0.0157 - mean_squared_error: 0.0157 - val_loss: 0.0522 - val_mean_squared_error: 0.0522\n",
      "Epoch 110/200\n",
      "103/103 [==============================] - 0s - loss: 0.0164 - mean_squared_error: 0.0164 - val_loss: 0.0517 - val_mean_squared_error: 0.0517\n",
      "Epoch 111/200\n",
      "103/103 [==============================] - 0s - loss: 0.0156 - mean_squared_error: 0.0156 - val_loss: 0.0512 - val_mean_squared_error: 0.0512\n",
      "Epoch 112/200\n",
      "103/103 [==============================] - 0s - loss: 0.0160 - mean_squared_error: 0.0160 - val_loss: 0.0511 - val_mean_squared_error: 0.0511\n",
      "Epoch 113/200\n",
      "103/103 [==============================] - 0s - loss: 0.0159 - mean_squared_error: 0.0159 - val_loss: 0.0512 - val_mean_squared_error: 0.0512\n",
      "Epoch 114/200\n",
      "103/103 [==============================] - 0s - loss: 0.0157 - mean_squared_error: 0.0157 - val_loss: 0.0514 - val_mean_squared_error: 0.0514\n",
      "Epoch 115/200\n",
      "103/103 [==============================] - 0s - loss: 0.0157 - mean_squared_error: 0.0157 - val_loss: 0.0513 - val_mean_squared_error: 0.0513\n",
      "Epoch 116/200\n",
      "103/103 [==============================] - 0s - loss: 0.0158 - mean_squared_error: 0.0158 - val_loss: 0.0510 - val_mean_squared_error: 0.0510\n",
      "Epoch 117/200\n",
      "103/103 [==============================] - 0s - loss: 0.0158 - mean_squared_error: 0.0158 - val_loss: 0.0512 - val_mean_squared_error: 0.0512\n",
      "Epoch 118/200\n",
      "103/103 [==============================] - 0s - loss: 0.0157 - mean_squared_error: 0.0157 - val_loss: 0.0508 - val_mean_squared_error: 0.0508\n",
      "Epoch 119/200\n",
      "103/103 [==============================] - 0s - loss: 0.0155 - mean_squared_error: 0.0155 - val_loss: 0.0510 - val_mean_squared_error: 0.0510\n",
      "Epoch 120/200\n",
      "103/103 [==============================] - 0s - loss: 0.0156 - mean_squared_error: 0.0156 - val_loss: 0.0508 - val_mean_squared_error: 0.0508\n",
      "Epoch 121/200\n",
      "103/103 [==============================] - 0s - loss: 0.0155 - mean_squared_error: 0.0155 - val_loss: 0.0509 - val_mean_squared_error: 0.0509\n",
      "Epoch 122/200\n",
      "103/103 [==============================] - 0s - loss: 0.0156 - mean_squared_error: 0.0156 - val_loss: 0.0510 - val_mean_squared_error: 0.0510\n",
      "Epoch 123/200\n",
      "103/103 [==============================] - 0s - loss: 0.0156 - mean_squared_error: 0.0156 - val_loss: 0.0506 - val_mean_squared_error: 0.0506\n",
      "Epoch 124/200\n",
      "103/103 [==============================] - 0s - loss: 0.0156 - mean_squared_error: 0.0156 - val_loss: 0.0506 - val_mean_squared_error: 0.0506\n",
      "Epoch 125/200\n",
      "103/103 [==============================] - 0s - loss: 0.0154 - mean_squared_error: 0.0154 - val_loss: 0.0510 - val_mean_squared_error: 0.0510\n",
      "Epoch 126/200\n",
      "103/103 [==============================] - 0s - loss: 0.0155 - mean_squared_error: 0.0155 - val_loss: 0.0508 - val_mean_squared_error: 0.0508\n",
      "Epoch 127/200\n",
      "103/103 [==============================] - 0s - loss: 0.0154 - mean_squared_error: 0.0154 - val_loss: 0.0505 - val_mean_squared_error: 0.0505\n",
      "Epoch 128/200\n",
      "103/103 [==============================] - 0s - loss: 0.0157 - mean_squared_error: 0.0157 - val_loss: 0.0505 - val_mean_squared_error: 0.0505\n",
      "Epoch 129/200\n",
      "103/103 [==============================] - 0s - loss: 0.0162 - mean_squared_error: 0.0162 - val_loss: 0.0516 - val_mean_squared_error: 0.0516\n",
      "Epoch 130/200\n",
      "103/103 [==============================] - 0s - loss: 0.0154 - mean_squared_error: 0.0154 - val_loss: 0.0504 - val_mean_squared_error: 0.0504\n",
      "Epoch 131/200\n",
      "103/103 [==============================] - 0s - loss: 0.0154 - mean_squared_error: 0.0154 - val_loss: 0.0504 - val_mean_squared_error: 0.0504\n",
      "Epoch 132/200\n",
      "103/103 [==============================] - 0s - loss: 0.0153 - mean_squared_error: 0.0153 - val_loss: 0.0507 - val_mean_squared_error: 0.0507\n",
      "Epoch 133/200\n",
      "103/103 [==============================] - 0s - loss: 0.0154 - mean_squared_error: 0.0154 - val_loss: 0.0506 - val_mean_squared_error: 0.0506\n",
      "Epoch 134/200\n",
      "103/103 [==============================] - 0s - loss: 0.0153 - mean_squared_error: 0.0153 - val_loss: 0.0503 - val_mean_squared_error: 0.0503\n",
      "Epoch 135/200\n",
      "103/103 [==============================] - 0s - loss: 0.0153 - mean_squared_error: 0.0153 - val_loss: 0.0504 - val_mean_squared_error: 0.0504\n",
      "Epoch 136/200\n",
      "103/103 [==============================] - 0s - loss: 0.0155 - mean_squared_error: 0.0155 - val_loss: 0.0503 - val_mean_squared_error: 0.0503\n",
      "Epoch 137/200\n",
      "103/103 [==============================] - 0s - loss: 0.0157 - mean_squared_error: 0.0157 - val_loss: 0.0509 - val_mean_squared_error: 0.0509\n",
      "Epoch 138/200\n",
      "103/103 [==============================] - 0s - loss: 0.0154 - mean_squared_error: 0.0154 - val_loss: 0.0503 - val_mean_squared_error: 0.0503\n",
      "Epoch 139/200\n",
      "103/103 [==============================] - 0s - loss: 0.0152 - mean_squared_error: 0.0152 - val_loss: 0.0504 - val_mean_squared_error: 0.0504\n",
      "Epoch 140/200\n",
      "103/103 [==============================] - 0s - loss: 0.0151 - mean_squared_error: 0.0151 - val_loss: 0.0504 - val_mean_squared_error: 0.0504\n",
      "Epoch 141/200\n",
      "103/103 [==============================] - 0s - loss: 0.0151 - mean_squared_error: 0.0151 - val_loss: 0.0504 - val_mean_squared_error: 0.0504\n",
      "Epoch 142/200\n",
      "103/103 [==============================] - 0s - loss: 0.0152 - mean_squared_error: 0.0152 - val_loss: 0.0503 - val_mean_squared_error: 0.0503\n",
      "Epoch 143/200\n",
      "103/103 [==============================] - 0s - loss: 0.0151 - mean_squared_error: 0.0151 - val_loss: 0.0503 - val_mean_squared_error: 0.0503\n",
      "Epoch 144/200\n",
      "103/103 [==============================] - 0s - loss: 0.0151 - mean_squared_error: 0.0151 - val_loss: 0.0503 - val_mean_squared_error: 0.0503\n",
      "Epoch 145/200\n",
      "103/103 [==============================] - 0s - loss: 0.0151 - mean_squared_error: 0.0151 - val_loss: 0.0505 - val_mean_squared_error: 0.0505\n",
      "Epoch 146/200\n",
      "103/103 [==============================] - 0s - loss: 0.0153 - mean_squared_error: 0.0153 - val_loss: 0.0501 - val_mean_squared_error: 0.0501\n",
      "Epoch 147/200\n",
      "103/103 [==============================] - 0s - loss: 0.0152 - mean_squared_error: 0.0152 - val_loss: 0.0509 - val_mean_squared_error: 0.0509\n",
      "Epoch 148/200\n",
      "103/103 [==============================] - 0s - loss: 0.0154 - mean_squared_error: 0.0154 - val_loss: 0.0500 - val_mean_squared_error: 0.0500\n",
      "Epoch 149/200\n",
      "103/103 [==============================] - 0s - loss: 0.0151 - mean_squared_error: 0.0151 - val_loss: 0.0501 - val_mean_squared_error: 0.0501\n",
      "Epoch 150/200\n",
      "103/103 [==============================] - 0s - loss: 0.0151 - mean_squared_error: 0.0151 - val_loss: 0.0500 - val_mean_squared_error: 0.0500\n",
      "Epoch 151/200\n",
      "103/103 [==============================] - 0s - loss: 0.0151 - mean_squared_error: 0.0151 - val_loss: 0.0500 - val_mean_squared_error: 0.0500\n",
      "Epoch 152/200\n",
      "103/103 [==============================] - 0s - loss: 0.0150 - mean_squared_error: 0.0150 - val_loss: 0.0502 - val_mean_squared_error: 0.0502\n",
      "Epoch 153/200\n",
      "103/103 [==============================] - 0s - loss: 0.0150 - mean_squared_error: 0.0150 - val_loss: 0.0501 - val_mean_squared_error: 0.0501\n",
      "Epoch 154/200\n",
      "103/103 [==============================] - 0s - loss: 0.0150 - mean_squared_error: 0.0150 - val_loss: 0.0501 - val_mean_squared_error: 0.0501\n",
      "Epoch 155/200\n",
      "103/103 [==============================] - 0s - loss: 0.0149 - mean_squared_error: 0.0149 - val_loss: 0.0503 - val_mean_squared_error: 0.0503\n",
      "Epoch 156/200\n",
      "103/103 [==============================] - 0s - loss: 0.0151 - mean_squared_error: 0.0151 - val_loss: 0.0510 - val_mean_squared_error: 0.0510\n",
      "Epoch 157/200\n"
     ]
    },
    {
     "name": "stdout",
     "output_type": "stream",
     "text": [
      "103/103 [==============================] - 0s - loss: 0.0152 - mean_squared_error: 0.0152 - val_loss: 0.0504 - val_mean_squared_error: 0.0504\n",
      "Epoch 158/200\n",
      "103/103 [==============================] - 0s - loss: 0.0149 - mean_squared_error: 0.0149 - val_loss: 0.0501 - val_mean_squared_error: 0.0501\n",
      "Epoch 159/200\n",
      "103/103 [==============================] - 0s - loss: 0.0149 - mean_squared_error: 0.0149 - val_loss: 0.0500 - val_mean_squared_error: 0.0500\n",
      "Epoch 160/200\n",
      "103/103 [==============================] - 0s - loss: 0.0151 - mean_squared_error: 0.0151 - val_loss: 0.0503 - val_mean_squared_error: 0.0503\n",
      "Epoch 161/200\n",
      "103/103 [==============================] - 0s - loss: 0.0149 - mean_squared_error: 0.0149 - val_loss: 0.0499 - val_mean_squared_error: 0.0499\n",
      "Epoch 162/200\n",
      "103/103 [==============================] - 0s - loss: 0.0149 - mean_squared_error: 0.0149 - val_loss: 0.0501 - val_mean_squared_error: 0.0501\n",
      "Epoch 163/200\n",
      "103/103 [==============================] - 0s - loss: 0.0151 - mean_squared_error: 0.0151 - val_loss: 0.0499 - val_mean_squared_error: 0.0499\n",
      "Epoch 164/200\n",
      "103/103 [==============================] - 0s - loss: 0.0152 - mean_squared_error: 0.0152 - val_loss: 0.0505 - val_mean_squared_error: 0.0505\n",
      "Epoch 165/200\n",
      "103/103 [==============================] - 0s - loss: 0.0149 - mean_squared_error: 0.0149 - val_loss: 0.0502 - val_mean_squared_error: 0.0502\n",
      "Epoch 166/200\n",
      "103/103 [==============================] - 0s - loss: 0.0148 - mean_squared_error: 0.0148 - val_loss: 0.0501 - val_mean_squared_error: 0.0501\n",
      "Epoch 167/200\n",
      "103/103 [==============================] - 0s - loss: 0.0148 - mean_squared_error: 0.0148 - val_loss: 0.0500 - val_mean_squared_error: 0.0500\n",
      "Epoch 168/200\n",
      "103/103 [==============================] - 0s - loss: 0.0150 - mean_squared_error: 0.0150 - val_loss: 0.0498 - val_mean_squared_error: 0.0498\n",
      "Epoch 169/200\n",
      "103/103 [==============================] - 0s - loss: 0.0150 - mean_squared_error: 0.0150 - val_loss: 0.0503 - val_mean_squared_error: 0.0503\n",
      "Epoch 170/200\n",
      "103/103 [==============================] - 0s - loss: 0.0150 - mean_squared_error: 0.0150 - val_loss: 0.0498 - val_mean_squared_error: 0.0498\n",
      "Epoch 171/200\n",
      "103/103 [==============================] - 0s - loss: 0.0147 - mean_squared_error: 0.0147 - val_loss: 0.0503 - val_mean_squared_error: 0.0503\n",
      "Epoch 172/200\n",
      "103/103 [==============================] - 0s - loss: 0.0148 - mean_squared_error: 0.0148 - val_loss: 0.0499 - val_mean_squared_error: 0.0499\n",
      "Epoch 173/200\n",
      "103/103 [==============================] - 0s - loss: 0.0148 - mean_squared_error: 0.0148 - val_loss: 0.0501 - val_mean_squared_error: 0.0501\n",
      "Epoch 174/200\n",
      "103/103 [==============================] - 0s - loss: 0.0147 - mean_squared_error: 0.0147 - val_loss: 0.0500 - val_mean_squared_error: 0.0500\n",
      "Epoch 175/200\n",
      "103/103 [==============================] - 0s - loss: 0.0147 - mean_squared_error: 0.0147 - val_loss: 0.0499 - val_mean_squared_error: 0.0499\n",
      "Epoch 176/200\n",
      "103/103 [==============================] - 0s - loss: 0.0147 - mean_squared_error: 0.0147 - val_loss: 0.0499 - val_mean_squared_error: 0.0499\n",
      "Epoch 177/200\n",
      "103/103 [==============================] - 0s - loss: 0.0147 - mean_squared_error: 0.0147 - val_loss: 0.0504 - val_mean_squared_error: 0.0504\n",
      "Epoch 178/200\n",
      "103/103 [==============================] - 0s - loss: 0.0148 - mean_squared_error: 0.0148 - val_loss: 0.0498 - val_mean_squared_error: 0.0498\n",
      "Epoch 179/200\n",
      "103/103 [==============================] - 0s - loss: 0.0147 - mean_squared_error: 0.0147 - val_loss: 0.0498 - val_mean_squared_error: 0.0498\n",
      "Epoch 180/200\n",
      "103/103 [==============================] - 0s - loss: 0.0150 - mean_squared_error: 0.0150 - val_loss: 0.0504 - val_mean_squared_error: 0.0504\n",
      "Epoch 181/200\n",
      "103/103 [==============================] - 0s - loss: 0.0147 - mean_squared_error: 0.0147 - val_loss: 0.0498 - val_mean_squared_error: 0.0498\n",
      "Epoch 182/200\n",
      "103/103 [==============================] - 0s - loss: 0.0146 - mean_squared_error: 0.0146 - val_loss: 0.0497 - val_mean_squared_error: 0.0497\n",
      "Epoch 183/200\n",
      "103/103 [==============================] - 0s - loss: 0.0147 - mean_squared_error: 0.0147 - val_loss: 0.0497 - val_mean_squared_error: 0.0497\n",
      "Epoch 184/200\n",
      "103/103 [==============================] - 0s - loss: 0.0147 - mean_squared_error: 0.0147 - val_loss: 0.0503 - val_mean_squared_error: 0.0503\n",
      "Epoch 185/200\n",
      "103/103 [==============================] - 0s - loss: 0.0147 - mean_squared_error: 0.0147 - val_loss: 0.0497 - val_mean_squared_error: 0.0497\n",
      "Epoch 186/200\n",
      "103/103 [==============================] - 0s - loss: 0.0147 - mean_squared_error: 0.0147 - val_loss: 0.0498 - val_mean_squared_error: 0.0498\n",
      "Epoch 187/200\n",
      "103/103 [==============================] - 0s - loss: 0.0146 - mean_squared_error: 0.0146 - val_loss: 0.0498 - val_mean_squared_error: 0.0498\n",
      "Epoch 188/200\n",
      "103/103 [==============================] - 0s - loss: 0.0146 - mean_squared_error: 0.0146 - val_loss: 0.0495 - val_mean_squared_error: 0.0495\n",
      "Epoch 189/200\n",
      "103/103 [==============================] - 0s - loss: 0.0148 - mean_squared_error: 0.0148 - val_loss: 0.0502 - val_mean_squared_error: 0.0502\n",
      "Epoch 190/200\n",
      "103/103 [==============================] - 0s - loss: 0.0149 - mean_squared_error: 0.0149 - val_loss: 0.0497 - val_mean_squared_error: 0.0497\n",
      "Epoch 191/200\n",
      "103/103 [==============================] - 0s - loss: 0.0152 - mean_squared_error: 0.0152 - val_loss: 0.0494 - val_mean_squared_error: 0.0494\n",
      "Epoch 192/200\n",
      "103/103 [==============================] - 0s - loss: 0.0144 - mean_squared_error: 0.0144 - val_loss: 0.0504 - val_mean_squared_error: 0.0504\n",
      "Epoch 193/200\n",
      "103/103 [==============================] - 0s - loss: 0.0150 - mean_squared_error: 0.0150 - val_loss: 0.0502 - val_mean_squared_error: 0.0502\n",
      "Epoch 194/200\n",
      "103/103 [==============================] - 0s - loss: 0.0148 - mean_squared_error: 0.0148 - val_loss: 0.0494 - val_mean_squared_error: 0.0494\n",
      "Epoch 195/200\n",
      "103/103 [==============================] - 0s - loss: 0.0152 - mean_squared_error: 0.0152 - val_loss: 0.0502 - val_mean_squared_error: 0.0502\n",
      "Epoch 196/200\n",
      "103/103 [==============================] - 0s - loss: 0.0151 - mean_squared_error: 0.0151 - val_loss: 0.0495 - val_mean_squared_error: 0.0495\n",
      "Epoch 197/200\n",
      "103/103 [==============================] - 0s - loss: 0.0145 - mean_squared_error: 0.0145 - val_loss: 0.0499 - val_mean_squared_error: 0.0499\n",
      "Epoch 198/200\n",
      "103/103 [==============================] - 0s - loss: 0.0145 - mean_squared_error: 0.0145 - val_loss: 0.0497 - val_mean_squared_error: 0.0497\n",
      "Epoch 199/200\n",
      "103/103 [==============================] - 0s - loss: 0.0147 - mean_squared_error: 0.0147 - val_loss: 0.0495 - val_mean_squared_error: 0.0495\n",
      "Epoch 200/200\n",
      "103/103 [==============================] - 0s - loss: 0.0145 - mean_squared_error: 0.0145 - val_loss: 0.0499 - val_mean_squared_error: 0.0499\n"
     ]
    }
   ],
   "source": [
    "fitting=model.fit(dX_train_r, dy_train, nb_epoch=200, batch_size=10, verbose=1, validation_split=0.2)"
   ]
  },
  {
   "cell_type": "code",
   "execution_count": 189,
   "metadata": {},
   "outputs": [
    {
     "data": {
      "text/plain": [
       "<matplotlib.legend.Legend at 0x13c8d4f10>"
      ]
     },
     "execution_count": 189,
     "metadata": {},
     "output_type": "execute_result"
    },
    {
     "data": {
      "image/png": "[encoded data removed]",
      "text/plain": [
       "<matplotlib.figure.Figure at 0x124ded210>"
      ]
     },
     "metadata": {},
     "output_type": "display_data"
    }
   ],
   "source": [
    "plt.plot(fitting.history['loss'],'b')\n",
    "plt.plot(fitting.history['val_loss'],'g')\n",
    "plt.legend(('training_loss', 'testing_loss'))"
   ]
  },
  {
   "cell_type": "code",
   "execution_count": 190,
   "metadata": {
    "collapsed": true
   },
   "outputs": [],
   "source": [
    "dy_fit_lstm=model.predict(dX_train_r)\n",
    "dy_pred_lstm=model.predict(dX_test_r)\n",
    "\n",
    "dtrainPredict_lstm = scaler.inverse_transform(dy_fit_lstm)\n",
    "dtestPredict_lstm = scaler.inverse_transform(dy_pred_lstm)"
   ]
  },
  {
   "cell_type": "code",
   "execution_count": 191,
   "metadata": {},
   "outputs": [
    {
     "data": {
      "text/plain": [
       "[<matplotlib.lines.Line2D at 0x13d075b50>]"
      ]
     },
     "execution_count": 191,
     "metadata": {},
     "output_type": "execute_result"
    },
    {
     "data": {
      "image/png": "[encoded data removed]",
      "text/plain": [
       "<matplotlib.figure.Figure at 0x13ce4ac90>"
      ]
     },
     "metadata": {},
     "output_type": "display_data"
    }
   ],
   "source": [
    "plt.plot(differenced[look_back:],':')\n",
    "plt.plot(dtrainPredict_lstm)\n",
    "plt.plot(range(len(dtrainPredict_lstm),len(differenced)-look_back),dtestPredict_lstm,'.-')"
   ]
  },
  {
   "cell_type": "code",
   "execution_count": 192,
   "metadata": {},
   "outputs": [
    {
     "data": {
      "text/plain": [
       "0.021591777470381528"
      ]
     },
     "execution_count": 192,
     "metadata": {},
     "output_type": "execute_result"
    }
   ],
   "source": [
    "metrics.mean_squared_error(dy_train,dy_fit_lstm)"
   ]
  },
  {
   "cell_type": "code",
   "execution_count": 193,
   "metadata": {},
   "outputs": [
    {
     "data": {
      "text/plain": [
       "0.065080235664214489"
      ]
     },
     "execution_count": 193,
     "metadata": {},
     "output_type": "execute_result"
    }
   ],
   "source": [
    "metrics.mean_squared_error(dy_test,dy_pred_lstm)"
   ]
  },
  {
   "cell_type": "markdown",
   "metadata": {
    "collapsed": true
   },
   "source": [
    "## Video classification methods"
   ]
  },
  {
   "cell_type": "markdown",
   "metadata": {},
   "source": [
    "1. Classifying one frame at a time with a ConvNet\n",
    "2. Using a time-distributed ConvNet and passing the features to an RNN(LSTM), in one network\n",
    "3. Using a 3D convolutional network\n",
    "4. Extracting features from each frame with a ConvNet and passing the sequence to a separate LSTM\n",
    "5. Extracting features from each frame with a ConvNet and passing the sequence to a separate MLP"
   ]
  },
  {
   "cell_type": "markdown",
   "metadata": {},
   "source": [
    "https://blog.coast.ai/five-video-classification-methods-implemented-in-keras-and-tensorflow-99cad29cc0b5"
   ]
  },
  {
   "cell_type": "markdown",
   "metadata": {},
   "source": [
    "https://github.com/harvitronix/five-video-classification-methods/blob/master/models.py"
   ]
  },
  {
   "cell_type": "markdown",
   "metadata": {},
   "source": [
    "The best method is #4: CNN+LSTM"
   ]
  },
  {
   "cell_type": "code",
   "execution_count": null,
   "metadata": {
    "collapsed": true
   },
   "outputs": [],
   "source": []
  }
 ],
 "metadata": {
  "anaconda-cloud": {},
  "kernelspec": {
   "display_name": "Python 2",
   "language": "python",
   "name": "python2"
  },
  "language_info": {
   "codemirror_mode": {
    "name": "ipython",
    "version": 2
   },
   "file_extension": ".py",
   "mimetype": "text/x-python",
   "name": "python",
   "nbconvert_exporter": "python",
   "pygments_lexer": "ipython2",
   "version": "2.7.13"
  }
 },
 "nbformat": 4,
 "nbformat_minor": 1
}
