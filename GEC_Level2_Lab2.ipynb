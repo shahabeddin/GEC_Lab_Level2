{
 "cells": [
  {
   "cell_type": "markdown",
   "metadata": {},
   "source": [
    "# GEC Data Science Program\n",
    "# Level 2, Lab 2"
   ]
  },
  {
   "cell_type": "markdown",
   "metadata": {},
   "source": [
    "## TensorFlow"
   ]
  },
  {
   "cell_type": "markdown",
   "metadata": {},
   "source": [
    "https://www.tensorflow.org/"
   ]
  },
  {
   "cell_type": "markdown",
   "metadata": {},
   "source": [
    "￼● Tensor: multidimensional array\n",
    "    - a scalar is a tensor\n",
    "    - a vector (or list, or array) is also a tensor\n",
    "    - a matrix (or lists of lists, or 2d array) is a tensor\n",
    "    - so is a cube, and so on"
   ]
  },
  {
   "cell_type": "markdown",
   "metadata": {},
   "source": [
    "￼￼￼● Computation is defined as a Directed Acyclic Graph (DAG)\n",
    "\n",
    "● The graph is a description (blueprint) of the computations to be executed\n",
    "\n",
    "● Edges represent data (i.e., tensors) flowing between nodes in the graph\n",
    "\n",
    "● Nodes represent Operations (Ops)"
   ]
  },
  {
   "cell_type": "code",
   "execution_count": 25,
   "metadata": {
    "collapsed": true
   },
   "outputs": [],
   "source": [
    "import tensorflow as tf"
   ]
  },
  {
   "cell_type": "code",
   "execution_count": 47,
   "metadata": {
    "collapsed": true
   },
   "outputs": [],
   "source": [
    "%matplotlib inline\n",
    "from matplotlib import pyplot as plt\n",
    "import numpy as np\n",
    "import pandas as pd"
   ]
  },
  {
   "cell_type": "code",
   "execution_count": 48,
   "metadata": {
    "collapsed": true
   },
   "outputs": [],
   "source": [
    "tf.reset_default_graph()"
   ]
  },
  {
   "cell_type": "markdown",
   "metadata": {},
   "source": [
    "#### Example: c=a+b "
   ]
  },
  {
   "cell_type": "code",
   "execution_count": 59,
   "metadata": {
    "collapsed": true
   },
   "outputs": [],
   "source": [
    "a = tf.constant([3,5,6],name='a')\n",
    "b = tf.constant([5,7,9],name=\"b\")\n",
    "c = tf.add(a,b, name=\"c\")"
   ]
  },
  {
   "cell_type": "markdown",
   "metadata": {},
   "source": [
    "#### Graph Visualization by Tensorboard"
   ]
  },
  {
   "cell_type": "code",
   "execution_count": 26,
   "metadata": {},
   "outputs": [
    {
     "name": "stdout",
     "output_type": "stream",
     "text": [
      "WARNING:tensorflow:Passing a `GraphDef` to the SummaryWriter is deprecated. Pass a `Graph` object instead, such as `sess.graph`.\n"
     ]
    }
   ],
   "source": [
    "graph = tf.get_default_graph().as_graph_def()\n",
    "summary_writer = tf.summary.FileWriter('.',graph)\n",
    "summary_writer.flush()"
   ]
  },
  {
   "cell_type": "code",
   "execution_count": 57,
   "metadata": {},
   "outputs": [
    {
     "name": "stdout",
     "output_type": "stream",
     "text": [
      "/Users/shahab/Documents/GitHub/GEC_Lab_Level2\r\n"
     ]
    }
   ],
   "source": [
    "!pwd"
   ]
  },
  {
   "cell_type": "markdown",
   "metadata": {},
   "source": [
    "Run this in a terminal:\n",
    "```sh\n",
    "tensorboard  --logdir=[use above path in your system]\n",
    "```"
   ]
  },
  {
   "cell_type": "markdown",
   "metadata": {},
   "source": [
    "Open this page: http://localhost:6006/#graphs"
   ]
  },
  {
   "cell_type": "code",
   "execution_count": 52,
   "metadata": {},
   "outputs": [
    {
     "name": "stdout",
     "output_type": "stream",
     "text": [
      "[8]\n"
     ]
    }
   ],
   "source": [
    "with tf.Session() as sess:\n",
    "    print sess.run(c)"
   ]
  },
  {
   "cell_type": "code",
   "execution_count": 61,
   "metadata": {
    "collapsed": true
   },
   "outputs": [],
   "source": [
    "sess = tf.InteractiveSession()"
   ]
  },
  {
   "cell_type": "code",
   "execution_count": 62,
   "metadata": {},
   "outputs": [
    {
     "data": {
      "text/plain": [
       "array([ 8, 12, 15], dtype=int32)"
      ]
     },
     "execution_count": 62,
     "metadata": {},
     "output_type": "execute_result"
    }
   ],
   "source": [
    "c.eval()"
   ]
  },
  {
   "cell_type": "code",
   "execution_count": 63,
   "metadata": {
    "collapsed": true
   },
   "outputs": [],
   "source": [
    "tf.reset_default_graph()"
   ]
  },
  {
   "cell_type": "markdown",
   "metadata": {},
   "source": [
    "#### Q: Create a uniform random tensor (in [0,1]) of dimension [100] and add every element by 2. "
   ]
  },
  {
   "cell_type": "code",
   "execution_count": 64,
   "metadata": {
    "collapsed": true
   },
   "outputs": [],
   "source": [
    "e = tf.random_uniform([100])\n",
    "f = tf.fill([100],2.0)\n",
    "g = tf.add(e,f)"
   ]
  },
  {
   "cell_type": "code",
   "execution_count": 65,
   "metadata": {},
   "outputs": [
    {
     "name": "stdout",
     "output_type": "stream",
     "text": [
      "[ 2.84884882  2.90216208  2.73444676  2.8518877   2.92562723  2.85270596\n",
      "  2.09173679  2.81257963  2.61351776  2.95038891  2.10801959  2.43143129\n",
      "  2.66033125  2.35222101  2.20187473  2.60084772  2.00019622  2.56815481\n",
      "  2.72517443  2.47258711  2.38642979  2.94764757  2.7146697   2.37053108\n",
      "  2.52808237  2.81126356  2.24139643  2.15795565  2.54989862  2.26937699\n",
      "  2.92067671  2.3338151   2.57674718  2.49892187  2.94958901  2.01838303\n",
      "  2.31861162  2.26341343  2.78056431  2.68479395  2.32030153  2.36951637\n",
      "  2.61800289  2.85871696  2.08483458  2.76824594  2.24874616  2.27266979\n",
      "  2.78565073  2.86476946  2.86140132  2.4368906   2.48062754  2.03040743\n",
      "  2.9578352   2.24092722  2.62124801  2.26221418  2.8515923   2.17377996\n",
      "  2.46886754  2.85323477  2.74589205  2.06594753  2.71529579  2.19616818\n",
      "  2.16308141  2.69800735  2.63016486  2.22506309  2.48406887  2.21584439\n",
      "  2.31286955  2.10276651  2.74627137  2.28248429  2.24539566  2.40515852\n",
      "  2.25567961  2.9417119   2.02984858  2.93191886  2.03911901  2.22861195\n",
      "  2.50289488  2.0486064   2.50264263  2.81735802  2.7760067   2.5119679\n",
      "  2.07619238  2.5102706   2.12198234  2.1341424   2.44036388  2.36914825\n",
      "  2.02932787  2.04784608  2.16239834  2.84003353]\n"
     ]
    }
   ],
   "source": [
    "with tf.Session() as sess:\n",
    "    print(sess.run(g))"
   ]
  },
  {
   "cell_type": "markdown",
   "metadata": {},
   "source": [
    "#### Matrix Multiplications"
   ]
  },
  {
   "cell_type": "markdown",
   "metadata": {},
   "source": [
    "#### Q: Create a unifirm random matrix of size 10x10 and multiply by a matrix of size 10x2 filled with ones."
   ]
  },
  {
   "cell_type": "code",
   "execution_count": 66,
   "metadata": {
    "collapsed": true
   },
   "outputs": [],
   "source": [
    "tf.reset_default_graph()"
   ]
  },
  {
   "cell_type": "code",
   "execution_count": 67,
   "metadata": {
    "collapsed": true
   },
   "outputs": [],
   "source": [
    "W = tf.random_uniform([10, 10])\n",
    "x = tf.ones([10,2])\n",
    "y=tf.matmul(W,x)"
   ]
  },
  {
   "cell_type": "code",
   "execution_count": 68,
   "metadata": {},
   "outputs": [
    {
     "name": "stdout",
     "output_type": "stream",
     "text": [
      "[[ 5.44432735  5.44432735]\n",
      " [ 4.70958138  4.70958138]\n",
      " [ 3.28163242  3.28163242]\n",
      " [ 5.60735798  5.60735798]\n",
      " [ 5.8722086   5.8722086 ]\n",
      " [ 5.98618889  5.98618889]\n",
      " [ 4.04048061  4.04048061]\n",
      " [ 5.56471109  5.56471109]\n",
      " [ 5.84640837  5.84640837]\n",
      " [ 4.6834116   4.6834116 ]]\n"
     ]
    }
   ],
   "source": [
    "with tf.Session() as sess:\n",
    "    print(sess.run(y))"
   ]
  },
  {
   "cell_type": "code",
   "execution_count": 69,
   "metadata": {
    "collapsed": true
   },
   "outputs": [],
   "source": [
    "sess = tf.InteractiveSession()"
   ]
  },
  {
   "cell_type": "code",
   "execution_count": 71,
   "metadata": {},
   "outputs": [
    {
     "data": {
      "text/plain": [
       "array([[ 4.61885691,  4.61885691],\n",
       "       [ 5.91026211,  5.91026211],\n",
       "       [ 5.66952324,  5.66952324],\n",
       "       [ 4.97964096,  4.97964096],\n",
       "       [ 4.25178528,  4.25178528],\n",
       "       [ 5.58699226,  5.58699226],\n",
       "       [ 6.2204752 ,  6.2204752 ],\n",
       "       [ 4.57622814,  4.57622814],\n",
       "       [ 4.05226612,  4.05226612],\n",
       "       [ 4.87133074,  4.87133074]], dtype=float32)"
      ]
     },
     "execution_count": 71,
     "metadata": {},
     "output_type": "execute_result"
    }
   ],
   "source": [
    "y.eval()"
   ]
  },
  {
   "cell_type": "code",
   "execution_count": 72,
   "metadata": {
    "collapsed": true
   },
   "outputs": [
    {
     "ename": "ValueError",
     "evalue": "Cannot use the default session to evaluate tensor: the tensor's graph is different from the session's graph. Pass an explicit session to `eval(session=sess)`.",
     "output_type": "error",
     "traceback": [
      "\u001b[0;31m---------------------------------------------------------------------------\u001b[0m",
      "\u001b[0;31mValueError\u001b[0m                                Traceback (most recent call last)",
      "\u001b[0;32m<ipython-input-72-a3ac1cae8761>\u001b[0m in \u001b[0;36m<module>\u001b[0;34m()\u001b[0m\n\u001b[1;32m      1\u001b[0m \u001b[0;31m# won't work because we reset the graph\u001b[0m\u001b[0;34m\u001b[0m\u001b[0;34m\u001b[0m\u001b[0m\n\u001b[0;32m----> 2\u001b[0;31m \u001b[0mc\u001b[0m\u001b[0;34m.\u001b[0m\u001b[0meval\u001b[0m\u001b[0;34m(\u001b[0m\u001b[0;34m)\u001b[0m\u001b[0;34m\u001b[0m\u001b[0m\n\u001b[0m",
      "\u001b[0;32m/Users/shahab/anaconda/lib/python2.7/site-packages/tensorflow/python/framework/ops.pyc\u001b[0m in \u001b[0;36meval\u001b[0;34m(self, feed_dict, session)\u001b[0m\n\u001b[1;32m    539\u001b[0m \u001b[0;34m\u001b[0m\u001b[0m\n\u001b[1;32m    540\u001b[0m     \"\"\"\n\u001b[0;32m--> 541\u001b[0;31m     \u001b[0;32mreturn\u001b[0m \u001b[0m_eval_using_default_session\u001b[0m\u001b[0;34m(\u001b[0m\u001b[0mself\u001b[0m\u001b[0;34m,\u001b[0m \u001b[0mfeed_dict\u001b[0m\u001b[0;34m,\u001b[0m \u001b[0mself\u001b[0m\u001b[0;34m.\u001b[0m\u001b[0mgraph\u001b[0m\u001b[0;34m,\u001b[0m \u001b[0msession\u001b[0m\u001b[0;34m)\u001b[0m\u001b[0;34m\u001b[0m\u001b[0m\n\u001b[0m\u001b[1;32m    542\u001b[0m \u001b[0;34m\u001b[0m\u001b[0m\n\u001b[1;32m    543\u001b[0m \u001b[0;34m\u001b[0m\u001b[0m\n",
      "\u001b[0;32m/Users/shahab/anaconda/lib/python2.7/site-packages/tensorflow/python/framework/ops.pyc\u001b[0m in \u001b[0;36m_eval_using_default_session\u001b[0;34m(tensors, feed_dict, graph, session)\u001b[0m\n\u001b[1;32m   4074\u001b[0m                        \"`eval(session=sess)`\")\n\u001b[1;32m   4075\u001b[0m     \u001b[0;32mif\u001b[0m \u001b[0msession\u001b[0m\u001b[0;34m.\u001b[0m\u001b[0mgraph\u001b[0m \u001b[0;32mis\u001b[0m \u001b[0;32mnot\u001b[0m \u001b[0mgraph\u001b[0m\u001b[0;34m:\u001b[0m\u001b[0;34m\u001b[0m\u001b[0m\n\u001b[0;32m-> 4076\u001b[0;31m       raise ValueError(\"Cannot use the default session to evaluate tensor: \"\n\u001b[0m\u001b[1;32m   4077\u001b[0m                        \u001b[0;34m\"the tensor's graph is different from the session's \"\u001b[0m\u001b[0;34m\u001b[0m\u001b[0m\n\u001b[1;32m   4078\u001b[0m                        \u001b[0;34m\"graph. Pass an explicit session to \"\u001b[0m\u001b[0;34m\u001b[0m\u001b[0m\n",
      "\u001b[0;31mValueError\u001b[0m: Cannot use the default session to evaluate tensor: the tensor's graph is different from the session's graph. Pass an explicit session to `eval(session=sess)`."
     ]
    }
   ],
   "source": [
    "# won't work because we reset the graph\n",
    "c.eval()"
   ]
  },
  {
   "cell_type": "code",
   "execution_count": 73,
   "metadata": {
    "collapsed": true
   },
   "outputs": [],
   "source": [
    "sess.close()"
   ]
  },
  {
   "cell_type": "markdown",
   "metadata": {},
   "source": [
    "#### ￼Main TF Math Ops\n",
    "|Operation Type | Sample Ops                                      |\n",
    "|:--------------|:------------------------------------------------|\n",
    "|element-wise   | add, sub, mul, sqrt, pow, exp, log, cos, erf,...|\n",
    "|array          | concat, slice, rank, shape, reshape             |\n",
    "|matrix         | matmul, transpose, MatrixInverse, solve, svd,...|\n",
    "|logical        | and, or, xor                                    |\n",
    "|reduction      | reduce_sum, reduce_min,max                      |\n",
    "|slicing/joining|tile, pack, unpack, split,...                    |\n",
    "|               |                                                 |"
   ]
  },
  {
   "cell_type": "markdown",
   "metadata": {},
   "source": [
    "### Q: Let $y = f(x) = 2x^2 - 5x + 2$. Write a TF program that generates a 2-D tensor of shape=[20, 2] as follows: 1st column contains values -20, ..., 19. Values in the 2nd column are $y_i = f(x_i)$ where $x_i$ is the corresponding value in the first column"
   ]
  },
  {
   "cell_type": "markdown",
   "metadata": {},
   "source": [
    "#### Let's do it with numpy"
   ]
  },
  {
   "cell_type": "code",
   "execution_count": 74,
   "metadata": {
    "collapsed": true
   },
   "outputs": [],
   "source": [
    "x=np.arange(-20,20)\n",
    "x=x.reshape((len(x),1))"
   ]
  },
  {
   "cell_type": "code",
   "execution_count": 75,
   "metadata": {},
   "outputs": [
    {
     "data": {
      "text/plain": [
       "(40, 1)"
      ]
     },
     "execution_count": 75,
     "metadata": {},
     "output_type": "execute_result"
    }
   ],
   "source": [
    "x.shape"
   ]
  },
  {
   "cell_type": "code",
   "execution_count": 76,
   "metadata": {
    "collapsed": true
   },
   "outputs": [],
   "source": [
    "y=np.hstack((x,2*x**2-5*x+2))"
   ]
  },
  {
   "cell_type": "code",
   "execution_count": 77,
   "metadata": {
    "scrolled": true
   },
   "outputs": [
    {
     "data": {
      "text/plain": [
       "array([[-20, 902],\n",
       "       [-19, 819],\n",
       "       [-18, 740],\n",
       "       [-17, 665],\n",
       "       [-16, 594],\n",
       "       [-15, 527],\n",
       "       [-14, 464],\n",
       "       [-13, 405],\n",
       "       [-12, 350],\n",
       "       [-11, 299],\n",
       "       [-10, 252],\n",
       "       [ -9, 209],\n",
       "       [ -8, 170],\n",
       "       [ -7, 135],\n",
       "       [ -6, 104],\n",
       "       [ -5,  77],\n",
       "       [ -4,  54],\n",
       "       [ -3,  35],\n",
       "       [ -2,  20],\n",
       "       [ -1,   9],\n",
       "       [  0,   2],\n",
       "       [  1,  -1],\n",
       "       [  2,   0],\n",
       "       [  3,   5],\n",
       "       [  4,  14],\n",
       "       [  5,  27],\n",
       "       [  6,  44],\n",
       "       [  7,  65],\n",
       "       [  8,  90],\n",
       "       [  9, 119],\n",
       "       [ 10, 152],\n",
       "       [ 11, 189],\n",
       "       [ 12, 230],\n",
       "       [ 13, 275],\n",
       "       [ 14, 324],\n",
       "       [ 15, 377],\n",
       "       [ 16, 434],\n",
       "       [ 17, 495],\n",
       "       [ 18, 560],\n",
       "       [ 19, 629]])"
      ]
     },
     "execution_count": 77,
     "metadata": {},
     "output_type": "execute_result"
    }
   ],
   "source": [
    "y"
   ]
  },
  {
   "cell_type": "code",
   "execution_count": 78,
   "metadata": {},
   "outputs": [
    {
     "data": {
      "image/png": "[encoded data removed]",
      "text/plain": [
       "<matplotlib.figure.Figure at 0x11ca36910>"
      ]
     },
     "metadata": {},
     "output_type": "display_data"
    }
   ],
   "source": [
    "plt.plot(y[:,0],y[:,1]);"
   ]
  },
  {
   "cell_type": "markdown",
   "metadata": {},
   "source": [
    "#### Tensorflow"
   ]
  },
  {
   "cell_type": "code",
   "execution_count": 79,
   "metadata": {
    "collapsed": true
   },
   "outputs": [],
   "source": [
    "tf.reset_default_graph()"
   ]
  },
  {
   "cell_type": "code",
   "execution_count": 80,
   "metadata": {
    "collapsed": true
   },
   "outputs": [],
   "source": [
    "sess=tf.InteractiveSession()"
   ]
  },
  {
   "cell_type": "code",
   "execution_count": 81,
   "metadata": {
    "collapsed": true
   },
   "outputs": [],
   "source": [
    "xx=tf.reshape(tf.range(-20,20),[40,1])\n",
    "yy=2*tf.square(xx)-5*xx+2"
   ]
  },
  {
   "cell_type": "code",
   "execution_count": 82,
   "metadata": {},
   "outputs": [
    {
     "data": {
      "text/plain": [
       "(<tf.Tensor 'Reshape:0' shape=(40, 1) dtype=int32>,\n",
       " <tf.Tensor 'add:0' shape=(40, 1) dtype=int32>)"
      ]
     },
     "execution_count": 82,
     "metadata": {},
     "output_type": "execute_result"
    }
   ],
   "source": [
    "xx,yy"
   ]
  },
  {
   "cell_type": "code",
   "execution_count": 83,
   "metadata": {
    "collapsed": true
   },
   "outputs": [],
   "source": [
    "r = tf.concat([xx,yy],axis=1)"
   ]
  },
  {
   "cell_type": "code",
   "execution_count": 84,
   "metadata": {
    "collapsed": true
   },
   "outputs": [],
   "source": [
    "r_ev=r.eval()"
   ]
  },
  {
   "cell_type": "code",
   "execution_count": 85,
   "metadata": {
    "scrolled": true
   },
   "outputs": [
    {
     "data": {
      "text/plain": [
       "array([[-20, 902],\n",
       "       [-19, 819],\n",
       "       [-18, 740],\n",
       "       [-17, 665],\n",
       "       [-16, 594],\n",
       "       [-15, 527],\n",
       "       [-14, 464],\n",
       "       [-13, 405],\n",
       "       [-12, 350],\n",
       "       [-11, 299],\n",
       "       [-10, 252],\n",
       "       [ -9, 209],\n",
       "       [ -8, 170],\n",
       "       [ -7, 135],\n",
       "       [ -6, 104],\n",
       "       [ -5,  77],\n",
       "       [ -4,  54],\n",
       "       [ -3,  35],\n",
       "       [ -2,  20],\n",
       "       [ -1,   9],\n",
       "       [  0,   2],\n",
       "       [  1,  -1],\n",
       "       [  2,   0],\n",
       "       [  3,   5],\n",
       "       [  4,  14],\n",
       "       [  5,  27],\n",
       "       [  6,  44],\n",
       "       [  7,  65],\n",
       "       [  8,  90],\n",
       "       [  9, 119],\n",
       "       [ 10, 152],\n",
       "       [ 11, 189],\n",
       "       [ 12, 230],\n",
       "       [ 13, 275],\n",
       "       [ 14, 324],\n",
       "       [ 15, 377],\n",
       "       [ 16, 434],\n",
       "       [ 17, 495],\n",
       "       [ 18, 560],\n",
       "       [ 19, 629]], dtype=int32)"
      ]
     },
     "execution_count": 85,
     "metadata": {},
     "output_type": "execute_result"
    }
   ],
   "source": [
    "r_ev"
   ]
  },
  {
   "cell_type": "code",
   "execution_count": 86,
   "metadata": {},
   "outputs": [
    {
     "data": {
      "text/plain": [
       "[<matplotlib.lines.Line2D at 0x11c64d750>]"
      ]
     },
     "execution_count": 86,
     "metadata": {},
     "output_type": "execute_result"
    },
    {
     "data": {
      "image/png": "[encoded data removed]",
      "text/plain": [
       "<matplotlib.figure.Figure at 0x12e1da550>"
      ]
     },
     "metadata": {},
     "output_type": "display_data"
    }
   ],
   "source": [
    "plt.plot(r_ev[:,0],r_ev[:,1])"
   ]
  },
  {
   "cell_type": "markdown",
   "metadata": {},
   "source": [
    "### Q: How to find the minimum of this function using tensorflow?"
   ]
  },
  {
   "cell_type": "markdown",
   "metadata": {},
   "source": [
    "### Optimization"
   ]
  },
  {
   "cell_type": "markdown",
   "metadata": {},
   "source": [
    "#### Variables"
   ]
  },
  {
   "cell_type": "code",
   "execution_count": 87,
   "metadata": {
    "collapsed": true
   },
   "outputs": [],
   "source": [
    "xv=tf.Variable(-20.0)"
   ]
  },
  {
   "cell_type": "code",
   "execution_count": null,
   "metadata": {
    "collapsed": true
   },
   "outputs": [],
   "source": [
    "# gives error. we need to run global_variables_initializer() first.\n",
    "xv.eval()"
   ]
  },
  {
   "cell_type": "code",
   "execution_count": 89,
   "metadata": {
    "collapsed": true
   },
   "outputs": [],
   "source": [
    "sess.run(tf.global_variables_initializer())"
   ]
  },
  {
   "cell_type": "code",
   "execution_count": 90,
   "metadata": {},
   "outputs": [
    {
     "data": {
      "text/plain": [
       "-20.0"
      ]
     },
     "execution_count": 90,
     "metadata": {},
     "output_type": "execute_result"
    }
   ],
   "source": [
    "xv.eval()"
   ]
  },
  {
   "cell_type": "code",
   "execution_count": 91,
   "metadata": {
    "collapsed": true
   },
   "outputs": [],
   "source": [
    "yv=2*tf.square(xv)-5*xv+2"
   ]
  },
  {
   "cell_type": "code",
   "execution_count": 92,
   "metadata": {},
   "outputs": [
    {
     "data": {
      "text/plain": [
       "902.0"
      ]
     },
     "execution_count": 92,
     "metadata": {},
     "output_type": "execute_result"
    }
   ],
   "source": [
    "yv.eval()"
   ]
  },
  {
   "cell_type": "code",
   "execution_count": 93,
   "metadata": {
    "collapsed": true
   },
   "outputs": [],
   "source": [
    "gd = tf.train.GradientDescentOptimizer(learning_rate=0.1)"
   ]
  },
  {
   "cell_type": "code",
   "execution_count": 94,
   "metadata": {
    "collapsed": true
   },
   "outputs": [],
   "source": [
    "z = gd.minimize(yv)"
   ]
  },
  {
   "cell_type": "code",
   "execution_count": 95,
   "metadata": {},
   "outputs": [
    {
     "data": {
      "text/plain": [
       "<tf.Operation 'GradientDescent' type=NoOp>"
      ]
     },
     "execution_count": 95,
     "metadata": {},
     "output_type": "execute_result"
    }
   ],
   "source": [
    "z"
   ]
  },
  {
   "cell_type": "markdown",
   "metadata": {},
   "source": [
    "Let's look at the graph.\n",
    "[Update the graph](#Graph-Visualization-by-Tensorboard)"
   ]
  },
  {
   "cell_type": "code",
   "execution_count": 97,
   "metadata": {},
   "outputs": [
    {
     "name": "stdout",
     "output_type": "stream",
     "text": [
      "-11.5 324.0\n",
      "-6.4 115.92\n",
      "-3.34 41.0112\n",
      "-1.504 14.044\n",
      "-0.4024 4.33585\n",
      "0.25856 0.840906\n",
      "0.655136 -0.417274\n",
      "0.893082 -0.870219\n",
      "1.03585 -1.03328\n",
      "1.12151 -1.09198\n",
      "1.17291 -1.11311\n",
      "1.20374 -1.12072\n",
      "1.22225 -1.12346\n",
      "1.23335 -1.12445\n",
      "1.24001 -1.1248\n",
      "1.24401 -1.12493\n",
      "1.2464 -1.12497\n",
      "1.24784 -1.12499\n",
      "1.24871 -1.125\n",
      "1.24922 -1.125\n",
      "1.24953 -1.125\n",
      "1.24972 -1.125\n",
      "1.24983 -1.125\n",
      "1.2499 -1.125\n",
      "1.24994 -1.125\n",
      "1.24996 -1.125\n",
      "1.24998 -1.125\n",
      "1.24999 -1.125\n"
     ]
    }
   ],
   "source": [
    "converged=False\n",
    "old_x=xv.eval()\n",
    "while not converged:\n",
    "    sess.run(z)\n",
    "    print xv.eval(), yv.eval()\n",
    "    if abs(old_x-xv.eval())<1e-5:\n",
    "        converged=True\n",
    "    old_x = xv.eval()"
   ]
  },
  {
   "cell_type": "markdown",
   "metadata": {},
   "source": [
    "## Softmax"
   ]
  },
  {
   "cell_type": "markdown",
   "metadata": {},
   "source": [
    "https://en.wikipedia.org/wiki/Softmax_function"
   ]
  },
  {
   "cell_type": "markdown",
   "metadata": {},
   "source": [
    "### Numpy Softmax"
   ]
  },
  {
   "cell_type": "markdown",
   "metadata": {},
   "source": [
    "#### Q: Write a Softmax function using numpy."
   ]
  },
  {
   "cell_type": "code",
   "execution_count": 98,
   "metadata": {
    "collapsed": true
   },
   "outputs": [],
   "source": [
    "def softmax(x,t=1):\n",
    "    # x should be 2d: array of vectors\n",
    "    x1=x-np.max(x,axis=1, keepdims=True)\n",
    "    x2=np.exp(x1/t)\n",
    "    x3=x2/np.sum(x2, axis=1, keepdims=True)\n",
    "    return x3"
   ]
  },
  {
   "cell_type": "markdown",
   "metadata": {},
   "source": [
    "#### Q: What is softmax of [1,2,3,4,5]?"
   ]
  },
  {
   "cell_type": "code",
   "execution_count": 99,
   "metadata": {
    "collapsed": true
   },
   "outputs": [],
   "source": [
    "x=np.arange(1,6)"
   ]
  },
  {
   "cell_type": "code",
   "execution_count": 100,
   "metadata": {},
   "outputs": [
    {
     "data": {
      "text/plain": [
       "array([[ 0.01165623,  0.03168492,  0.08612854,  0.23412166,  0.63640865]])"
      ]
     },
     "execution_count": 100,
     "metadata": {},
     "output_type": "execute_result"
    }
   ],
   "source": [
    "softmax([x])"
   ]
  },
  {
   "cell_type": "code",
   "execution_count": 101,
   "metadata": {},
   "outputs": [
    {
     "data": {
      "text/plain": [
       "array([[ 0.14884758,  0.14884758,  0.14884758,  0.14884758,  0.40460968]])"
      ]
     },
     "execution_count": 101,
     "metadata": {},
     "output_type": "execute_result"
    }
   ],
   "source": [
    "softmax([x], t=10)"
   ]
  },
  {
   "cell_type": "code",
   "execution_count": 102,
   "metadata": {},
   "outputs": [
    {
     "data": {
      "text/plain": [
       "array([[ 0.,  0.,  0.,  0.,  1.]])"
      ]
     },
     "execution_count": 102,
     "metadata": {},
     "output_type": "execute_result"
    }
   ],
   "source": [
    "softmax([x], t=0.001)"
   ]
  },
  {
   "cell_type": "markdown",
   "metadata": {},
   "source": [
    "### Q: Create a Softmax digit classifier using numpy."
   ]
  },
  {
   "cell_type": "code",
   "execution_count": 103,
   "metadata": {
    "collapsed": true
   },
   "outputs": [],
   "source": [
    "d=pd.read_csv(\"./train.csv\")"
   ]
  },
  {
   "cell_type": "code",
   "execution_count": 104,
   "metadata": {
    "collapsed": true
   },
   "outputs": [],
   "source": [
    "X=d.values[:,1:]"
   ]
  },
  {
   "cell_type": "code",
   "execution_count": 105,
   "metadata": {
    "collapsed": true
   },
   "outputs": [],
   "source": [
    "L=pd.get_dummies(d.label).values"
   ]
  },
  {
   "cell_type": "code",
   "execution_count": 106,
   "metadata": {},
   "outputs": [
    {
     "data": {
      "text/plain": [
       "array([[0, 1, 0, ..., 0, 0, 0],\n",
       "       [1, 0, 0, ..., 0, 0, 0],\n",
       "       [0, 1, 0, ..., 0, 0, 0],\n",
       "       ..., \n",
       "       [0, 0, 0, ..., 1, 0, 0],\n",
       "       [0, 0, 0, ..., 0, 0, 0],\n",
       "       [0, 0, 0, ..., 0, 0, 1]], dtype=uint8)"
      ]
     },
     "execution_count": 106,
     "metadata": {},
     "output_type": "execute_result"
    }
   ],
   "source": [
    "L"
   ]
  },
  {
   "cell_type": "code",
   "execution_count": 107,
   "metadata": {
    "collapsed": true
   },
   "outputs": [],
   "source": [
    "y=L"
   ]
  },
  {
   "cell_type": "code",
   "execution_count": 108,
   "metadata": {},
   "outputs": [
    {
     "data": {
      "text/plain": [
       "((42000, 784), (42000, 10))"
      ]
     },
     "execution_count": 108,
     "metadata": {},
     "output_type": "execute_result"
    }
   ],
   "source": [
    "X.shape, y.shape"
   ]
  },
  {
   "cell_type": "markdown",
   "metadata": {},
   "source": [
    "$y'=softmax(XW+b)$"
   ]
  },
  {
   "cell_type": "code",
   "execution_count": 109,
   "metadata": {
    "collapsed": true
   },
   "outputs": [],
   "source": [
    "W=np.random.randn(X.shape[1],y.shape[1])"
   ]
  },
  {
   "cell_type": "code",
   "execution_count": 110,
   "metadata": {},
   "outputs": [
    {
     "data": {
      "text/plain": [
       "(784, 10)"
      ]
     },
     "execution_count": 110,
     "metadata": {},
     "output_type": "execute_result"
    }
   ],
   "source": [
    "W.shape"
   ]
  },
  {
   "cell_type": "code",
   "execution_count": 111,
   "metadata": {
    "collapsed": true
   },
   "outputs": [],
   "source": [
    "b=np.random.randn(*y.shape)"
   ]
  },
  {
   "cell_type": "code",
   "execution_count": 112,
   "metadata": {},
   "outputs": [
    {
     "data": {
      "text/plain": [
       "(42000, 10)"
      ]
     },
     "execution_count": 112,
     "metadata": {},
     "output_type": "execute_result"
    }
   ],
   "source": [
    "b.shape"
   ]
  },
  {
   "cell_type": "code",
   "execution_count": 113,
   "metadata": {
    "collapsed": true
   },
   "outputs": [],
   "source": [
    "y_hat=np.matmul(X,W)+b"
   ]
  },
  {
   "cell_type": "code",
   "execution_count": 114,
   "metadata": {
    "collapsed": true
   },
   "outputs": [],
   "source": [
    "rmse = np.mean((y-y_hat)**2)**0.5"
   ]
  },
  {
   "cell_type": "code",
   "execution_count": 115,
   "metadata": {},
   "outputs": [
    {
     "data": {
      "text/plain": [
       "2245.7408118106214"
      ]
     },
     "execution_count": 115,
     "metadata": {},
     "output_type": "execute_result"
    }
   ],
   "source": [
    "rmse"
   ]
  },
  {
   "cell_type": "code",
   "execution_count": 117,
   "metadata": {
    "collapsed": true
   },
   "outputs": [],
   "source": [
    "e=softmax(y_hat,t=0.0001)-y"
   ]
  },
  {
   "cell_type": "code",
   "execution_count": 118,
   "metadata": {
    "collapsed": true
   },
   "outputs": [],
   "source": [
    "err_cnt=np.sum(np.sum(np.abs(e), axis=1))/2"
   ]
  },
  {
   "cell_type": "code",
   "execution_count": 119,
   "metadata": {},
   "outputs": [
    {
     "data": {
      "text/plain": [
       "0.082452380952380944"
      ]
     },
     "execution_count": 119,
     "metadata": {},
     "output_type": "execute_result"
    }
   ],
   "source": [
    "1-err_cnt/len(y)"
   ]
  },
  {
   "cell_type": "markdown",
   "metadata": {},
   "source": [
    "### Q: Can we calculate W?\n",
    "$ XW = y $\n",
    "\n",
    "$ W = X^{-1}y $"
   ]
  },
  {
   "cell_type": "code",
   "execution_count": 120,
   "metadata": {
    "collapsed": true
   },
   "outputs": [],
   "source": [
    "W=np.matmul(np.linalg.pinv(X),y)"
   ]
  },
  {
   "cell_type": "code",
   "execution_count": 121,
   "metadata": {},
   "outputs": [
    {
     "data": {
      "text/plain": [
       "(784, 10)"
      ]
     },
     "execution_count": 121,
     "metadata": {},
     "output_type": "execute_result"
    }
   ],
   "source": [
    "W.shape"
   ]
  },
  {
   "cell_type": "code",
   "execution_count": 122,
   "metadata": {
    "collapsed": true
   },
   "outputs": [],
   "source": [
    "y_hat = np.matmul(X,W)"
   ]
  },
  {
   "cell_type": "code",
   "execution_count": 123,
   "metadata": {
    "collapsed": true
   },
   "outputs": [],
   "source": [
    "rmse = np.mean((y-y_hat)**2)**0.5"
   ]
  },
  {
   "cell_type": "code",
   "execution_count": 124,
   "metadata": {},
   "outputs": [
    {
     "data": {
      "text/plain": [
       "0.19687290203366417"
      ]
     },
     "execution_count": 124,
     "metadata": {},
     "output_type": "execute_result"
    }
   ],
   "source": [
    "rmse"
   ]
  },
  {
   "cell_type": "code",
   "execution_count": 125,
   "metadata": {
    "collapsed": true
   },
   "outputs": [],
   "source": [
    "e=softmax(y_hat,t=0.0001)-y"
   ]
  },
  {
   "cell_type": "code",
   "execution_count": 126,
   "metadata": {
    "collapsed": true
   },
   "outputs": [],
   "source": [
    "err_cnt=np.sum(np.sum(np.abs(e), axis=1))/2"
   ]
  },
  {
   "cell_type": "code",
   "execution_count": 127,
   "metadata": {},
   "outputs": [
    {
     "data": {
      "text/plain": [
       "0.85451274481115469"
      ]
     },
     "execution_count": 127,
     "metadata": {},
     "output_type": "execute_result"
    }
   ],
   "source": [
    "1-err_cnt/len(y)"
   ]
  },
  {
   "cell_type": "markdown",
   "metadata": {},
   "source": [
    "$psudeo inv(x) =(X.X^t)(X.X^t)^{-1}$"
   ]
  },
  {
   "cell_type": "markdown",
   "metadata": {},
   "source": [
    "### Q: How can we optimize W?"
   ]
  },
  {
   "cell_type": "code",
   "execution_count": null,
   "metadata": {
    "collapsed": true
   },
   "outputs": [],
   "source": []
  },
  {
   "cell_type": "markdown",
   "metadata": {},
   "source": [
    "### Q: Create a Softmax digit classifier with TensorFlow"
   ]
  },
  {
   "cell_type": "code",
   "execution_count": 164,
   "metadata": {
    "collapsed": true
   },
   "outputs": [],
   "source": [
    "tf.reset_default_graph()"
   ]
  },
  {
   "cell_type": "code",
   "execution_count": 165,
   "metadata": {
    "collapsed": true
   },
   "outputs": [],
   "source": [
    "sess=tf.InteractiveSession()"
   ]
  },
  {
   "cell_type": "code",
   "execution_count": 166,
   "metadata": {
    "collapsed": true
   },
   "outputs": [],
   "source": [
    "x = tf.placeholder(\"float\", shape=[None, 784])\n",
    "y_ = tf.placeholder(\"float\", shape=[None, 10])"
   ]
  },
  {
   "cell_type": "code",
   "execution_count": 167,
   "metadata": {
    "collapsed": true
   },
   "outputs": [],
   "source": [
    "W = tf.Variable(tf.zeros([784,10]))\n",
    "b = tf.Variable(tf.zeros([10]))"
   ]
  },
  {
   "cell_type": "code",
   "execution_count": 168,
   "metadata": {
    "collapsed": true
   },
   "outputs": [],
   "source": [
    "y = tf.nn.softmax(tf.matmul(x,W) + b)"
   ]
  },
  {
   "cell_type": "code",
   "execution_count": 169,
   "metadata": {
    "collapsed": true
   },
   "outputs": [],
   "source": [
    "cross_entropy = -tf.reduce_sum(y_*tf.log(y))"
   ]
  },
  {
   "cell_type": "code",
   "execution_count": 181,
   "metadata": {
    "collapsed": true
   },
   "outputs": [],
   "source": [
    "train_step = tf.train.GradientDescentOptimizer(learning_rate=1e-8).minimize(cross_entropy)"
   ]
  },
  {
   "cell_type": "markdown",
   "metadata": {},
   "source": [
    "A possibly better option:\n",
    "### Adam Optimizer:  A METHOD FOR STOCHASTIC OPTIMIZATION\n",
    "\n",
    "https://arxiv.org/pdf/1412.6980v8.pdf\n",
    "\n",
    "Pros:\n",
    "- It controls the learning rate\n",
    "- uses momentum (moving averages of the parameters)\n",
    "\n",
    "Cons:\n",
    "- computationaly more expansive (slower)\n"
   ]
  },
  {
   "cell_type": "code",
   "execution_count": 182,
   "metadata": {
    "collapsed": true
   },
   "outputs": [],
   "source": [
    "# train_step = tf.train.AdamOptimizer(1e-2, beta1=0.5).minimize(cross_entropy)"
   ]
  },
  {
   "cell_type": "code",
   "execution_count": 183,
   "metadata": {
    "collapsed": true
   },
   "outputs": [],
   "source": [
    "sess.run(tf.global_variables_initializer())"
   ]
  },
  {
   "cell_type": "code",
   "execution_count": 187,
   "metadata": {},
   "outputs": [
    {
     "name": "stdout",
     "output_type": "stream",
     "text": [
      "Iter 0, Loss 3.43602108955\n",
      "Iter 100, Loss 4.85591316223\n",
      "Iter 200, Loss 3.58414959908\n",
      "Iter 300, Loss 3.22214150429\n",
      "Iter 400, Loss 4.65140342712\n",
      "Iter 500, Loss 5.27284240723\n",
      "Iter 600, Loss 4.82243728638\n",
      "Iter 700, Loss 4.45855093002\n",
      "Iter 800, Loss 1.54757487774\n",
      "Iter 900, Loss 3.82720994949\n"
     ]
    }
   ],
   "source": [
    "batch_size = 10\n",
    "n = len(X)\n",
    "for i in range(1000):\n",
    "    batch_idx = np.arange(i*batch_size,(i+1)*batch_size)%n\n",
    "    _, bce = sess.run([train_step,cross_entropy],feed_dict={x: X[batch_idx,:], y_: L[batch_idx,:]})\n",
    "    if i%100 == 0:\n",
    "        print(\"Iter {}, Loss {}\".format(i,bce))"
   ]
  },
  {
   "cell_type": "code",
   "execution_count": 188,
   "metadata": {
    "collapsed": true
   },
   "outputs": [],
   "source": [
    "correct_prediction = tf.equal(tf.argmax(y,1), tf.argmax(y_,1))"
   ]
  },
  {
   "cell_type": "code",
   "execution_count": 189,
   "metadata": {
    "collapsed": true
   },
   "outputs": [],
   "source": [
    "accuracy = tf.reduce_mean(tf.cast(correct_prediction, \"float\"))"
   ]
  },
  {
   "cell_type": "code",
   "execution_count": 190,
   "metadata": {
    "scrolled": false
   },
   "outputs": [
    {
     "name": "stdout",
     "output_type": "stream",
     "text": [
      "0.880286\n"
     ]
    }
   ],
   "source": [
    "print sess.run(accuracy, feed_dict={x: X, y_: L})"
   ]
  },
  {
   "cell_type": "code",
   "execution_count": null,
   "metadata": {
    "collapsed": true
   },
   "outputs": [],
   "source": [
    "sess.close()"
   ]
  },
  {
   "cell_type": "markdown",
   "metadata": {
    "collapsed": true
   },
   "source": [
    "#### Q: What if we use Adam Optimizer? Does the accuracy increase?"
   ]
  },
  {
   "cell_type": "code",
   "execution_count": null,
   "metadata": {
    "collapsed": true
   },
   "outputs": [],
   "source": []
  },
  {
   "cell_type": "markdown",
   "metadata": {
    "collapsed": true
   },
   "source": [
    "## Introduction to Keras"
   ]
  },
  {
   "cell_type": "markdown",
   "metadata": {},
   "source": [
    "https://keras.io/"
   ]
  },
  {
   "cell_type": "markdown",
   "metadata": {},
   "source": [
    "Note: reset kernel here. "
   ]
  },
  {
   "cell_type": "code",
   "execution_count": 1,
   "metadata": {},
   "outputs": [
    {
     "name": "stderr",
     "output_type": "stream",
     "text": [
      "Using TensorFlow backend.\n"
     ]
    }
   ],
   "source": [
    "import keras as K\n",
    "from keras.models import Sequential  \n",
    "from keras.layers.convolutional import Convolution2D, MaxPooling2D\n",
    "from keras.layers import Dropout\n",
    "from keras.layers.core import Dense, Activation, Flatten, Reshape\n",
    "from keras.optimizers import Adam, RMSprop\n",
    "from keras.utils import np_utils"
   ]
  },
  {
   "cell_type": "code",
   "execution_count": 2,
   "metadata": {
    "collapsed": true
   },
   "outputs": [],
   "source": [
    "import pandas as pd\n",
    "import numpy as np"
   ]
  },
  {
   "cell_type": "code",
   "execution_count": 3,
   "metadata": {
    "collapsed": true
   },
   "outputs": [],
   "source": [
    "from IPython.display import SVG\n",
    "from keras.utils.vis_utils import model_to_dot"
   ]
  },
  {
   "cell_type": "code",
   "execution_count": 5,
   "metadata": {
    "collapsed": true
   },
   "outputs": [],
   "source": [
    "d=pd.read_csv(\"./train.csv\")"
   ]
  },
  {
   "cell_type": "code",
   "execution_count": 6,
   "metadata": {
    "collapsed": true
   },
   "outputs": [],
   "source": [
    "X=d.values[:,1:]"
   ]
  },
  {
   "cell_type": "code",
   "execution_count": 7,
   "metadata": {
    "collapsed": true
   },
   "outputs": [],
   "source": [
    "y=pd.get_dummies(d.label).values"
   ]
  },
  {
   "cell_type": "code",
   "execution_count": 8,
   "metadata": {},
   "outputs": [
    {
     "data": {
      "text/plain": [
       "((42000, 784), (42000, 10))"
      ]
     },
     "execution_count": 8,
     "metadata": {},
     "output_type": "execute_result"
    }
   ],
   "source": [
    "X.shape, y.shape"
   ]
  },
  {
   "cell_type": "code",
   "execution_count": 15,
   "metadata": {
    "collapsed": true
   },
   "outputs": [],
   "source": [
    "model = Sequential()\n",
    "model.add(Dense(250, input_dim=784))\n",
    "model.add(Activation('relu'))\n",
    "model.add(Dense(10))#, input_dim=784))\n",
    "model.add(Activation('softmax'))"
   ]
  },
  {
   "cell_type": "code",
   "execution_count": 16,
   "metadata": {
    "collapsed": true
   },
   "outputs": [],
   "source": [
    "#another way:\n",
    "# model = Sequential()\n",
    "# model.add(Dense(512, activation='relu', input_shape=(784,)))\n",
    "# model.add(Dropout(0.2))\n",
    "# model.add(Dense(512, activation='relu'))\n",
    "# model.add(Dropout(0.2))\n",
    "# model.add(Dense(10, activation='softmax'))"
   ]
  },
  {
   "cell_type": "code",
   "execution_count": 17,
   "metadata": {},
   "outputs": [
    {
     "data": {
      "image/svg+xml": [
       "<svg height=\"392pt\" viewBox=\"0.00 0.00 316.00 392.00\" width=\"316pt\" xmlns=\"http://www.w3.org/2000/svg\" xmlns:xlink=\"http://www.w3.org/1999/xlink\">\n",
       "<g class=\"graph\" id=\"graph0\" transform=\"scale(1 1) rotate(0) translate(4 388)\">\n",
       "<title>G</title>\n",
       "<polygon fill=\"white\" points=\"-4,4 -4,-388 312,-388 312,4 -4,4\" stroke=\"none\"/>\n",
       "<!-- 4909281104 -->\n",
       "<g class=\"node\" id=\"node1\"><title>4909281104</title>\n",
       "<polygon fill=\"none\" points=\"0,-337 0,-383 308,-383 308,-337 0,-337\" stroke=\"black\"/>\n",
       "<text font-family=\"Times,serif\" font-size=\"14.00\" text-anchor=\"middle\" x=\"84\" y=\"-356.3\">dense_3_input: InputLayer</text>\n",
       "<polyline fill=\"none\" points=\"168,-337 168,-383 \" stroke=\"black\"/>\n",
       "<text font-family=\"Times,serif\" font-size=\"14.00\" text-anchor=\"middle\" x=\"196\" y=\"-367.8\">input:</text>\n",
       "<polyline fill=\"none\" points=\"168,-360 224,-360 \" stroke=\"black\"/>\n",
       "<text font-family=\"Times,serif\" font-size=\"14.00\" text-anchor=\"middle\" x=\"196\" y=\"-344.8\">output:</text>\n",
       "<polyline fill=\"none\" points=\"224,-337 224,-383 \" stroke=\"black\"/>\n",
       "<text font-family=\"Times,serif\" font-size=\"14.00\" text-anchor=\"middle\" x=\"266\" y=\"-367.8\">(None, 784)</text>\n",
       "<polyline fill=\"none\" points=\"224,-360 308,-360 \" stroke=\"black\"/>\n",
       "<text font-family=\"Times,serif\" font-size=\"14.00\" text-anchor=\"middle\" x=\"266\" y=\"-344.8\">(None, 784)</text>\n",
       "</g>\n",
       "<!-- 4905626768 -->\n",
       "<g class=\"node\" id=\"node2\"><title>4905626768</title>\n",
       "<polygon fill=\"none\" points=\"31.5,-253 31.5,-299 276.5,-299 276.5,-253 31.5,-253\" stroke=\"black\"/>\n",
       "<text font-family=\"Times,serif\" font-size=\"14.00\" text-anchor=\"middle\" x=\"84\" y=\"-272.3\">dense_3: Dense</text>\n",
       "<polyline fill=\"none\" points=\"136.5,-253 136.5,-299 \" stroke=\"black\"/>\n",
       "<text font-family=\"Times,serif\" font-size=\"14.00\" text-anchor=\"middle\" x=\"164.5\" y=\"-283.8\">input:</text>\n",
       "<polyline fill=\"none\" points=\"136.5,-276 192.5,-276 \" stroke=\"black\"/>\n",
       "<text font-family=\"Times,serif\" font-size=\"14.00\" text-anchor=\"middle\" x=\"164.5\" y=\"-260.8\">output:</text>\n",
       "<polyline fill=\"none\" points=\"192.5,-253 192.5,-299 \" stroke=\"black\"/>\n",
       "<text font-family=\"Times,serif\" font-size=\"14.00\" text-anchor=\"middle\" x=\"234.5\" y=\"-283.8\">(None, 784)</text>\n",
       "<polyline fill=\"none\" points=\"192.5,-276 276.5,-276 \" stroke=\"black\"/>\n",
       "<text font-family=\"Times,serif\" font-size=\"14.00\" text-anchor=\"middle\" x=\"234.5\" y=\"-260.8\">(None, 250)</text>\n",
       "</g>\n",
       "<!-- 4909281104&#45;&gt;4905626768 -->\n",
       "<g class=\"edge\" id=\"edge1\"><title>4909281104-&gt;4905626768</title>\n",
       "<path d=\"M154,-336.593C154,-328.118 154,-318.297 154,-309.104\" fill=\"none\" stroke=\"black\"/>\n",
       "<polygon fill=\"black\" points=\"157.5,-309.096 154,-299.096 150.5,-309.096 157.5,-309.096\" stroke=\"black\"/>\n",
       "</g>\n",
       "<!-- 4843552848 -->\n",
       "<g class=\"node\" id=\"node3\"><title>4843552848</title>\n",
       "<polygon fill=\"none\" points=\"8,-169 8,-215 300,-215 300,-169 8,-169\" stroke=\"black\"/>\n",
       "<text font-family=\"Times,serif\" font-size=\"14.00\" text-anchor=\"middle\" x=\"84\" y=\"-188.3\">activation_2: Activation</text>\n",
       "<polyline fill=\"none\" points=\"160,-169 160,-215 \" stroke=\"black\"/>\n",
       "<text font-family=\"Times,serif\" font-size=\"14.00\" text-anchor=\"middle\" x=\"188\" y=\"-199.8\">input:</text>\n",
       "<polyline fill=\"none\" points=\"160,-192 216,-192 \" stroke=\"black\"/>\n",
       "<text font-family=\"Times,serif\" font-size=\"14.00\" text-anchor=\"middle\" x=\"188\" y=\"-176.8\">output:</text>\n",
       "<polyline fill=\"none\" points=\"216,-169 216,-215 \" stroke=\"black\"/>\n",
       "<text font-family=\"Times,serif\" font-size=\"14.00\" text-anchor=\"middle\" x=\"258\" y=\"-199.8\">(None, 250)</text>\n",
       "<polyline fill=\"none\" points=\"216,-192 300,-192 \" stroke=\"black\"/>\n",
       "<text font-family=\"Times,serif\" font-size=\"14.00\" text-anchor=\"middle\" x=\"258\" y=\"-176.8\">(None, 250)</text>\n",
       "</g>\n",
       "<!-- 4905626768&#45;&gt;4843552848 -->\n",
       "<g class=\"edge\" id=\"edge2\"><title>4905626768-&gt;4843552848</title>\n",
       "<path d=\"M154,-252.593C154,-244.118 154,-234.297 154,-225.104\" fill=\"none\" stroke=\"black\"/>\n",
       "<polygon fill=\"black\" points=\"157.5,-225.096 154,-215.096 150.5,-225.096 157.5,-225.096\" stroke=\"black\"/>\n",
       "</g>\n",
       "<!-- 4907217680 -->\n",
       "<g class=\"node\" id=\"node4\"><title>4907217680</title>\n",
       "<polygon fill=\"none\" points=\"31.5,-85 31.5,-131 276.5,-131 276.5,-85 31.5,-85\" stroke=\"black\"/>\n",
       "<text font-family=\"Times,serif\" font-size=\"14.00\" text-anchor=\"middle\" x=\"84\" y=\"-104.3\">dense_4: Dense</text>\n",
       "<polyline fill=\"none\" points=\"136.5,-85 136.5,-131 \" stroke=\"black\"/>\n",
       "<text font-family=\"Times,serif\" font-size=\"14.00\" text-anchor=\"middle\" x=\"164.5\" y=\"-115.8\">input:</text>\n",
       "<polyline fill=\"none\" points=\"136.5,-108 192.5,-108 \" stroke=\"black\"/>\n",
       "<text font-family=\"Times,serif\" font-size=\"14.00\" text-anchor=\"middle\" x=\"164.5\" y=\"-92.8\">output:</text>\n",
       "<polyline fill=\"none\" points=\"192.5,-85 192.5,-131 \" stroke=\"black\"/>\n",
       "<text font-family=\"Times,serif\" font-size=\"14.00\" text-anchor=\"middle\" x=\"234.5\" y=\"-115.8\">(None, 250)</text>\n",
       "<polyline fill=\"none\" points=\"192.5,-108 276.5,-108 \" stroke=\"black\"/>\n",
       "<text font-family=\"Times,serif\" font-size=\"14.00\" text-anchor=\"middle\" x=\"234.5\" y=\"-92.8\">(None, 10)</text>\n",
       "</g>\n",
       "<!-- 4843552848&#45;&gt;4907217680 -->\n",
       "<g class=\"edge\" id=\"edge3\"><title>4843552848-&gt;4907217680</title>\n",
       "<path d=\"M154,-168.593C154,-160.118 154,-150.297 154,-141.104\" fill=\"none\" stroke=\"black\"/>\n",
       "<polygon fill=\"black\" points=\"157.5,-141.096 154,-131.096 150.5,-141.096 157.5,-141.096\" stroke=\"black\"/>\n",
       "</g>\n",
       "<!-- 4909407056 -->\n",
       "<g class=\"node\" id=\"node5\"><title>4909407056</title>\n",
       "<polygon fill=\"none\" points=\"11.5,-1 11.5,-47 296.5,-47 296.5,-1 11.5,-1\" stroke=\"black\"/>\n",
       "<text font-family=\"Times,serif\" font-size=\"14.00\" text-anchor=\"middle\" x=\"87.5\" y=\"-20.3\">activation_3: Activation</text>\n",
       "<polyline fill=\"none\" points=\"163.5,-1 163.5,-47 \" stroke=\"black\"/>\n",
       "<text font-family=\"Times,serif\" font-size=\"14.00\" text-anchor=\"middle\" x=\"191.5\" y=\"-31.8\">input:</text>\n",
       "<polyline fill=\"none\" points=\"163.5,-24 219.5,-24 \" stroke=\"black\"/>\n",
       "<text font-family=\"Times,serif\" font-size=\"14.00\" text-anchor=\"middle\" x=\"191.5\" y=\"-8.8\">output:</text>\n",
       "<polyline fill=\"none\" points=\"219.5,-1 219.5,-47 \" stroke=\"black\"/>\n",
       "<text font-family=\"Times,serif\" font-size=\"14.00\" text-anchor=\"middle\" x=\"258\" y=\"-31.8\">(None, 10)</text>\n",
       "<polyline fill=\"none\" points=\"219.5,-24 296.5,-24 \" stroke=\"black\"/>\n",
       "<text font-family=\"Times,serif\" font-size=\"14.00\" text-anchor=\"middle\" x=\"258\" y=\"-8.8\">(None, 10)</text>\n",
       "</g>\n",
       "<!-- 4907217680&#45;&gt;4909407056 -->\n",
       "<g class=\"edge\" id=\"edge4\"><title>4907217680-&gt;4909407056</title>\n",
       "<path d=\"M154,-84.5931C154,-76.1177 154,-66.2974 154,-57.104\" fill=\"none\" stroke=\"black\"/>\n",
       "<polygon fill=\"black\" points=\"157.5,-57.0958 154,-47.0959 150.5,-57.0959 157.5,-57.0958\" stroke=\"black\"/>\n",
       "</g>\n",
       "</g>\n",
       "</svg>"
      ],
      "text/plain": [
       "<IPython.core.display.SVG object>"
      ]
     },
     "execution_count": 17,
     "metadata": {},
     "output_type": "execute_result"
    }
   ],
   "source": [
    "SVG(model_to_dot(model, show_shapes=True, show_layer_names=True).create(prog='dot', format='svg'))"
   ]
  },
  {
   "cell_type": "code",
   "execution_count": 18,
   "metadata": {
    "collapsed": true
   },
   "outputs": [],
   "source": [
    "model.compile(loss='categorical_crossentropy', optimizer=Adam(1e-2), metrics=['accuracy']) "
   ]
  },
  {
   "cell_type": "code",
   "execution_count": 19,
   "metadata": {
    "collapsed": true
   },
   "outputs": [
    {
     "name": "stdout",
     "output_type": "stream",
     "text": [
      "Epoch 1/10\n",
      "42000/42000 [==============================] - 7s - loss: 14.5152 - acc: 0.0994     \n",
      "Epoch 2/10\n",
      " 5920/42000 [===>..........................] - ETA: 6s - loss: 14.5008 - acc: 0.1003"
     ]
    },
    {
     "ename": "KeyboardInterrupt",
     "evalue": "",
     "output_type": "error",
     "traceback": [
      "\u001b[0;31m---------------------------------------------------------------------------\u001b[0m",
      "\u001b[0;31mKeyboardInterrupt\u001b[0m                         Traceback (most recent call last)",
      "\u001b[0;32m<ipython-input-19-4b81155d8fb5>\u001b[0m in \u001b[0;36m<module>\u001b[0;34m()\u001b[0m\n\u001b[0;32m----> 1\u001b[0;31m \u001b[0mmodel\u001b[0m\u001b[0;34m.\u001b[0m\u001b[0mfit\u001b[0m\u001b[0;34m(\u001b[0m\u001b[0mX\u001b[0m\u001b[0;34m,\u001b[0m \u001b[0my\u001b[0m\u001b[0;34m,\u001b[0m \u001b[0mnb_epoch\u001b[0m\u001b[0;34m=\u001b[0m\u001b[0;36m10\u001b[0m\u001b[0;34m,\u001b[0m \u001b[0mshuffle\u001b[0m\u001b[0;34m=\u001b[0m\u001b[0mTrue\u001b[0m\u001b[0;34m,\u001b[0m \u001b[0mbatch_size\u001b[0m\u001b[0;34m=\u001b[0m\u001b[0;36m32\u001b[0m\u001b[0;34m)\u001b[0m\u001b[0;34m\u001b[0m\u001b[0m\n\u001b[0m",
      "\u001b[0;32m/Users/shahab/anaconda/lib/python2.7/site-packages/keras/models.pyc\u001b[0m in \u001b[0;36mfit\u001b[0;34m(self, x, y, batch_size, epochs, verbose, callbacks, validation_split, validation_data, shuffle, class_weight, sample_weight, initial_epoch, **kwargs)\u001b[0m\n\u001b[1;32m    865\u001b[0m                               \u001b[0mclass_weight\u001b[0m\u001b[0;34m=\u001b[0m\u001b[0mclass_weight\u001b[0m\u001b[0;34m,\u001b[0m\u001b[0;34m\u001b[0m\u001b[0m\n\u001b[1;32m    866\u001b[0m                               \u001b[0msample_weight\u001b[0m\u001b[0;34m=\u001b[0m\u001b[0msample_weight\u001b[0m\u001b[0;34m,\u001b[0m\u001b[0;34m\u001b[0m\u001b[0m\n\u001b[0;32m--> 867\u001b[0;31m                               initial_epoch=initial_epoch)\n\u001b[0m\u001b[1;32m    868\u001b[0m \u001b[0;34m\u001b[0m\u001b[0m\n\u001b[1;32m    869\u001b[0m     def evaluate(self, x, y, batch_size=32, verbose=1,\n",
      "\u001b[0;32m/Users/shahab/anaconda/lib/python2.7/site-packages/keras/engine/training.pyc\u001b[0m in \u001b[0;36mfit\u001b[0;34m(self, x, y, batch_size, epochs, verbose, callbacks, validation_split, validation_data, shuffle, class_weight, sample_weight, initial_epoch, steps_per_epoch, validation_steps, **kwargs)\u001b[0m\n\u001b[1;32m   1596\u001b[0m                               \u001b[0minitial_epoch\u001b[0m\u001b[0;34m=\u001b[0m\u001b[0minitial_epoch\u001b[0m\u001b[0;34m,\u001b[0m\u001b[0;34m\u001b[0m\u001b[0m\n\u001b[1;32m   1597\u001b[0m                               \u001b[0msteps_per_epoch\u001b[0m\u001b[0;34m=\u001b[0m\u001b[0msteps_per_epoch\u001b[0m\u001b[0;34m,\u001b[0m\u001b[0;34m\u001b[0m\u001b[0m\n\u001b[0;32m-> 1598\u001b[0;31m                               validation_steps=validation_steps)\n\u001b[0m\u001b[1;32m   1599\u001b[0m \u001b[0;34m\u001b[0m\u001b[0m\n\u001b[1;32m   1600\u001b[0m     def evaluate(self, x, y,\n",
      "\u001b[0;32m/Users/shahab/anaconda/lib/python2.7/site-packages/keras/engine/training.pyc\u001b[0m in \u001b[0;36m_fit_loop\u001b[0;34m(self, f, ins, out_labels, batch_size, epochs, verbose, callbacks, val_f, val_ins, shuffle, callback_metrics, initial_epoch, steps_per_epoch, validation_steps)\u001b[0m\n\u001b[1;32m   1181\u001b[0m                     \u001b[0mbatch_logs\u001b[0m\u001b[0;34m[\u001b[0m\u001b[0;34m'size'\u001b[0m\u001b[0;34m]\u001b[0m \u001b[0;34m=\u001b[0m \u001b[0mlen\u001b[0m\u001b[0;34m(\u001b[0m\u001b[0mbatch_ids\u001b[0m\u001b[0;34m)\u001b[0m\u001b[0;34m\u001b[0m\u001b[0m\n\u001b[1;32m   1182\u001b[0m                     \u001b[0mcallbacks\u001b[0m\u001b[0;34m.\u001b[0m\u001b[0mon_batch_begin\u001b[0m\u001b[0;34m(\u001b[0m\u001b[0mbatch_index\u001b[0m\u001b[0;34m,\u001b[0m \u001b[0mbatch_logs\u001b[0m\u001b[0;34m)\u001b[0m\u001b[0;34m\u001b[0m\u001b[0m\n\u001b[0;32m-> 1183\u001b[0;31m                     \u001b[0mouts\u001b[0m \u001b[0;34m=\u001b[0m \u001b[0mf\u001b[0m\u001b[0;34m(\u001b[0m\u001b[0mins_batch\u001b[0m\u001b[0;34m)\u001b[0m\u001b[0;34m\u001b[0m\u001b[0m\n\u001b[0m\u001b[1;32m   1184\u001b[0m                     \u001b[0;32mif\u001b[0m \u001b[0;32mnot\u001b[0m \u001b[0misinstance\u001b[0m\u001b[0;34m(\u001b[0m\u001b[0mouts\u001b[0m\u001b[0;34m,\u001b[0m \u001b[0mlist\u001b[0m\u001b[0;34m)\u001b[0m\u001b[0;34m:\u001b[0m\u001b[0;34m\u001b[0m\u001b[0m\n\u001b[1;32m   1185\u001b[0m                         \u001b[0mouts\u001b[0m \u001b[0;34m=\u001b[0m \u001b[0;34m[\u001b[0m\u001b[0mouts\u001b[0m\u001b[0;34m]\u001b[0m\u001b[0;34m\u001b[0m\u001b[0m\n",
      "\u001b[0;32m/Users/shahab/anaconda/lib/python2.7/site-packages/keras/backend/tensorflow_backend.pyc\u001b[0m in \u001b[0;36m__call__\u001b[0;34m(self, inputs)\u001b[0m\n\u001b[1;32m   2271\u001b[0m         updated = session.run(self.outputs + [self.updates_op],\n\u001b[1;32m   2272\u001b[0m                               \u001b[0mfeed_dict\u001b[0m\u001b[0;34m=\u001b[0m\u001b[0mfeed_dict\u001b[0m\u001b[0;34m,\u001b[0m\u001b[0;34m\u001b[0m\u001b[0m\n\u001b[0;32m-> 2273\u001b[0;31m                               **self.session_kwargs)\n\u001b[0m\u001b[1;32m   2274\u001b[0m         \u001b[0;32mreturn\u001b[0m \u001b[0mupdated\u001b[0m\u001b[0;34m[\u001b[0m\u001b[0;34m:\u001b[0m\u001b[0mlen\u001b[0m\u001b[0;34m(\u001b[0m\u001b[0mself\u001b[0m\u001b[0;34m.\u001b[0m\u001b[0moutputs\u001b[0m\u001b[0;34m)\u001b[0m\u001b[0;34m]\u001b[0m\u001b[0;34m\u001b[0m\u001b[0m\n\u001b[1;32m   2275\u001b[0m \u001b[0;34m\u001b[0m\u001b[0m\n",
      "\u001b[0;32m/Users/shahab/anaconda/lib/python2.7/site-packages/tensorflow/python/client/session.pyc\u001b[0m in \u001b[0;36mrun\u001b[0;34m(self, fetches, feed_dict, options, run_metadata)\u001b[0m\n\u001b[1;32m    893\u001b[0m     \u001b[0;32mtry\u001b[0m\u001b[0;34m:\u001b[0m\u001b[0;34m\u001b[0m\u001b[0m\n\u001b[1;32m    894\u001b[0m       result = self._run(None, fetches, feed_dict, options_ptr,\n\u001b[0;32m--> 895\u001b[0;31m                          run_metadata_ptr)\n\u001b[0m\u001b[1;32m    896\u001b[0m       \u001b[0;32mif\u001b[0m \u001b[0mrun_metadata\u001b[0m\u001b[0;34m:\u001b[0m\u001b[0;34m\u001b[0m\u001b[0m\n\u001b[1;32m    897\u001b[0m         \u001b[0mproto_data\u001b[0m \u001b[0;34m=\u001b[0m \u001b[0mtf_session\u001b[0m\u001b[0;34m.\u001b[0m\u001b[0mTF_GetBuffer\u001b[0m\u001b[0;34m(\u001b[0m\u001b[0mrun_metadata_ptr\u001b[0m\u001b[0;34m)\u001b[0m\u001b[0;34m\u001b[0m\u001b[0m\n",
      "\u001b[0;32m/Users/shahab/anaconda/lib/python2.7/site-packages/tensorflow/python/client/session.pyc\u001b[0m in \u001b[0;36m_run\u001b[0;34m(self, handle, fetches, feed_dict, options, run_metadata)\u001b[0m\n\u001b[1;32m   1122\u001b[0m     \u001b[0;32mif\u001b[0m \u001b[0mfinal_fetches\u001b[0m \u001b[0;32mor\u001b[0m \u001b[0mfinal_targets\u001b[0m \u001b[0;32mor\u001b[0m \u001b[0;34m(\u001b[0m\u001b[0mhandle\u001b[0m \u001b[0;32mand\u001b[0m \u001b[0mfeed_dict_tensor\u001b[0m\u001b[0;34m)\u001b[0m\u001b[0;34m:\u001b[0m\u001b[0;34m\u001b[0m\u001b[0m\n\u001b[1;32m   1123\u001b[0m       results = self._do_run(handle, final_targets, final_fetches,\n\u001b[0;32m-> 1124\u001b[0;31m                              feed_dict_tensor, options, run_metadata)\n\u001b[0m\u001b[1;32m   1125\u001b[0m     \u001b[0;32melse\u001b[0m\u001b[0;34m:\u001b[0m\u001b[0;34m\u001b[0m\u001b[0m\n\u001b[1;32m   1126\u001b[0m       \u001b[0mresults\u001b[0m \u001b[0;34m=\u001b[0m \u001b[0;34m[\u001b[0m\u001b[0;34m]\u001b[0m\u001b[0;34m\u001b[0m\u001b[0m\n",
      "\u001b[0;32m/Users/shahab/anaconda/lib/python2.7/site-packages/tensorflow/python/client/session.pyc\u001b[0m in \u001b[0;36m_do_run\u001b[0;34m(self, handle, target_list, fetch_list, feed_dict, options, run_metadata)\u001b[0m\n\u001b[1;32m   1288\u001b[0m       \u001b[0;31m# pylint: enable=protected-access\u001b[0m\u001b[0;34m\u001b[0m\u001b[0;34m\u001b[0m\u001b[0m\n\u001b[1;32m   1289\u001b[0m     \u001b[0;32melse\u001b[0m\u001b[0;34m:\u001b[0m\u001b[0;34m\u001b[0m\u001b[0m\n\u001b[0;32m-> 1290\u001b[0;31m       \u001b[0mfeeds\u001b[0m \u001b[0;34m=\u001b[0m \u001b[0mdict\u001b[0m\u001b[0;34m(\u001b[0m\u001b[0;34m(\u001b[0m\u001b[0mcompat\u001b[0m\u001b[0;34m.\u001b[0m\u001b[0mas_bytes\u001b[0m\u001b[0;34m(\u001b[0m\u001b[0mt\u001b[0m\u001b[0;34m.\u001b[0m\u001b[0mname\u001b[0m\u001b[0;34m)\u001b[0m\u001b[0;34m,\u001b[0m \u001b[0mv\u001b[0m\u001b[0;34m)\u001b[0m \u001b[0;32mfor\u001b[0m \u001b[0mt\u001b[0m\u001b[0;34m,\u001b[0m \u001b[0mv\u001b[0m \u001b[0;32min\u001b[0m \u001b[0mfeed_dict\u001b[0m\u001b[0;34m.\u001b[0m\u001b[0mitems\u001b[0m\u001b[0;34m(\u001b[0m\u001b[0;34m)\u001b[0m\u001b[0;34m)\u001b[0m\u001b[0;34m\u001b[0m\u001b[0m\n\u001b[0m\u001b[1;32m   1291\u001b[0m       \u001b[0mfetches\u001b[0m \u001b[0;34m=\u001b[0m \u001b[0m_name_list\u001b[0m\u001b[0;34m(\u001b[0m\u001b[0mfetch_list\u001b[0m\u001b[0;34m)\u001b[0m\u001b[0;34m\u001b[0m\u001b[0m\n\u001b[1;32m   1292\u001b[0m       \u001b[0mtargets\u001b[0m \u001b[0;34m=\u001b[0m \u001b[0m_name_list\u001b[0m\u001b[0;34m(\u001b[0m\u001b[0mtarget_list\u001b[0m\u001b[0;34m)\u001b[0m\u001b[0;34m\u001b[0m\u001b[0m\n",
      "\u001b[0;32m/Users/shahab/anaconda/lib/python2.7/site-packages/tensorflow/python/client/session.pyc\u001b[0m in \u001b[0;36m<genexpr>\u001b[0;34m((t, v))\u001b[0m\n\u001b[1;32m   1288\u001b[0m       \u001b[0;31m# pylint: enable=protected-access\u001b[0m\u001b[0;34m\u001b[0m\u001b[0;34m\u001b[0m\u001b[0m\n\u001b[1;32m   1289\u001b[0m     \u001b[0;32melse\u001b[0m\u001b[0;34m:\u001b[0m\u001b[0;34m\u001b[0m\u001b[0m\n\u001b[0;32m-> 1290\u001b[0;31m       \u001b[0mfeeds\u001b[0m \u001b[0;34m=\u001b[0m \u001b[0mdict\u001b[0m\u001b[0;34m(\u001b[0m\u001b[0;34m(\u001b[0m\u001b[0mcompat\u001b[0m\u001b[0;34m.\u001b[0m\u001b[0mas_bytes\u001b[0m\u001b[0;34m(\u001b[0m\u001b[0mt\u001b[0m\u001b[0;34m.\u001b[0m\u001b[0mname\u001b[0m\u001b[0;34m)\u001b[0m\u001b[0;34m,\u001b[0m \u001b[0mv\u001b[0m\u001b[0;34m)\u001b[0m \u001b[0;32mfor\u001b[0m \u001b[0mt\u001b[0m\u001b[0;34m,\u001b[0m \u001b[0mv\u001b[0m \u001b[0;32min\u001b[0m \u001b[0mfeed_dict\u001b[0m\u001b[0;34m.\u001b[0m\u001b[0mitems\u001b[0m\u001b[0;34m(\u001b[0m\u001b[0;34m)\u001b[0m\u001b[0;34m)\u001b[0m\u001b[0;34m\u001b[0m\u001b[0m\n\u001b[0m\u001b[1;32m   1291\u001b[0m       \u001b[0mfetches\u001b[0m \u001b[0;34m=\u001b[0m \u001b[0m_name_list\u001b[0m\u001b[0;34m(\u001b[0m\u001b[0mfetch_list\u001b[0m\u001b[0;34m)\u001b[0m\u001b[0;34m\u001b[0m\u001b[0m\n\u001b[1;32m   1292\u001b[0m       \u001b[0mtargets\u001b[0m \u001b[0;34m=\u001b[0m \u001b[0m_name_list\u001b[0m\u001b[0;34m(\u001b[0m\u001b[0mtarget_list\u001b[0m\u001b[0;34m)\u001b[0m\u001b[0;34m\u001b[0m\u001b[0m\n",
      "\u001b[0;32m/Users/shahab/anaconda/lib/python2.7/site-packages/tensorflow/python/util/compat.pyc\u001b[0m in \u001b[0;36mas_bytes\u001b[0;34m(bytes_or_text, encoding)\u001b[0m\n\u001b[1;32m     58\u001b[0m   \"\"\"\n\u001b[1;32m     59\u001b[0m   \u001b[0;32mif\u001b[0m \u001b[0misinstance\u001b[0m\u001b[0;34m(\u001b[0m\u001b[0mbytes_or_text\u001b[0m\u001b[0;34m,\u001b[0m \u001b[0m_six\u001b[0m\u001b[0;34m.\u001b[0m\u001b[0mtext_type\u001b[0m\u001b[0;34m)\u001b[0m\u001b[0;34m:\u001b[0m\u001b[0;34m\u001b[0m\u001b[0m\n\u001b[0;32m---> 60\u001b[0;31m     \u001b[0;32mreturn\u001b[0m \u001b[0mbytes_or_text\u001b[0m\u001b[0;34m.\u001b[0m\u001b[0mencode\u001b[0m\u001b[0;34m(\u001b[0m\u001b[0mencoding\u001b[0m\u001b[0;34m)\u001b[0m\u001b[0;34m\u001b[0m\u001b[0m\n\u001b[0m\u001b[1;32m     61\u001b[0m   \u001b[0;32melif\u001b[0m \u001b[0misinstance\u001b[0m\u001b[0;34m(\u001b[0m\u001b[0mbytes_or_text\u001b[0m\u001b[0;34m,\u001b[0m \u001b[0mbytes\u001b[0m\u001b[0;34m)\u001b[0m\u001b[0;34m:\u001b[0m\u001b[0;34m\u001b[0m\u001b[0m\n\u001b[1;32m     62\u001b[0m     \u001b[0;32mreturn\u001b[0m \u001b[0mbytes_or_text\u001b[0m\u001b[0;34m\u001b[0m\u001b[0m\n",
      "\u001b[0;31mKeyboardInterrupt\u001b[0m: "
     ]
    }
   ],
   "source": [
    "model.fit(X, y, nb_epoch=10, shuffle=True, batch_size=32)  "
   ]
  },
  {
   "cell_type": "code",
   "execution_count": 14,
   "metadata": {},
   "outputs": [
    {
     "name": "stdout",
     "output_type": "stream",
     "text": [
      "Train Accuracy 0.204738095238\n"
     ]
    }
   ],
   "source": [
    "classes=model.predict_classes(X,verbose=0)  \n",
    "test_accuracy = np.mean(np.equal(np.argmax(y,1),classes))  \n",
    "print(\"Train Accuracy {}\".format(test_accuracy))"
   ]
  },
  {
   "cell_type": "markdown",
   "metadata": {},
   "source": [
    "### Q: Accuracy is too low. Can we improve?\n",
    "Hint: try a different optimizer (e.g. RMSprop)"
   ]
  },
  {
   "cell_type": "code",
   "execution_count": null,
   "metadata": {
    "collapsed": true
   },
   "outputs": [],
   "source": []
  },
  {
   "cell_type": "code",
   "execution_count": 20,
   "metadata": {
    "scrolled": true
   },
   "outputs": [
    {
     "name": "stderr",
     "output_type": "stream",
     "text": [
      "/Users/shahab/anaconda/lib/python2.7/site-packages/ipykernel_launcher.py:2: UserWarning: Update your `Conv2D` call to the Keras 2 API: `Conv2D(5, (3, 3), activation=\"relu\", input_shape=(28, 28, 1...)`\n",
      "  \n",
      "/Users/shahab/anaconda/lib/python2.7/site-packages/ipykernel_launcher.py:3: UserWarning: Update your `Conv2D` call to the Keras 2 API: `Conv2D(7, (3, 3), activation=\"relu\")`\n",
      "  This is separate from the ipykernel package so we can avoid doing imports until\n"
     ]
    }
   ],
   "source": [
    "model = Sequential()\n",
    "model.add(Convolution2D(5, 3, 3, activation='relu', input_shape=(28,28,1)))\n",
    "model.add(Convolution2D(7, 3, 3, activation='relu'))\n",
    "model.add(MaxPooling2D(pool_size=(2,2)))\n",
    "model.add(Dropout(0.25))\n",
    "model.add(Flatten())\n",
    "model.add(Dense(128, activation='relu'))\n",
    "model.add(Dropout(0.5))\n",
    "model.add(Dense(10, activation='softmax'))"
   ]
  },
  {
   "cell_type": "code",
   "execution_count": 21,
   "metadata": {},
   "outputs": [
    {
     "data": {
      "image/svg+xml": [
       "<svg height=\"728pt\" viewBox=\"0.00 0.00 388.00 728.00\" width=\"388pt\" xmlns=\"http://www.w3.org/2000/svg\" xmlns:xlink=\"http://www.w3.org/1999/xlink\">\n",
       "<g class=\"graph\" id=\"graph0\" transform=\"scale(1 1) rotate(0) translate(4 724)\">\n",
       "<title>G</title>\n",
       "<polygon fill=\"white\" points=\"-4,4 -4,-724 384,-724 384,4 -4,4\" stroke=\"none\"/>\n",
       "<!-- 4904712592 -->\n",
       "<g class=\"node\" id=\"node1\"><title>4904712592</title>\n",
       "<polygon fill=\"none\" points=\"17.5,-673 17.5,-719 362.5,-719 362.5,-673 17.5,-673\" stroke=\"black\"/>\n",
       "<text font-family=\"Times,serif\" font-size=\"14.00\" text-anchor=\"middle\" x=\"106\" y=\"-692.3\">conv2d_1_input: InputLayer</text>\n",
       "<polyline fill=\"none\" points=\"194.5,-673 194.5,-719 \" stroke=\"black\"/>\n",
       "<text font-family=\"Times,serif\" font-size=\"14.00\" text-anchor=\"middle\" x=\"222.5\" y=\"-703.8\">input:</text>\n",
       "<polyline fill=\"none\" points=\"194.5,-696 250.5,-696 \" stroke=\"black\"/>\n",
       "<text font-family=\"Times,serif\" font-size=\"14.00\" text-anchor=\"middle\" x=\"222.5\" y=\"-680.8\">output:</text>\n",
       "<polyline fill=\"none\" points=\"250.5,-673 250.5,-719 \" stroke=\"black\"/>\n",
       "<text font-family=\"Times,serif\" font-size=\"14.00\" text-anchor=\"middle\" x=\"306.5\" y=\"-703.8\">(None, 28, 28, 1)</text>\n",
       "<polyline fill=\"none\" points=\"250.5,-696 362.5,-696 \" stroke=\"black\"/>\n",
       "<text font-family=\"Times,serif\" font-size=\"14.00\" text-anchor=\"middle\" x=\"306.5\" y=\"-680.8\">(None, 28, 28, 1)</text>\n",
       "</g>\n",
       "<!-- 4926754640 -->\n",
       "<g class=\"node\" id=\"node2\"><title>4926754640</title>\n",
       "<polygon fill=\"none\" points=\"42.5,-589 42.5,-635 337.5,-635 337.5,-589 42.5,-589\" stroke=\"black\"/>\n",
       "<text font-family=\"Times,serif\" font-size=\"14.00\" text-anchor=\"middle\" x=\"106\" y=\"-608.3\">conv2d_1: Conv2D</text>\n",
       "<polyline fill=\"none\" points=\"169.5,-589 169.5,-635 \" stroke=\"black\"/>\n",
       "<text font-family=\"Times,serif\" font-size=\"14.00\" text-anchor=\"middle\" x=\"197.5\" y=\"-619.8\">input:</text>\n",
       "<polyline fill=\"none\" points=\"169.5,-612 225.5,-612 \" stroke=\"black\"/>\n",
       "<text font-family=\"Times,serif\" font-size=\"14.00\" text-anchor=\"middle\" x=\"197.5\" y=\"-596.8\">output:</text>\n",
       "<polyline fill=\"none\" points=\"225.5,-589 225.5,-635 \" stroke=\"black\"/>\n",
       "<text font-family=\"Times,serif\" font-size=\"14.00\" text-anchor=\"middle\" x=\"281.5\" y=\"-619.8\">(None, 28, 28, 1)</text>\n",
       "<polyline fill=\"none\" points=\"225.5,-612 337.5,-612 \" stroke=\"black\"/>\n",
       "<text font-family=\"Times,serif\" font-size=\"14.00\" text-anchor=\"middle\" x=\"281.5\" y=\"-596.8\">(None, 26, 26, 5)</text>\n",
       "</g>\n",
       "<!-- 4904712592&#45;&gt;4926754640 -->\n",
       "<g class=\"edge\" id=\"edge1\"><title>4904712592-&gt;4926754640</title>\n",
       "<path d=\"M190,-672.593C190,-664.118 190,-654.297 190,-645.104\" fill=\"none\" stroke=\"black\"/>\n",
       "<polygon fill=\"black\" points=\"193.5,-645.096 190,-635.096 186.5,-645.096 193.5,-645.096\" stroke=\"black\"/>\n",
       "</g>\n",
       "<!-- 4926754704 -->\n",
       "<g class=\"node\" id=\"node3\"><title>4926754704</title>\n",
       "<polygon fill=\"none\" points=\"42.5,-505 42.5,-551 337.5,-551 337.5,-505 42.5,-505\" stroke=\"black\"/>\n",
       "<text font-family=\"Times,serif\" font-size=\"14.00\" text-anchor=\"middle\" x=\"106\" y=\"-524.3\">conv2d_2: Conv2D</text>\n",
       "<polyline fill=\"none\" points=\"169.5,-505 169.5,-551 \" stroke=\"black\"/>\n",
       "<text font-family=\"Times,serif\" font-size=\"14.00\" text-anchor=\"middle\" x=\"197.5\" y=\"-535.8\">input:</text>\n",
       "<polyline fill=\"none\" points=\"169.5,-528 225.5,-528 \" stroke=\"black\"/>\n",
       "<text font-family=\"Times,serif\" font-size=\"14.00\" text-anchor=\"middle\" x=\"197.5\" y=\"-512.8\">output:</text>\n",
       "<polyline fill=\"none\" points=\"225.5,-505 225.5,-551 \" stroke=\"black\"/>\n",
       "<text font-family=\"Times,serif\" font-size=\"14.00\" text-anchor=\"middle\" x=\"281.5\" y=\"-535.8\">(None, 26, 26, 5)</text>\n",
       "<polyline fill=\"none\" points=\"225.5,-528 337.5,-528 \" stroke=\"black\"/>\n",
       "<text font-family=\"Times,serif\" font-size=\"14.00\" text-anchor=\"middle\" x=\"281.5\" y=\"-512.8\">(None, 24, 24, 7)</text>\n",
       "</g>\n",
       "<!-- 4926754640&#45;&gt;4926754704 -->\n",
       "<g class=\"edge\" id=\"edge2\"><title>4926754640-&gt;4926754704</title>\n",
       "<path d=\"M190,-588.593C190,-580.118 190,-570.297 190,-561.104\" fill=\"none\" stroke=\"black\"/>\n",
       "<polygon fill=\"black\" points=\"193.5,-561.096 190,-551.096 186.5,-561.096 193.5,-561.096\" stroke=\"black\"/>\n",
       "</g>\n",
       "<!-- 4924642960 -->\n",
       "<g class=\"node\" id=\"node4\"><title>4924642960</title>\n",
       "<polygon fill=\"none\" points=\"0,-421 0,-467 380,-467 380,-421 0,-421\" stroke=\"black\"/>\n",
       "<text font-family=\"Times,serif\" font-size=\"14.00\" text-anchor=\"middle\" x=\"106\" y=\"-440.3\">max_pooling2d_1: MaxPooling2D</text>\n",
       "<polyline fill=\"none\" points=\"212,-421 212,-467 \" stroke=\"black\"/>\n",
       "<text font-family=\"Times,serif\" font-size=\"14.00\" text-anchor=\"middle\" x=\"240\" y=\"-451.8\">input:</text>\n",
       "<polyline fill=\"none\" points=\"212,-444 268,-444 \" stroke=\"black\"/>\n",
       "<text font-family=\"Times,serif\" font-size=\"14.00\" text-anchor=\"middle\" x=\"240\" y=\"-428.8\">output:</text>\n",
       "<polyline fill=\"none\" points=\"268,-421 268,-467 \" stroke=\"black\"/>\n",
       "<text font-family=\"Times,serif\" font-size=\"14.00\" text-anchor=\"middle\" x=\"324\" y=\"-451.8\">(None, 24, 24, 7)</text>\n",
       "<polyline fill=\"none\" points=\"268,-444 380,-444 \" stroke=\"black\"/>\n",
       "<text font-family=\"Times,serif\" font-size=\"14.00\" text-anchor=\"middle\" x=\"324\" y=\"-428.8\">(None, 12, 12, 7)</text>\n",
       "</g>\n",
       "<!-- 4926754704&#45;&gt;4924642960 -->\n",
       "<g class=\"edge\" id=\"edge3\"><title>4926754704-&gt;4924642960</title>\n",
       "<path d=\"M190,-504.593C190,-496.118 190,-486.297 190,-477.104\" fill=\"none\" stroke=\"black\"/>\n",
       "<polygon fill=\"black\" points=\"193.5,-477.096 190,-467.096 186.5,-477.096 193.5,-477.096\" stroke=\"black\"/>\n",
       "</g>\n",
       "<!-- 4926725840 -->\n",
       "<g class=\"node\" id=\"node5\"><title>4926725840</title>\n",
       "<polygon fill=\"none\" points=\"42,-337 42,-383 338,-383 338,-337 42,-337\" stroke=\"black\"/>\n",
       "<text font-family=\"Times,serif\" font-size=\"14.00\" text-anchor=\"middle\" x=\"106\" y=\"-356.3\">dropout_1: Dropout</text>\n",
       "<polyline fill=\"none\" points=\"170,-337 170,-383 \" stroke=\"black\"/>\n",
       "<text font-family=\"Times,serif\" font-size=\"14.00\" text-anchor=\"middle\" x=\"198\" y=\"-367.8\">input:</text>\n",
       "<polyline fill=\"none\" points=\"170,-360 226,-360 \" stroke=\"black\"/>\n",
       "<text font-family=\"Times,serif\" font-size=\"14.00\" text-anchor=\"middle\" x=\"198\" y=\"-344.8\">output:</text>\n",
       "<polyline fill=\"none\" points=\"226,-337 226,-383 \" stroke=\"black\"/>\n",
       "<text font-family=\"Times,serif\" font-size=\"14.00\" text-anchor=\"middle\" x=\"282\" y=\"-367.8\">(None, 12, 12, 7)</text>\n",
       "<polyline fill=\"none\" points=\"226,-360 338,-360 \" stroke=\"black\"/>\n",
       "<text font-family=\"Times,serif\" font-size=\"14.00\" text-anchor=\"middle\" x=\"282\" y=\"-344.8\">(None, 12, 12, 7)</text>\n",
       "</g>\n",
       "<!-- 4924642960&#45;&gt;4926725840 -->\n",
       "<g class=\"edge\" id=\"edge4\"><title>4924642960-&gt;4926725840</title>\n",
       "<path d=\"M190,-420.593C190,-412.118 190,-402.297 190,-393.104\" fill=\"none\" stroke=\"black\"/>\n",
       "<polygon fill=\"black\" points=\"193.5,-393.096 190,-383.096 186.5,-393.096 193.5,-393.096\" stroke=\"black\"/>\n",
       "</g>\n",
       "<!-- 4924924624 -->\n",
       "<g class=\"node\" id=\"node6\"><title>4924924624</title>\n",
       "<polygon fill=\"none\" points=\"50,-253 50,-299 330,-299 330,-253 50,-253\" stroke=\"black\"/>\n",
       "<text font-family=\"Times,serif\" font-size=\"14.00\" text-anchor=\"middle\" x=\"106\" y=\"-272.3\">flatten_1: Flatten</text>\n",
       "<polyline fill=\"none\" points=\"162,-253 162,-299 \" stroke=\"black\"/>\n",
       "<text font-family=\"Times,serif\" font-size=\"14.00\" text-anchor=\"middle\" x=\"190\" y=\"-283.8\">input:</text>\n",
       "<polyline fill=\"none\" points=\"162,-276 218,-276 \" stroke=\"black\"/>\n",
       "<text font-family=\"Times,serif\" font-size=\"14.00\" text-anchor=\"middle\" x=\"190\" y=\"-260.8\">output:</text>\n",
       "<polyline fill=\"none\" points=\"218,-253 218,-299 \" stroke=\"black\"/>\n",
       "<text font-family=\"Times,serif\" font-size=\"14.00\" text-anchor=\"middle\" x=\"274\" y=\"-283.8\">(None, 12, 12, 7)</text>\n",
       "<polyline fill=\"none\" points=\"218,-276 330,-276 \" stroke=\"black\"/>\n",
       "<text font-family=\"Times,serif\" font-size=\"14.00\" text-anchor=\"middle\" x=\"274\" y=\"-260.8\">(None, 1008)</text>\n",
       "</g>\n",
       "<!-- 4926725840&#45;&gt;4924924624 -->\n",
       "<g class=\"edge\" id=\"edge5\"><title>4926725840-&gt;4924924624</title>\n",
       "<path d=\"M190,-336.593C190,-328.118 190,-318.297 190,-309.104\" fill=\"none\" stroke=\"black\"/>\n",
       "<polygon fill=\"black\" points=\"193.5,-309.096 190,-299.096 186.5,-309.096 193.5,-309.096\" stroke=\"black\"/>\n",
       "</g>\n",
       "<!-- 4924731152 -->\n",
       "<g class=\"node\" id=\"node7\"><title>4924731152</title>\n",
       "<polygon fill=\"none\" points=\"64,-169 64,-215 316,-215 316,-169 64,-169\" stroke=\"black\"/>\n",
       "<text font-family=\"Times,serif\" font-size=\"14.00\" text-anchor=\"middle\" x=\"116.5\" y=\"-188.3\">dense_5: Dense</text>\n",
       "<polyline fill=\"none\" points=\"169,-169 169,-215 \" stroke=\"black\"/>\n",
       "<text font-family=\"Times,serif\" font-size=\"14.00\" text-anchor=\"middle\" x=\"197\" y=\"-199.8\">input:</text>\n",
       "<polyline fill=\"none\" points=\"169,-192 225,-192 \" stroke=\"black\"/>\n",
       "<text font-family=\"Times,serif\" font-size=\"14.00\" text-anchor=\"middle\" x=\"197\" y=\"-176.8\">output:</text>\n",
       "<polyline fill=\"none\" points=\"225,-169 225,-215 \" stroke=\"black\"/>\n",
       "<text font-family=\"Times,serif\" font-size=\"14.00\" text-anchor=\"middle\" x=\"270.5\" y=\"-199.8\">(None, 1008)</text>\n",
       "<polyline fill=\"none\" points=\"225,-192 316,-192 \" stroke=\"black\"/>\n",
       "<text font-family=\"Times,serif\" font-size=\"14.00\" text-anchor=\"middle\" x=\"270.5\" y=\"-176.8\">(None, 128)</text>\n",
       "</g>\n",
       "<!-- 4924924624&#45;&gt;4924731152 -->\n",
       "<g class=\"edge\" id=\"edge6\"><title>4924924624-&gt;4924731152</title>\n",
       "<path d=\"M190,-252.593C190,-244.118 190,-234.297 190,-225.104\" fill=\"none\" stroke=\"black\"/>\n",
       "<polygon fill=\"black\" points=\"193.5,-225.096 190,-215.096 186.5,-225.096 193.5,-225.096\" stroke=\"black\"/>\n",
       "</g>\n",
       "<!-- 4925016144 -->\n",
       "<g class=\"node\" id=\"node8\"><title>4925016144</title>\n",
       "<polygon fill=\"none\" points=\"56,-85 56,-131 324,-131 324,-85 56,-85\" stroke=\"black\"/>\n",
       "<text font-family=\"Times,serif\" font-size=\"14.00\" text-anchor=\"middle\" x=\"120\" y=\"-104.3\">dropout_2: Dropout</text>\n",
       "<polyline fill=\"none\" points=\"184,-85 184,-131 \" stroke=\"black\"/>\n",
       "<text font-family=\"Times,serif\" font-size=\"14.00\" text-anchor=\"middle\" x=\"212\" y=\"-115.8\">input:</text>\n",
       "<polyline fill=\"none\" points=\"184,-108 240,-108 \" stroke=\"black\"/>\n",
       "<text font-family=\"Times,serif\" font-size=\"14.00\" text-anchor=\"middle\" x=\"212\" y=\"-92.8\">output:</text>\n",
       "<polyline fill=\"none\" points=\"240,-85 240,-131 \" stroke=\"black\"/>\n",
       "<text font-family=\"Times,serif\" font-size=\"14.00\" text-anchor=\"middle\" x=\"282\" y=\"-115.8\">(None, 128)</text>\n",
       "<polyline fill=\"none\" points=\"240,-108 324,-108 \" stroke=\"black\"/>\n",
       "<text font-family=\"Times,serif\" font-size=\"14.00\" text-anchor=\"middle\" x=\"282\" y=\"-92.8\">(None, 128)</text>\n",
       "</g>\n",
       "<!-- 4924731152&#45;&gt;4925016144 -->\n",
       "<g class=\"edge\" id=\"edge7\"><title>4924731152-&gt;4925016144</title>\n",
       "<path d=\"M190,-168.593C190,-160.118 190,-150.297 190,-141.104\" fill=\"none\" stroke=\"black\"/>\n",
       "<polygon fill=\"black\" points=\"193.5,-141.096 190,-131.096 186.5,-141.096 193.5,-141.096\" stroke=\"black\"/>\n",
       "</g>\n",
       "<!-- 4926776080 -->\n",
       "<g class=\"node\" id=\"node9\"><title>4926776080</title>\n",
       "<polygon fill=\"none\" points=\"67.5,-1 67.5,-47 312.5,-47 312.5,-1 67.5,-1\" stroke=\"black\"/>\n",
       "<text font-family=\"Times,serif\" font-size=\"14.00\" text-anchor=\"middle\" x=\"120\" y=\"-20.3\">dense_6: Dense</text>\n",
       "<polyline fill=\"none\" points=\"172.5,-1 172.5,-47 \" stroke=\"black\"/>\n",
       "<text font-family=\"Times,serif\" font-size=\"14.00\" text-anchor=\"middle\" x=\"200.5\" y=\"-31.8\">input:</text>\n",
       "<polyline fill=\"none\" points=\"172.5,-24 228.5,-24 \" stroke=\"black\"/>\n",
       "<text font-family=\"Times,serif\" font-size=\"14.00\" text-anchor=\"middle\" x=\"200.5\" y=\"-8.8\">output:</text>\n",
       "<polyline fill=\"none\" points=\"228.5,-1 228.5,-47 \" stroke=\"black\"/>\n",
       "<text font-family=\"Times,serif\" font-size=\"14.00\" text-anchor=\"middle\" x=\"270.5\" y=\"-31.8\">(None, 128)</text>\n",
       "<polyline fill=\"none\" points=\"228.5,-24 312.5,-24 \" stroke=\"black\"/>\n",
       "<text font-family=\"Times,serif\" font-size=\"14.00\" text-anchor=\"middle\" x=\"270.5\" y=\"-8.8\">(None, 10)</text>\n",
       "</g>\n",
       "<!-- 4925016144&#45;&gt;4926776080 -->\n",
       "<g class=\"edge\" id=\"edge8\"><title>4925016144-&gt;4926776080</title>\n",
       "<path d=\"M190,-84.5931C190,-76.1177 190,-66.2974 190,-57.104\" fill=\"none\" stroke=\"black\"/>\n",
       "<polygon fill=\"black\" points=\"193.5,-57.0958 190,-47.0959 186.5,-57.0959 193.5,-57.0958\" stroke=\"black\"/>\n",
       "</g>\n",
       "</g>\n",
       "</svg>"
      ],
      "text/plain": [
       "<IPython.core.display.SVG object>"
      ]
     },
     "execution_count": 21,
     "metadata": {},
     "output_type": "execute_result"
    }
   ],
   "source": [
    "SVG(model_to_dot(model, show_shapes=True, show_layer_names=True).create(prog='dot', format='svg'))"
   ]
  },
  {
   "cell_type": "code",
   "execution_count": 22,
   "metadata": {
    "collapsed": true
   },
   "outputs": [],
   "source": [
    "model.compile(loss='categorical_crossentropy',\n",
    "              optimizer='adam',\n",
    "              metrics=['accuracy'])"
   ]
  },
  {
   "cell_type": "code",
   "execution_count": 23,
   "metadata": {},
   "outputs": [
    {
     "name": "stdout",
     "output_type": "stream",
     "text": [
      "Epoch 1/10\n",
      "42000/42000 [==============================] - 22s - loss: 5.0732 - acc: 0.6003    \n",
      "Epoch 2/10\n",
      "42000/42000 [==============================] - 22s - loss: 0.3334 - acc: 0.9020    \n",
      "Epoch 3/10\n",
      "42000/42000 [==============================] - 22s - loss: 0.2299 - acc: 0.9311    \n",
      "Epoch 4/10\n",
      "42000/42000 [==============================] - 22s - loss: 0.1843 - acc: 0.9437    \n",
      "Epoch 5/10\n",
      "42000/42000 [==============================] - 22s - loss: 0.1541 - acc: 0.9529    \n",
      "Epoch 6/10\n",
      "42000/42000 [==============================] - 22s - loss: 0.1351 - acc: 0.9589    \n",
      "Epoch 7/10\n",
      "42000/42000 [==============================] - 22s - loss: 0.1229 - acc: 0.9621    \n",
      "Epoch 8/10\n",
      "42000/42000 [==============================] - 22s - loss: 0.1095 - acc: 0.9664    \n",
      "Epoch 9/10\n",
      "42000/42000 [==============================] - 22s - loss: 0.1045 - acc: 0.9682    \n",
      "Epoch 10/10\n",
      "42000/42000 [==============================] - 22s - loss: 0.0949 - acc: 0.9700    \n"
     ]
    },
    {
     "data": {
      "text/plain": [
       "<keras.callbacks.History at 0x126472850>"
      ]
     },
     "execution_count": 23,
     "metadata": {},
     "output_type": "execute_result"
    }
   ],
   "source": [
    "model.fit(X.reshape(len(X),28,28,1), y, \n",
    "          batch_size=32, nb_epoch=10, verbose=1)"
   ]
  },
  {
   "cell_type": "markdown",
   "metadata": {},
   "source": [
    "### Q: What we measured was training accuracy. What's the test accuracy?"
   ]
  },
  {
   "cell_type": "code",
   "execution_count": null,
   "metadata": {
    "collapsed": true
   },
   "outputs": [],
   "source": []
  },
  {
   "cell_type": "markdown",
   "metadata": {},
   "source": [
    "### Q: How would batch_size, and epoch effect accuracy?"
   ]
  },
  {
   "cell_type": "code",
   "execution_count": null,
   "metadata": {
    "collapsed": true
   },
   "outputs": [],
   "source": []
  }
 ],
 "metadata": {
  "kernelspec": {
   "display_name": "Python 2",
   "language": "python",
   "name": "python2"
  },
  "language_info": {
   "codemirror_mode": {
    "name": "ipython",
    "version": 2
   },
   "file_extension": ".py",
   "mimetype": "text/x-python",
   "name": "python",
   "nbconvert_exporter": "python",
   "pygments_lexer": "ipython2",
   "version": "2.7.13"
  }
 },
 "nbformat": 4,
 "nbformat_minor": 2
}
